{
 "cells": [
  {
   "cell_type": "markdown",
   "id": "7d139eed",
   "metadata": {
    "id": "9SaUhrmqNBTl"
   },
   "source": [
    "## SQL 에이전트 구축하기 \n",
    "\n",
    "**LangChain 에이전트**를 사용하여 **SQL 데이터베이스에 대한 질문에 답변할 수 있는 에이전트**를 만드는 방법을 배웁니다.\n",
    "\n",
    "---\n",
    "\n",
    "### 에이전트의 전체 동작 흐름\n",
    "\n",
    "1. 데이터베이스에서 사용 가능한 **테이블과 스키마 정보**를 가져옵니다.\n",
    "2. 질문과 관련된 **적절한 테이블을 선택**합니다.\n",
    "3. 선택된 테이블의 **스키마(schema)** 를 조회합니다.\n",
    "4. 질문과 스키마 정보를 기반으로 **SQL 쿼리를 생성**합니다.\n",
    "5. **LLM을 이용해 쿼리를 검증**하고, 흔한 오류가 있는지 확인합니다.\n",
    "6. 쿼리를 실행하고 **결과를 반환**합니다.\n",
    "7. 데이터베이스 엔진이 반환한 오류를 분석해 **쿼리를 수정**하고 재시도합니다.\n",
    "8. 최종적으로 **결과를 바탕으로 자연어 응답을 생성**합니다.\n",
    "\n",
    "---\n",
    "\n",
    "### 보안 주의 사항\n",
    "\n",
    "SQL 데이터베이스용 Q&A 시스템을 구축할 때는\n",
    "**모델이 자동으로 SQL 쿼리를 생성하고 실행**하므로 본질적인 위험이 있습니다.\n",
    "따라서 다음을 반드시 지켜야 합니다.\n",
    "\n",
    "* 데이터베이스 연결 권한을 **에이전트가 필요한 범위로 최소화(scope 최소화)**\n",
    "* 권한을 제한하면 위험이 완전히 사라지지는 않지만, **피해 범위를 줄일 수 있습니다.**\n",
    "\n",
    "---\n",
    "\n",
    "다음 개념들을 다룹니다:\n",
    "\n",
    "* **SQL 데이터베이스에서 데이터를 읽어오는 도구 (Tools for reading from SQL databases)**\n",
    "* **LangChain 에이전트 (LangChain agents)**\n",
    "* **Human-in-the-loop 프로세스**\n",
    "  → 사람이 중간에 개입하여 쿼리나 결과를 검증하는 안전 장치\n",
    "\n",
    "\n",
    "**요약:**  \n",
    "LangChain을 이용해 **SQL 질의응답(Q&A)** 시스템을 구축하고,  \n",
    "모델이 생성한 SQL을 실행·검증·보정하며,  \n",
    "결과를 기반으로 **자연스러운 대답을 생성하는 에이전트**를 만드는 것입니다."
   ]
  },
  {
   "cell_type": "code",
   "execution_count": 3,
   "id": "09ff0625",
   "metadata": {},
   "outputs": [
    {
     "data": {
      "text/plain": [
       "True"
      ]
     },
     "execution_count": 3,
     "metadata": {},
     "output_type": "execute_result"
    }
   ],
   "source": [
    "from dotenv import load_dotenv\n",
    "load_dotenv()"
   ]
  },
  {
   "cell_type": "code",
   "execution_count": 4,
   "id": "15f0adc1-7725-44fd-86b5-7c3d5c6ead78",
   "metadata": {},
   "outputs": [],
   "source": [
    "from langchain.chat_models import init_chat_model\n",
    "\n",
    "model = init_chat_model(\"gpt-5-nano\", model_provider=\"openai\")\n",
    "# model = init_chat_model(\"gemini-2.5-flash\", model_provider=\"google_genai\")"
   ]
  },
  {
   "cell_type": "markdown",
   "id": "c90169e7",
   "metadata": {
    "id": "PxA5MLayNBTo"
   },
   "source": [
    "### **샘플 데이터**\n",
    "\n",
    "이 예제에서는 **SQLite** 연결을 사용하여 **Chinook 데이터베이스**를 활용합니다.  \n",
    "Chinook 데이터베이스는 **디지털 미디어 스토어**를 나타내는 샘플 데이터베이스입니다.\n",
    "\n",
    "---\n",
    "\n",
    "##  **Chinook 데이터베이스 설치**\n",
    "\n",
    "[설치 가이드](https://database.guide/2-sample-databases-sqlite/)를 따라 `Chinook.db`를 현재 노트북과 같은 디렉터리에 생성합니다.  \n",
    "\n",
    "또는, 아래 명령어를 사용하여 커맨드 라인에서 데이터베이스를 다운로드하고 빌드할 수 있습니다:\n",
    "\n",
    "```bash\n",
    "curl -s https://raw.githubusercontent.com/lerocha/chinook-database/master/ChinookDatabase/DataSources/Chinook_Sqlite.sql | sqlite3 Chinook.db\n",
    "```\n",
    "\n",
    "### **설명:**  \n",
    "1. `curl` 명령어를 사용하여 Chinook 데이터베이스 SQL 스크립트를 다운로드합니다.  \n",
    "2. `sqlite3`를 사용해 SQL 스크립트를 실행하고 `Chinook.db` 파일을 생성합니다.\n",
    "\n",
    "---\n",
    "이 데이터베이스는 **SQLAlchemy 기반의 `SQLDatabase` 클래스**를 사용하여 상호작용할 수 있습니다."
   ]
  },
  {
   "cell_type": "code",
   "execution_count": 5,
   "id": "5e2263b0",
   "metadata": {},
   "outputs": [],
   "source": [
    "# SQLite3 설치 in Colab\n",
    "# !sudo apt-get update\n",
    "# !sudo apt-get install sqlite3"
   ]
  },
  {
   "cell_type": "code",
   "execution_count": 6,
   "id": "8d608d36",
   "metadata": {},
   "outputs": [],
   "source": [
    "# Chinook db 설치 in Colab\n",
    "# !curl -s https://raw.githubusercontent.com/lerocha/chinook-database/master/ChinookDatabase/DataSources/Chinook_Sqlite.sql | sqlite3 Chinook.db"
   ]
  },
  {
   "cell_type": "code",
   "execution_count": 7,
   "id": "890e073d",
   "metadata": {},
   "outputs": [
    {
     "name": "stdout",
     "output_type": "stream",
     "text": [
      "sqlite\n",
      "['Album', 'Artist', 'Customer', 'Employee', 'Genre', 'Invoice', 'InvoiceLine', 'MediaType', 'Playlist', 'PlaylistTrack', 'Track']\n"
     ]
    },
    {
     "data": {
      "text/plain": [
       "\"[(1, 'AC/DC'), (2, 'Accept'), (3, 'Aerosmith'), (4, 'Alanis Morissette'), (5, 'Alice In Chains'), (6, 'Antônio Carlos Jobim'), (7, 'Apocalyptica'), (8, 'Audioslave'), (9, 'BackBeat'), (10, 'Billy Cobham')]\""
      ]
     },
     "execution_count": 7,
     "metadata": {},
     "output_type": "execute_result"
    }
   ],
   "source": [
    "from langchain_community.utilities import SQLDatabase\n",
    "\n",
    "# SQLite 데이터베이스 파일 'Chinook.db'에 연결합니다.\n",
    "db = SQLDatabase.from_uri(\"sqlite:///Chinook.db\")\n",
    "\n",
    "# 사용 중인 데이터베이스의 SQL 방언(SQL Dialect)을 출력합니다.\n",
    "print(db.dialect)\n",
    "\n",
    "# 데이터베이스에서 사용할 수 있는 테이블 이름들을 출력합니다.\n",
    "print(db.get_usable_table_names())\n",
    "\n",
    "# Artist 테이블의 상위 10개 레코드를 조회합니다\n",
    "result = db.run(\"SELECT * FROM Artist LIMIT 10;\")\n",
    "result"
   ]
  },
  {
   "cell_type": "markdown",
   "id": "b6b1f6a4-2f0b-48c1-902a-3fb6e37c24eb",
   "metadata": {},
   "source": [
    "## **데이터베이스 상호작용 도구 추가하기**\n",
    "\n",
    "langchain_community 패키지에서 제공하는 SQLDatabase 래퍼(wrapper) 를 사용하면 SQL 데이터베이스와 쉽게 상호작용할 수 있습니다.\n",
    "\n",
    "이 래퍼는 SQL 쿼리 실행 및 결과 조회(fetch) 를 위한 간단하고 일관된 인터페이스를 제공합니다."
   ]
  },
  {
   "cell_type": "code",
   "execution_count": 8,
   "id": "02ebdaec-aa21-4d83-91c9-969ea553fad4",
   "metadata": {},
   "outputs": [
    {
     "name": "stdout",
     "output_type": "stream",
     "text": [
      "sql_db_query: Input to this tool is a detailed and correct SQL query, output is a result from the database. If the query is not correct, an error message will be returned. If an error is returned, rewrite the query, check the query, and try again. If you encounter an issue with Unknown column 'xxxx' in 'field list', use sql_db_schema to query the correct table fields.\n",
      "\n",
      "sql_db_schema: Input to this tool is a comma-separated list of tables, output is the schema and sample rows for those tables. Be sure that the tables actually exist by calling sql_db_list_tables first! Example Input: table1, table2, table3\n",
      "\n",
      "sql_db_list_tables: Input is an empty string, output is a comma-separated list of tables in the database.\n",
      "\n",
      "sql_db_query_checker: Use this tool to double check if your query is correct before executing it. Always use this tool before executing a query with sql_db_query!\n",
      "\n"
     ]
    }
   ],
   "source": [
    "from langchain_community.agent_toolkits import SQLDatabaseToolkit\n",
    "\n",
    "toolkit = SQLDatabaseToolkit(db=db, llm=model)\n",
    "\n",
    "tools = toolkit.get_tools()\n",
    "\n",
    "for tool in tools:\n",
    "    print(f\"{tool.name}: {tool.description}\\n\")"
   ]
  },
  {
   "cell_type": "markdown",
   "id": "f398ae45-4c57-4e26-bbb6-ae1cd26824cc",
   "metadata": {},
   "source": [
    "### **Agent 생성**\n",
    "create_agent를 사용하면 최소한의 코드로 ReAct 에이전트를 만들 수 있습니다.  \n",
    "이 에이전트는 사용자의 요청을 해석하고, 그에 맞는 SQL 명령(SQL command) 을 생성하며, 등록된 도구(tools) 를 이용해 명령을 실행합니다. \n",
    "\n",
    "### 동작 과정\n",
    "- 사용자의 질의(request)를 해석합니다.  \n",
    "- SQL 쿼리를 생성합니다.  \n",
    "- 등록된 도구(tools)가 해당 SQL 명령을 실행합니다.  \n",
    "- 만약 SQL 실행 중 오류가 발생하면, 오류 메시지(error message) 를 모델로 다시 전달합니다.  \n",
    "- 모델은 원래 질의 + 오류 메시지를 함께 참고하여 새로운 SQL 쿼리를 생성합니다.  \n",
    "- 이 과정은 모델이 올바른 SQL 명령을 생성할 때까지 또는 지정된 반복 횟수에 도달할 때까지 계속됩니다."
   ]
  },
  {
   "cell_type": "code",
   "execution_count": 9,
   "id": "936f686b-3c89-4148-83b2-01fdfabc5e14",
   "metadata": {},
   "outputs": [],
   "source": [
    "system_prompt = \"\"\"\n",
    "당신은 SQL 데이터베이스와 상호작용하도록 설계된 에이전트입니다.\n",
    "사용자로부터 질문을 입력받으면, 실행 가능한 {dialect} 구문으로\n",
    "문법적으로 올바른 SQL 쿼리를 생성하세요.\n",
    "\n",
    "그 후 쿼리를 실행한 결과를 확인하고, 그에 기반하여 답변을 반환하세요.\n",
    "사용자가 명시적으로 원하는 예시 개수를 지정하지 않은 경우,\n",
    "항상 최대 {top_k}개의 결과만 반환하도록 쿼리를 제한해야 합니다.\n",
    "\n",
    "데이터베이스에서 가장 흥미로운 예시를 보여주기 위해,\n",
    "관련 있는 열(column)을 기준으로 결과를 정렬할 수 있습니다.\n",
    "특정 테이블의 모든 열을 조회하지 말고, 질문에 필요한 관련 열만 선택하세요.\n",
    "\n",
    "쿼리를 실행하기 전에 반드시 구문을 두 번 확인하세요.\n",
    "만약 쿼리 실행 중 오류가 발생하면, 쿼리를 다시 작성하고 재시도해야 합니다.\n",
    "\n",
    "데이터베이스에 DML 문(INSERT, UPDATE, DELETE, DROP 등)을\n",
    "절대 실행하지 마세요.\n",
    "\n",
    "항상 데이터베이스에 어떤 테이블들이 존재하는지 먼저 확인한 뒤\n",
    "어떤 데이터를 조회할 수 있는지 파악해야 합니다.\n",
    "이 단계를 건너뛰지 마세요.\n",
    "\n",
    "그 다음, 가장 관련성 높은 테이블의 스키마(schema)를 조회하세요.\n",
    "\"\"\".format(\n",
    "    dialect=db.dialect,\n",
    "    top_k=5,\n",
    ")"
   ]
  },
  {
   "cell_type": "code",
   "execution_count": 11,
   "id": "4dc77b6f-6b1b-4642-89cb-5468d6234422",
   "metadata": {},
   "outputs": [
    {
     "data": {
      "image/png": "[encoded data removed]",
      "text/plain": [
       "<langgraph.graph.state.CompiledStateGraph object at 0x0000023555FAC7D0>"
      ]
     },
     "execution_count": 11,
     "metadata": {},
     "output_type": "execute_result"
    }
   ],
   "source": [
    "from langchain.agents import create_agent\n",
    "\n",
    "agent = create_agent(\n",
    "    model,\n",
    "    tools,\n",
    "    system_prompt=system_prompt,\n",
    ")\n",
    "agent"
   ]
  },
  {
   "cell_type": "code",
   "execution_count": 12,
   "id": "2a434b25-588d-4524-85fd-f1039b48aeeb",
   "metadata": {
    "scrolled": true
   },
   "outputs": [
    {
     "name": "stdout",
     "output_type": "stream",
     "text": [
      "================================\u001b[1m Human Message \u001b[0m=================================\n",
      "\n",
      "어떤 장르가 평균적으로 가장 긴 트랙을 가지고 있나요?\n",
      "==================================\u001b[1m Ai Message \u001b[0m==================================\n",
      "Tool Calls:\n",
      "  sql_db_list_tables (call_VOMY8tY7eGdDo8kkT9634nzZ)\n",
      " Call ID: call_VOMY8tY7eGdDo8kkT9634nzZ\n",
      "  Args:\n",
      "=================================\u001b[1m Tool Message \u001b[0m=================================\n",
      "Name: sql_db_list_tables\n",
      "\n",
      "Album, Artist, Customer, Employee, Genre, Invoice, InvoiceLine, MediaType, Playlist, PlaylistTrack, Track\n",
      "==================================\u001b[1m Ai Message \u001b[0m==================================\n",
      "Tool Calls:\n",
      "  sql_db_schema (call_grAoEX3qw3dDkiUxQUgbza9h)\n",
      " Call ID: call_grAoEX3qw3dDkiUxQUgbza9h\n",
      "  Args:\n",
      "    table_names: Track, Genre\n",
      "=================================\u001b[1m Tool Message \u001b[0m=================================\n",
      "Name: sql_db_schema\n",
      "\n",
      "\n",
      "CREATE TABLE \"Genre\" (\n",
      "\t\"GenreId\" INTEGER NOT NULL, \n",
      "\t\"Name\" NVARCHAR(120), \n",
      "\tPRIMARY KEY (\"GenreId\")\n",
      ")\n",
      "\n",
      "/*\n",
      "3 rows from Genre table:\n",
      "GenreId\tName\n",
      "1\tRock\n",
      "2\tJazz\n",
      "3\tMetal\n",
      "*/\n",
      "\n",
      "\n",
      "CREATE TABLE \"Track\" (\n",
      "\t\"TrackId\" INTEGER NOT NULL, \n",
      "\t\"Name\" NVARCHAR(200) NOT NULL, \n",
      "\t\"AlbumId\" INTEGER, \n",
      "\t\"MediaTypeId\" INTEGER NOT NULL, \n",
      "\t\"GenreId\" INTEGER, \n",
      "\t\"Composer\" NVARCHAR(220), \n",
      "\t\"Milliseconds\" INTEGER NOT NULL, \n",
      "\t\"Bytes\" INTEGER, \n",
      "\t\"UnitPrice\" NUMERIC(10, 2) NOT NULL, \n",
      "\tPRIMARY KEY (\"TrackId\"), \n",
      "\tFOREIGN KEY(\"MediaTypeId\") REFERENCES \"MediaType\" (\"MediaTypeId\"), \n",
      "\tFOREIGN KEY(\"GenreId\") REFERENCES \"Genre\" (\"GenreId\"), \n",
      "\tFOREIGN KEY(\"AlbumId\") REFERENCES \"Album\" (\"AlbumId\")\n",
      ")\n",
      "\n",
      "/*\n",
      "3 rows from Track table:\n",
      "TrackId\tName\tAlbumId\tMediaTypeId\tGenreId\tComposer\tMilliseconds\tBytes\tUnitPrice\n",
      "1\tFor Those About To Rock (We Salute You)\t1\t1\t1\tAngus Young, Malcolm Young, Brian Johnson\t343719\t11170334\t0.99\n",
      "2\tBalls to the Wall\t2\t2\t1\tU. Dirkschneider, W. Hoffmann, H. Frank, P. Baltes, S. Kaufmann, G. Hoffmann\t342562\t5510424\t0.99\n",
      "3\tFast As a Shark\t3\t2\t1\tF. Baltes, S. Kaufman, U. Dirkscneider & W. Hoffman\t230619\t3990994\t0.99\n",
      "*/\n",
      "==================================\u001b[1m Ai Message \u001b[0m==================================\n",
      "Tool Calls:\n",
      "  sql_db_list_tables (call_sz39A2B53A4OA4VVdxcMdvPJ)\n",
      " Call ID: call_sz39A2B53A4OA4VVdxcMdvPJ\n",
      "  Args:\n",
      "  sql_db_schema (call_VreKTJDuGQa4FDQ0dAqJR9DX)\n",
      " Call ID: call_VreKTJDuGQa4FDQ0dAqJR9DX\n",
      "  Args:\n",
      "    table_names: Track, Genre\n",
      "=================================\u001b[1m Tool Message \u001b[0m=================================\n",
      "Name: sql_db_schema\n",
      "\n",
      "\n",
      "CREATE TABLE \"Genre\" (\n",
      "\t\"GenreId\" INTEGER NOT NULL, \n",
      "\t\"Name\" NVARCHAR(120), \n",
      "\tPRIMARY KEY (\"GenreId\")\n",
      ")\n",
      "\n",
      "/*\n",
      "3 rows from Genre table:\n",
      "GenreId\tName\n",
      "1\tRock\n",
      "2\tJazz\n",
      "3\tMetal\n",
      "*/\n",
      "\n",
      "\n",
      "CREATE TABLE \"Track\" (\n",
      "\t\"TrackId\" INTEGER NOT NULL, \n",
      "\t\"Name\" NVARCHAR(200) NOT NULL, \n",
      "\t\"AlbumId\" INTEGER, \n",
      "\t\"MediaTypeId\" INTEGER NOT NULL, \n",
      "\t\"GenreId\" INTEGER, \n",
      "\t\"Composer\" NVARCHAR(220), \n",
      "\t\"Milliseconds\" INTEGER NOT NULL, \n",
      "\t\"Bytes\" INTEGER, \n",
      "\t\"UnitPrice\" NUMERIC(10, 2) NOT NULL, \n",
      "\tPRIMARY KEY (\"TrackId\"), \n",
      "\tFOREIGN KEY(\"MediaTypeId\") REFERENCES \"MediaType\" (\"MediaTypeId\"), \n",
      "\tFOREIGN KEY(\"GenreId\") REFERENCES \"Genre\" (\"GenreId\"), \n",
      "\tFOREIGN KEY(\"AlbumId\") REFERENCES \"Album\" (\"AlbumId\")\n",
      ")\n",
      "\n",
      "/*\n",
      "3 rows from Track table:\n",
      "TrackId\tName\tAlbumId\tMediaTypeId\tGenreId\tComposer\tMilliseconds\tBytes\tUnitPrice\n",
      "1\tFor Those About To Rock (We Salute You)\t1\t1\t1\tAngus Young, Malcolm Young, Brian Johnson\t343719\t11170334\t0.99\n",
      "2\tBalls to the Wall\t2\t2\t1\tU. Dirkschneider, W. Hoffmann, H. Frank, P. Baltes, S. Kaufmann, G. Hoffmann\t342562\t5510424\t0.99\n",
      "3\tFast As a Shark\t3\t2\t1\tF. Baltes, S. Kaufman, U. Dirkscneider & W. Hoffman\t230619\t3990994\t0.99\n",
      "*/\n",
      "==================================\u001b[1m Ai Message \u001b[0m==================================\n",
      "Tool Calls:\n",
      "  sql_db_query_checker (call_9LtDBhUt9FlYwFwEAlP1uQDE)\n",
      " Call ID: call_9LtDBhUt9FlYwFwEAlP1uQDE\n",
      "  Args:\n",
      "    query: SELECT g.Name AS GenreName,\n",
      "       AVG(t.Milliseconds) AS AvgTrackLengthMs\n",
      "FROM Track t\n",
      "LEFT JOIN Genre g ON t.GenreId = g.GenreId\n",
      "GROUP BY g.GenreId, g.Name\n",
      "ORDER BY AvgTrackLengthMs DESC\n",
      "LIMIT 5;\n",
      "=================================\u001b[1m Tool Message \u001b[0m=================================\n",
      "Name: sql_db_query_checker\n",
      "\n",
      "SELECT g.Name AS GenreName,\n",
      "       AVG(t.Milliseconds) AS AvgTrackLengthMs\n",
      "FROM Track t\n",
      "LEFT JOIN Genre g ON t.GenreId = g.GenreId\n",
      "GROUP BY g.GenreId, g.Name\n",
      "ORDER BY AvgTrackLengthMs DESC\n",
      "LIMIT 5;\n",
      "==================================\u001b[1m Ai Message \u001b[0m==================================\n",
      "Tool Calls:\n",
      "  sql_db_query (call_XA3QMfVv5NmdGYHmPr63u2bR)\n",
      " Call ID: call_XA3QMfVv5NmdGYHmPr63u2bR\n",
      "  Args:\n",
      "    query: SELECT g.Name AS GenreName,\n",
      "       AVG(t.Milliseconds) AS AvgTrackLengthMs\n",
      "FROM Track t\n",
      "LEFT JOIN Genre g ON t.GenreId = g.GenreId\n",
      "GROUP BY g.GenreId, g.Name\n",
      "ORDER BY AvgTrackLengthMs DESC\n",
      "LIMIT 5;\n",
      "=================================\u001b[1m Tool Message \u001b[0m=================================\n",
      "Name: sql_db_query\n",
      "\n",
      "[('Sci Fi & Fantasy', 2911783.0384615385), ('Science Fiction', 2625549.076923077), ('Drama', 2575283.78125), ('TV Shows', 2145041.0215053763), ('Comedy', 1585263.705882353)]\n",
      "==================================\u001b[1m Ai Message \u001b[0m==================================\n",
      "\n",
      "요청하신 장르별 평균 트랙 길이 상위 5개를 확인했습니다. Track와 Genre를 조인해 Genre별 평균 밀리초를 계산하고, 길이가 긴 순으로 정렬했습니다. 결과는 아래와 같으며, 필요 시 밀리초 단위도 함께 제공합니다.\n",
      "\n",
      "가장 긴 평균 트랙을 가진 장르\n",
      "- Sci Fi & Fantasy — 평균 길이 약 2,911,783 ms (약 48분 32초)\n",
      "\n",
      "상위 5개 결과\n",
      "- Sci Fi & Fantasy — 2,911,783 ms (~48:32)\n",
      "- Science Fiction — 2,625,549 ms (~43:46)\n",
      "- Drama — 2,575,284 ms (~42:55)\n",
      "- TV Shows — 2,145,041 ms (~35:45)\n",
      "- Comedy — 1,585,264 ms (~26:25)\n",
      "\n",
      "추가로 원하시면 초 단위나 분:초 형식으로 더 깔끔하게 바꿔 드리거나, 특정 조건(예: 특정 기간이나 특정 아티스트 포함 여부)을 추가한 조회도 가능합니다.\n"
     ]
    }
   ],
   "source": [
    "question = \"어떤 장르가 평균적으로 가장 긴 트랙을 가지고 있나요?\"\n",
    "\n",
    "# 에이전트를 스트리밍 모드로 실행\n",
    "for step in agent.stream(\n",
    "    {\"messages\": [{\"role\": \"user\", \"content\": question}]},\n",
    "    stream_mode=\"values\",\n",
    "):\n",
    "    # 마지막 메시지(모델 응답)를 보기 좋게 출력\n",
    "    step[\"messages\"][-1].pretty_print()"
   ]
  },
  {
   "cell_type": "markdown",
   "id": "779f29b6-5a60-4e1c-8ac8-79365a5735d9",
   "metadata": {},
   "source": [
    "### **인간 검토(Human-in-the-loop) 기능 구현하기**\n",
    "\n",
    "에이전트가 생성한 SQL 쿼리를 실행하기 전에 의도하지 않은 동작이나 비효율적인 쿼리가 포함되어 있는지 검토하는 것이 좋습니다.  \n",
    "LangChain의 에이전트는 이러한 인간 개입형 검토 프로세스(Human-in-the-loop) 를 간단히 추가할 수 있도록 내장 미들웨어(Middleware) 를 제공합니다.\n",
    "이 기능을 사용하면, 에이전트가 특정 도구(예: sql_db_query)를 호출할 때 일시 정지(pause) 하여 사람이 쿼리를 직접 검토하고 승인할 수 있습니다.  \n",
    "즉, 아래 설정을 통해 에이전트가 sql_db_query 도구를 호출할 때마다 사람의 확인 절차를 거친 후에만 실행되도록 구성할 수 있습니다."
   ]
  },
  {
   "cell_type": "code",
   "execution_count": 13,
   "id": "70b70de6-41a8-4dd6-a908-95f348cd270b",
   "metadata": {},
   "outputs": [],
   "source": [
    "from langchain.agents import create_agent\n",
    "from langchain.agents.middleware import HumanInTheLoopMiddleware \n",
    "from langgraph.checkpoint.memory import InMemorySaver \n",
    "\n",
    "agent = create_agent(\n",
    "    model,\n",
    "    tools,\n",
    "    system_prompt=system_prompt,\n",
    "    middleware=[ \n",
    "        HumanInTheLoopMiddleware( \n",
    "            interrupt_on={\"sql_db_query\": True}, \n",
    "            description_prefix=\"도구 실행 승인 대기 중\", \n",
    "        ), \n",
    "    ], \n",
    "    checkpointer=InMemorySaver(), \n",
    ")"
   ]
  },
  {
   "cell_type": "markdown",
   "id": "e06a70c1-b61b-4eda-b9ae-67907bd93db8",
   "metadata": {},
   "source": [
    "우리는 에이전트에 **체크포인터(checkpointer)** 를 추가하여 에이전트의 실행을 **일시 중지(pause)** 했다가 **다시 재개(resume)** 할 수 있도록 만들었습니다.\n",
    "\n",
    "이제 에이전트를 실행하면, `sql_db_query` 도구를 실행하기 전에 **인간 검토를 위해 일시 정지**하게 됩니다."
   ]
  },
  {
   "cell_type": "code",
   "execution_count": 14,
   "id": "f65024d7-7aa5-430f-971f-7a62ebf636a0",
   "metadata": {},
   "outputs": [],
   "source": [
    "question = \"평균적으로 트랙 길이가 가장 긴 장르는 무엇인가요?\"\n",
    "config = {\"configurable\": {\"thread_id\": \"1\"}} \n",
    "\n",
    "result = agent.invoke(\n",
    "    {\n",
    "        \"messages\": [\n",
    "            {\n",
    "                \"role\": \"user\",\n",
    "                \"content\": question,\n",
    "            }\n",
    "        ]\n",
    "    },\n",
    "    config=config \n",
    ")"
   ]
  },
  {
   "cell_type": "code",
   "execution_count": 15,
   "id": "33a53ec9-7642-409b-830c-ef4abfdc78d9",
   "metadata": {},
   "outputs": [
    {
     "name": "stdout",
     "output_type": "stream",
     "text": [
      "[Interrupt(value={'action_requests': [{'name': 'sql_db_query', 'args': {'query': 'SELECT g.Name AS Genre, AVG(t.Milliseconds) AS AverageMilliseconds\\nFROM Track t\\nJOIN Genre g ON t.GenreId = g.GenreId\\nGROUP BY g.Name\\nORDER BY AverageMilliseconds DESC\\nLIMIT 5;'}, 'description': \"도구 실행 승인 대기 중\\n\\nTool: sql_db_query\\nArgs: {'query': 'SELECT g.Name AS Genre, AVG(t.Milliseconds) AS AverageMilliseconds\\\\nFROM Track t\\\\nJOIN Genre g ON t.GenreId = g.GenreId\\\\nGROUP BY g.Name\\\\nORDER BY AverageMilliseconds DESC\\\\nLIMIT 5;'}\"}], 'review_configs': [{'action_name': 'sql_db_query', 'allowed_decisions': ['approve', 'edit', 'reject']}]}, id='87dc6ba7a547f1320c100521c03aef59')]\n"
     ]
    }
   ],
   "source": [
    "# 인터럽트에는 `action_requests` 및 `review_configs`가 포함된 전체 HITL(Human-In-The-Loop) 요청이 들어 있습니다.\n",
    "print(result['__interrupt__'])"
   ]
  },
  {
   "cell_type": "markdown",
   "id": "effee115-ac77-4411-a8f0-33eefeadc244",
   "metadata": {},
   "source": [
    "----------\n",
    "동일한 실행(run)을 반복하되, 간단한 **예/아니오(yes/no) 승인 단계**를 추가해보겠습니다."
   ]
  },
  {
   "cell_type": "code",
   "execution_count": 16,
   "id": "744bc57f-6119-416a-b18c-f630b797ece6",
   "metadata": {},
   "outputs": [],
   "source": [
    "from langgraph.types import Command\n",
    "\n",
    "# 승인 결정으로 실행 재개\n",
    "result = agent.invoke(\n",
    "    Command( \n",
    "        resume={\"decisions\": [{\"type\": \"approve\"}]}  # 또는 \"edit\", \"reject\" 사용 가능\n",
    "    ), \n",
    "    config=config  # 중단된 대화를 재개하기 위해 동일한 thread ID 사용\n",
    ")"
   ]
  },
  {
   "cell_type": "code",
   "execution_count": 17,
   "id": "55201b21-3277-45ff-8cd7-0aa69486ba2c",
   "metadata": {},
   "outputs": [
    {
     "name": "stdout",
     "output_type": "stream",
     "text": [
      "==================================\u001b[1m Ai Message \u001b[0m==================================\n",
      "\n",
      "다음은 트랙 길이(avg milliseconds) 기준으로 가장 길이가 긴 상위 5개 장르입니다.\n",
      "\n",
      "- Sci Fi & Fantasy — 평균 길이: 2,911,783.04 ms (약 48분 32초)\n",
      "- Science Fiction — 평균 길이: 2,625,549.08 ms (약 43분 46초)\n",
      "- Drama — 평균 길이: 2,575,283.78 ms (약 42분 55초)\n",
      "- TV Shows — 평균 길이: 2,145,041.02 ms (약 35분 45초)\n",
      "- Comedy — 평균 길이: 1,585,263.71 ms (약 26분 25초)\n",
      "\n",
      "설명:\n",
      "- Track.Milliseconds와 Genre.Name를 조인하여 장르별 평균 길이를 구했고, 내림차순으로 정렬한 뒤 상위 5개를 반환했습니다.\n",
      "- 필요하시면 상위 N개를 N값으로 조정해 드리겠습니다.\n"
     ]
    }
   ],
   "source": [
    "result['messages'][-1].pretty_print()"
   ]
  },
  {
   "cell_type": "code",
   "execution_count": 18,
   "id": "8badae65-a1b8-4079-9aff-679d9c946771",
   "metadata": {},
   "outputs": [
    {
     "name": "stdout",
     "output_type": "stream",
     "text": [
      "==================================\u001b[1m Ai Message \u001b[0m==================================\n",
      "Tool Calls:\n",
      "  sql_db_query (call_o2a5fQn7XNmIEoa3mSzsSGw9)\n",
      " Call ID: call_o2a5fQn7XNmIEoa3mSzsSGw9\n",
      "  Args:\n",
      "    query: SELECT g.Name AS GenreName,\n",
      "       AVG(t.Milliseconds) AS AvgMilliseconds\n",
      "FROM Track t\n",
      "INNER JOIN Genre g ON t.GenreId = g.GenreId\n",
      "GROUP BY g.Name\n",
      "ORDER BY AVG(t.Milliseconds) DESC\n",
      "LIMIT 5;\n"
     ]
    }
   ],
   "source": [
    "question = \"평균적으로 트랙 길이가 가장 긴 장르는 무엇인가요?\"\n",
    "config = {\"configurable\": {\"thread_id\": \"2\"}} \n",
    "\n",
    "agent.invoke(\n",
    "    {\n",
    "        \"messages\": [\n",
    "            {\n",
    "                \"role\": \"user\",\n",
    "                \"content\": question,\n",
    "            }\n",
    "        ]\n",
    "    },\n",
    "    config=config \n",
    ")\n",
    "\n",
    "result = agent.invoke(\n",
    "    Command(\n",
    "        # 결정(decisions)은 검토 중인 각 작업(action)마다 하나씩 리스트 형태로 제공합니다.\n",
    "        # 결정의 순서는 `__interrupt__` 요청에 나열된 작업 순서와 일치해야 합니다.\n",
    "        resume={\n",
    "            \"decisions\": [\n",
    "                {\n",
    "                    \"type\": \"reject\",  # 거절(reject) 결정\n",
    "                    # 해당 작업을 거절한 이유에 대한 설명 메시지\n",
    "                    \"message\": \"아니요, 이 쿼리는 잘못되었습니다. 진행하지 마세요.\"\n",
    "                }\n",
    "            ]\n",
    "        }\n",
    "    ),\n",
    "    config=config  # 중단된 대화를 다시 이어가기 위해 동일한 thread ID 사용\n",
    ")\n",
    "\n",
    "result['messages'][-1].pretty_print()"
   ]
  },
  {
   "cell_type": "markdown",
   "id": "3a0a2d7d",
   "metadata": {
    "id": "4V5MksHnNBTy"
   },
   "source": [
    "에이전트는 필요한 정보를 얻을 때까지 **여러 번의 쿼리**를 실행한다는 점에 주목하세요:  \n",
    "\n",
    "1. 사용 가능한 테이블 목록을 나열합니다.  \n",
    "2. 세 개의 테이블에 대한 스키마를 검색합니다.  \n",
    "3. 여러 테이블을 **JOIN 연산**을 통해 쿼리합니다.  \n",
    "\n",
    "에이전트는 마지막 쿼리의 결과를 사용해 **원래 질문에 대한 답변을 생성**할 수 있습니다.\n",
    "\n",
    "에이전트는 이와 유사하게 **정성적 질문(qualitative questions)** 도 처리할 수 있습니다."
   ]
  },
  {
   "cell_type": "code",
   "execution_count": 19,
   "id": "94def1a7",
   "metadata": {},
   "outputs": [
    {
     "name": "stdout",
     "output_type": "stream",
     "text": [
      "================================\u001b[1m Human Message \u001b[0m=================================\n",
      "\n",
      "`playlisttrack` 테이블을 설명하세요. 한국어로 설명하세요.**\n",
      "==================================\u001b[1m Ai Message \u001b[0m==================================\n",
      "Tool Calls:\n",
      "  sql_db_list_tables (call_msP5kTHIznAXqRgrSqfw0Wwl)\n",
      " Call ID: call_msP5kTHIznAXqRgrSqfw0Wwl\n",
      "  Args:\n",
      "=================================\u001b[1m Tool Message \u001b[0m=================================\n",
      "Name: sql_db_list_tables\n",
      "\n",
      "Album, Artist, Customer, Employee, Genre, Invoice, InvoiceLine, MediaType, Playlist, PlaylistTrack, Track\n",
      "==================================\u001b[1m Ai Message \u001b[0m==================================\n",
      "Tool Calls:\n",
      "  sql_db_schema (call_wXijZ5eNvB1XqJIVcJU2Drgu)\n",
      " Call ID: call_wXijZ5eNvB1XqJIVcJU2Drgu\n",
      "  Args:\n",
      "    table_names: PlaylistTrack\n",
      "=================================\u001b[1m Tool Message \u001b[0m=================================\n",
      "Name: sql_db_schema\n",
      "\n",
      "\n",
      "CREATE TABLE \"PlaylistTrack\" (\n",
      "\t\"PlaylistId\" INTEGER NOT NULL, \n",
      "\t\"TrackId\" INTEGER NOT NULL, \n",
      "\tPRIMARY KEY (\"PlaylistId\", \"TrackId\"), \n",
      "\tFOREIGN KEY(\"TrackId\") REFERENCES \"Track\" (\"TrackId\"), \n",
      "\tFOREIGN KEY(\"PlaylistId\") REFERENCES \"Playlist\" (\"PlaylistId\")\n",
      ")\n",
      "\n",
      "/*\n",
      "3 rows from PlaylistTrack table:\n",
      "PlaylistId\tTrackId\n",
      "1\t3402\n",
      "1\t3389\n",
      "1\t3390\n",
      "*/\n",
      "==================================\u001b[1m Ai Message \u001b[0m==================================\n",
      "\n",
      "다음은 PlaylistTrack 테이블에 대한 설명입니다. 한국어로 정리했습니다.\n",
      "\n",
      "개요\n",
      "- PlaylistTrack 테이블은 플레이리스트(Playlist)와 트랙(Track) 간의 다대다 관계를 표현하는 연결(중간) 테이블입니다.\n",
      "- 하나의 플레이리스트에는 여러 트랙이 포함될 수 있고, 하나의 트랙은 여러 플레이리스트에 포함될 수 있습니다. 이를 통해 특정 플레이리스트에 어떤 트랙들이 들어 있는지 쉽게 조회할 수 있습니다.\n",
      "\n",
      "열 및 제약\n",
      "- PlaylistId: INTEGER, NOT NULL\n",
      "  - 외래키: Playlist(PlaylistId)을 참조\n",
      "- TrackId: INTEGER, NOT NULL\n",
      "  - 외래키: Track(TrackId)을 참조\n",
      "- PRIMARY KEY(PlaylistId, TrackId): 복합 기본키로, 같은 플레이리스트에 같은 트랙이 중복으로 포함되는 것을 방지합니다.\n",
      "- FOREIGN KEY(TrackId) REFERENCES Track(TrackId)\n",
      "- FOREIGN KEY(PlaylistId) REFERENCES Playlist(PlaylistId)\n",
      "\n",
      "샘플 데이터\n",
      "- (1, 3402)\n",
      "- (1, 3389)\n",
      "- (1, 3390)\n",
      "\n",
      "의미\n",
      "- 위 샘플은 플레이리스트 1에 트랙 3402, 3389, 3390이 각각 포함되어 있음을 나타냅니다.\n",
      "\n",
      "추가 설명 및 활용 예\n",
      "- 이 테이블을 이용해 특정 플레이리스트에 어떤 트랙이 들어 있는지 조회하거나, 특정 트랙이 어느 플레이리스트에 포함되어 있는지 확인할 수 있습니다.\n",
      "- 관련 정보를 함께 보려면 Playlist와 Track 테이블을 조인해 플레이리스트 이름과 트랙 이름 등을 함께 조회하는 쿼리를 사용하면 좋습니다.\n",
      "\n",
      "예시 쿼리 (참고용)\n",
      "- 특정 플레이리스트의 트랙 목록(이름까지)\n",
      "  SELECT p.Name AS PlaylistName, t.Name AS TrackName\n",
      "  FROM PlaylistTrack pt\n",
      "  JOIN Playlist p ON pt.PlaylistId = p.PlaylistId\n",
      "  JOIN Track t ON pt.TrackId = t.TrackId\n",
      "  WHERE p.PlaylistId = 1\n",
      "  LIMIT 5;\n"
     ]
    }
   ],
   "source": [
    "question = \"`playlisttrack` 테이블을 설명하세요. 한국어로 설명하세요.**\"\n",
    "config = {\"configurable\": {\"thread_id\": \"3\"}} \n",
    "\n",
    "for step in agent.stream(\n",
    "    {\"messages\": [{\"role\": \"user\", \"content\": question}]},\n",
    "    stream_mode=\"values\",\n",
    "    config=config\n",
    "):\n",
    "    step[\"messages\"][-1].pretty_print()"
   ]
  },
  {
   "cell_type": "code",
   "execution_count": null,
   "id": "0dcb5b83-e7d2-41a7-988e-17641514dd75",
   "metadata": {},
   "outputs": [],
   "source": []
  }
 ],
 "metadata": {
  "colab": {
   "provenance": []
  },
  "kernelspec": {
   "display_name": "Python 3 (ipykernel)",
   "language": "python",
   "name": "python3"
  },
  "language_info": {
   "codemirror_mode": {
    "name": "ipython",
    "version": 3
   },
   "file_extension": ".py",
   "mimetype": "text/x-python",
   "name": "python",
   "nbconvert_exporter": "python",
   "pygments_lexer": "ipython3",
   "version": "3.13.7"
  }
 },
 "nbformat": 4,
 "nbformat_minor": 5
}
