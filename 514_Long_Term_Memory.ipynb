{
 "cells": [
  {
   "cell_type": "markdown",
   "id": "829b025e-9712-421f-8cce-2250da83ed61",
   "metadata": {},
   "source": [
    "# 장기 메모리 (Long-term Memory)\n",
    "\n",
    "LangChain 에이전트는 **LangGraph persistence** 기능을 사용하여 **장기 메모리(long-term memory)** 를 구현할 수 있습니다.\n",
    "이 기능은 고급 주제에 속하며, 이를 사용하려면 **LangGraph의 동작 원리에 대한 이해**가 필요합니다.\n",
    "\n",
    "LangGraph는 장기 메모리를 **JSON 문서 형식**으로 저장하며,\n",
    "이를 **store(저장소)** 에 보관합니다.\n",
    "\n",
    "각 메모리는 다음과 같이 구성됩니다:\n",
    "\n",
    "* **namespace (네임스페이스)** → 폴더와 비슷한 개념으로, 데이터를 그룹화하는 단위입니다.\n",
    "* **key (키)** → 파일 이름처럼, 해당 메모리를 구분하는 고유 식별자입니다.\n",
    "\n",
    "보통 `namespace`에는 사용자 ID, 조직 ID 등의 정보를 포함하여\n",
    "데이터를 논리적으로 분류하고 관리하기 쉽게 합니다.\n",
    "\n",
    "이러한 구조를 통해 **계층적(hierarchical) 메모리 관리**가 가능하며,\n",
    "**콘텐츠 필터(content filter)** 를 활용한 **교차-네임스페이스 검색**도 지원됩니다.\n",
    "\n",
    "\n",
    "| 구분    | 단기 메모리 (short-term memory)                    | 장기 메모리 (long-term memory)          |\n",
    "| ----- | --------------------------------------------- | ---------------------------------- |\n",
    "| 저장 범위 | 현재 스레드(thread)나 세션 내 메시지                      | 여러 스레드, 여러 세션에 걸친 데이터              |\n",
    "| 지속성   | 일시적 (대화 종료 시 사라짐)                             | 지속적 (DB나 파일에 저장)                   |\n",
    "| 예시    | “방금 말한 게 뭐였지?”                                | “이전에 내가 말한 취미 기억해?”                |\n",
    "| 구현 방식 | `checkpointer` (InMemorySaver, SqliteSaver 등) | `store` (InMemoryStore, DBStore 등) |\n",
    "| 관리 단위 | 메시지 기록                                        | JSON 문서 (사용자 프로필, 설정, 기록 등)        |\n"
   ]
  },
  {
   "cell_type": "code",
   "execution_count": 1,
   "id": "e7b01e2d-11ba-49da-a26a-13b2514d471e",
   "metadata": {},
   "outputs": [
    {
     "data": {
      "text/plain": [
       "[Item(namespace=['my-user', 'chitchat'], key='a-memory', value={'rules': ['사용자는 짧고 직설적인 문장을 선호합니다.', '사용자는 영어와 파이썬만 사용합니다.'], 'my-key': 'my-value'}, created_at='2025-10-27T02:25:00.821043+00:00', updated_at='2025-10-27T02:25:00.821046+00:00', score=0.9999999999999998)]"
      ]
     },
     "execution_count": 1,
     "metadata": {},
     "output_type": "execute_result"
    }
   ],
   "source": [
    "from langgraph.store.memory import InMemoryStore\n",
    "\n",
    "def embed(texts: list[str]) -> list[list[float]]:\n",
    "    # 실제 임베딩 함수나 LangChain 임베딩 객체로 교체해야 합니다.\n",
    "    return [[1.0, 2.0] * len(texts)]\n",
    "\n",
    "# InMemoryStore는 메모리를 메모리(dictionary)에 저장합니다.\n",
    "# 실제 서비스에서는 DB 기반 저장소를 사용하는 것이 좋습니다.\n",
    "store = InMemoryStore(index={\"embed\": embed, \"dims\": 2}) \n",
    "\n",
    "user_id = \"my-user\"\n",
    "application_context = \"chitchat\"\n",
    "namespace = (user_id, application_context)  # 네임스페이스: 사용자 및 앱 컨텍스트로 구분\n",
    "\n",
    "# 메모리 저장\n",
    "store.put( \n",
    "    namespace,\n",
    "    \"a-memory\",\n",
    "    {\n",
    "        \"rules\": [\n",
    "            \"사용자는 짧고 직설적인 문장을 선호합니다.\",\n",
    "            \"사용자는 영어와 파이썬만 사용합니다.\",\n",
    "        ],\n",
    "        \"my-key\": \"my-value\",\n",
    "    },\n",
    ")\n",
    "\n",
    "# ID로 특정 메모리 조회\n",
    "item = store.get(namespace, \"a-memory\") \n",
    "\n",
    "# 동일한 네임스페이스 내에서 필터 조건 및 유사도 검색 수행\n",
    "items = store.search( \n",
    "    namespace, filter={\"my-key\": \"my-value\"}, query=\"language preferences\"\n",
    ")\n",
    "items"
   ]
  },
  {
   "cell_type": "markdown",
   "id": "e9a7c067-5418-448e-b6d6-e88eafce0178",
   "metadata": {},
   "source": [
    "### 도구에서 장기 메모리 읽기"
   ]
  },
  {
   "cell_type": "code",
   "execution_count": 5,
   "id": "eddfd141-84ef-4a72-bae0-ff653cbc1232",
   "metadata": {},
   "outputs": [
    {
     "ename": "ValueError",
     "evalue": "Function must have a docstring if description not provided.",
     "output_type": "error",
     "traceback": [
      "\u001b[31m---------------------------------------------------------------------------\u001b[39m",
      "\u001b[31mValueError\u001b[39m                                Traceback (most recent call last)",
      "\u001b[36mCell\u001b[39m\u001b[36m \u001b[39m\u001b[32mIn[5]\u001b[39m\u001b[32m, line 26\u001b[39m\n\u001b[32m     16\u001b[39m \u001b[38;5;66;03m# 예시 데이터 저장\u001b[39;00m\n\u001b[32m     17\u001b[39m store.put(  \u001b[38;5;66;03m# [!code highlight]\u001b[39;00m\n\u001b[32m     18\u001b[39m     (\u001b[33m\"\u001b[39m\u001b[33musers\u001b[39m\u001b[33m\"\u001b[39m,),  \u001b[38;5;66;03m# 사용자 데이터를 모아두는 namespace\u001b[39;00m\n\u001b[32m     19\u001b[39m     \u001b[33m\"\u001b[39m\u001b[33muser_123\u001b[39m\u001b[33m\"\u001b[39m,  \u001b[38;5;66;03m# 사용자 ID (key)\u001b[39;00m\n\u001b[32m   (...)\u001b[39m\u001b[32m     23\u001b[39m     }  \u001b[38;5;66;03m# 사용자 정보\u001b[39;00m\n\u001b[32m     24\u001b[39m )\n\u001b[32m---> \u001b[39m\u001b[32m26\u001b[39m \u001b[38;5;129;43m@tool\u001b[39;49m\n\u001b[32m     27\u001b[39m \u001b[38;5;28;43;01mdef\u001b[39;49;00m\u001b[38;5;250;43m \u001b[39;49m\u001b[34;43mget_user_info\u001b[39;49m\u001b[43m(\u001b[49m\u001b[43mruntime\u001b[49m\u001b[43m:\u001b[49m\u001b[43m \u001b[49m\u001b[43mToolRuntime\u001b[49m\u001b[43m[\u001b[49m\u001b[43mContext\u001b[49m\u001b[43m,\u001b[49m\u001b[43m \u001b[49m\u001b[43mAgentState\u001b[49m\u001b[43m]\u001b[49m\u001b[43m)\u001b[49m\u001b[43m \u001b[49m\u001b[43m-\u001b[49m\u001b[43m>\u001b[49m\u001b[43m \u001b[49m\u001b[38;5;28;43mstr\u001b[39;49m\u001b[43m:\u001b[49m\n\u001b[32m     28\u001b[39m \u001b[43m    \u001b[49m\u001b[43mstore\u001b[49m\u001b[43m \u001b[49m\u001b[43m=\u001b[49m\u001b[43m \u001b[49m\u001b[43mruntime\u001b[49m\u001b[43m.\u001b[49m\u001b[43mstore\u001b[49m\n\u001b[32m     29\u001b[39m \u001b[43m    \u001b[49m\u001b[43muser_id\u001b[49m\u001b[43m \u001b[49m\u001b[43m=\u001b[49m\u001b[43m \u001b[49m\u001b[43mruntime\u001b[49m\u001b[43m.\u001b[49m\u001b[43mcontext\u001b[49m\u001b[43m.\u001b[49m\u001b[43muser_id\u001b[49m\n",
      "\u001b[36mFile \u001b[39m\u001b[32m~\\AppData\\Local\\Programs\\Python\\Python313\\Lib\\site-packages\\langchain_core\\tools\\convert.py:326\u001b[39m, in \u001b[36mtool\u001b[39m\u001b[34m(name_or_callable, runnable, description, return_direct, args_schema, infer_schema, response_format, parse_docstring, error_on_invalid_docstring, *args)\u001b[39m\n\u001b[32m    320\u001b[39m \u001b[38;5;28;01mif\u001b[39;00m name_or_callable \u001b[38;5;129;01mis\u001b[39;00m \u001b[38;5;129;01mnot\u001b[39;00m \u001b[38;5;28;01mNone\u001b[39;00m:\n\u001b[32m    321\u001b[39m     \u001b[38;5;28;01mif\u001b[39;00m \u001b[38;5;28mcallable\u001b[39m(name_or_callable) \u001b[38;5;129;01mand\u001b[39;00m \u001b[38;5;28mhasattr\u001b[39m(name_or_callable, \u001b[33m\"\u001b[39m\u001b[33m__name__\u001b[39m\u001b[33m\"\u001b[39m):\n\u001b[32m    322\u001b[39m         \u001b[38;5;66;03m# Used as a decorator without parameters\u001b[39;00m\n\u001b[32m    323\u001b[39m         \u001b[38;5;66;03m# @tool\u001b[39;00m\n\u001b[32m    324\u001b[39m         \u001b[38;5;66;03m# def my_tool():\u001b[39;00m\n\u001b[32m    325\u001b[39m         \u001b[38;5;66;03m#    pass\u001b[39;00m\n\u001b[32m--> \u001b[39m\u001b[32m326\u001b[39m         \u001b[38;5;28;01mreturn\u001b[39;00m \u001b[43m_create_tool_factory\u001b[49m\u001b[43m(\u001b[49m\u001b[43mname_or_callable\u001b[49m\u001b[43m.\u001b[49m\u001b[34;43m__name__\u001b[39;49m\u001b[43m)\u001b[49m\u001b[43m(\u001b[49m\u001b[43mname_or_callable\u001b[49m\u001b[43m)\u001b[49m\n\u001b[32m    327\u001b[39m     \u001b[38;5;28;01mif\u001b[39;00m \u001b[38;5;28misinstance\u001b[39m(name_or_callable, \u001b[38;5;28mstr\u001b[39m):\n\u001b[32m    328\u001b[39m         \u001b[38;5;66;03m# Used with a new name for the tool\u001b[39;00m\n\u001b[32m    329\u001b[39m         \u001b[38;5;66;03m# @tool(\"search\")\u001b[39;00m\n\u001b[32m   (...)\u001b[39m\u001b[32m    336\u001b[39m         \u001b[38;5;66;03m# def my_tool():\u001b[39;00m\n\u001b[32m    337\u001b[39m         \u001b[38;5;66;03m#    pass\u001b[39;00m\n\u001b[32m    338\u001b[39m         \u001b[38;5;28;01mreturn\u001b[39;00m _create_tool_factory(name_or_callable)\n",
      "\u001b[36mFile \u001b[39m\u001b[32m~\\AppData\\Local\\Programs\\Python\\Python313\\Lib\\site-packages\\langchain_core\\tools\\convert.py:271\u001b[39m, in \u001b[36mtool.<locals>._create_tool_factory.<locals>._tool_factory\u001b[39m\u001b[34m(dec_func)\u001b[39m\n\u001b[32m    268\u001b[39m     schema = args_schema\n\u001b[32m    270\u001b[39m \u001b[38;5;28;01mif\u001b[39;00m infer_schema \u001b[38;5;129;01mor\u001b[39;00m args_schema \u001b[38;5;129;01mis\u001b[39;00m \u001b[38;5;129;01mnot\u001b[39;00m \u001b[38;5;28;01mNone\u001b[39;00m:\n\u001b[32m--> \u001b[39m\u001b[32m271\u001b[39m     \u001b[38;5;28;01mreturn\u001b[39;00m \u001b[43mStructuredTool\u001b[49m\u001b[43m.\u001b[49m\u001b[43mfrom_function\u001b[49m\u001b[43m(\u001b[49m\n\u001b[32m    272\u001b[39m \u001b[43m        \u001b[49m\u001b[43mfunc\u001b[49m\u001b[43m,\u001b[49m\n\u001b[32m    273\u001b[39m \u001b[43m        \u001b[49m\u001b[43mcoroutine\u001b[49m\u001b[43m,\u001b[49m\n\u001b[32m    274\u001b[39m \u001b[43m        \u001b[49m\u001b[43mname\u001b[49m\u001b[43m=\u001b[49m\u001b[43mtool_name\u001b[49m\u001b[43m,\u001b[49m\n\u001b[32m    275\u001b[39m \u001b[43m        \u001b[49m\u001b[43mdescription\u001b[49m\u001b[43m=\u001b[49m\u001b[43mtool_description\u001b[49m\u001b[43m,\u001b[49m\n\u001b[32m    276\u001b[39m \u001b[43m        \u001b[49m\u001b[43mreturn_direct\u001b[49m\u001b[43m=\u001b[49m\u001b[43mreturn_direct\u001b[49m\u001b[43m,\u001b[49m\n\u001b[32m    277\u001b[39m \u001b[43m        \u001b[49m\u001b[43margs_schema\u001b[49m\u001b[43m=\u001b[49m\u001b[43mschema\u001b[49m\u001b[43m,\u001b[49m\n\u001b[32m    278\u001b[39m \u001b[43m        \u001b[49m\u001b[43minfer_schema\u001b[49m\u001b[43m=\u001b[49m\u001b[43minfer_schema\u001b[49m\u001b[43m,\u001b[49m\n\u001b[32m    279\u001b[39m \u001b[43m        \u001b[49m\u001b[43mresponse_format\u001b[49m\u001b[43m=\u001b[49m\u001b[43mresponse_format\u001b[49m\u001b[43m,\u001b[49m\n\u001b[32m    280\u001b[39m \u001b[43m        \u001b[49m\u001b[43mparse_docstring\u001b[49m\u001b[43m=\u001b[49m\u001b[43mparse_docstring\u001b[49m\u001b[43m,\u001b[49m\n\u001b[32m    281\u001b[39m \u001b[43m        \u001b[49m\u001b[43merror_on_invalid_docstring\u001b[49m\u001b[43m=\u001b[49m\u001b[43merror_on_invalid_docstring\u001b[49m\u001b[43m,\u001b[49m\n\u001b[32m    282\u001b[39m \u001b[43m    \u001b[49m\u001b[43m)\u001b[49m\n\u001b[32m    283\u001b[39m \u001b[38;5;66;03m# If someone doesn't want a schema applied, we must treat it as\u001b[39;00m\n\u001b[32m    284\u001b[39m \u001b[38;5;66;03m# a simple string->string function\u001b[39;00m\n\u001b[32m    285\u001b[39m \u001b[38;5;28;01mif\u001b[39;00m dec_func.\u001b[34m__doc__\u001b[39m \u001b[38;5;129;01mis\u001b[39;00m \u001b[38;5;28;01mNone\u001b[39;00m:\n",
      "\u001b[36mFile \u001b[39m\u001b[32m~\\AppData\\Local\\Programs\\Python\\Python313\\Lib\\site-packages\\langchain_core\\tools\\structured.py:223\u001b[39m, in \u001b[36mStructuredTool.from_function\u001b[39m\u001b[34m(cls, func, coroutine, name, description, return_direct, args_schema, infer_schema, response_format, parse_docstring, error_on_invalid_docstring, **kwargs)\u001b[39m\n\u001b[32m    221\u001b[39m \u001b[38;5;28;01mif\u001b[39;00m description_ \u001b[38;5;129;01mis\u001b[39;00m \u001b[38;5;28;01mNone\u001b[39;00m:\n\u001b[32m    222\u001b[39m     msg = \u001b[33m\"\u001b[39m\u001b[33mFunction must have a docstring if description not provided.\u001b[39m\u001b[33m\"\u001b[39m\n\u001b[32m--> \u001b[39m\u001b[32m223\u001b[39m     \u001b[38;5;28;01mraise\u001b[39;00m \u001b[38;5;167;01mValueError\u001b[39;00m(msg)\n\u001b[32m    224\u001b[39m \u001b[38;5;28;01mif\u001b[39;00m description \u001b[38;5;129;01mis\u001b[39;00m \u001b[38;5;28;01mNone\u001b[39;00m:\n\u001b[32m    225\u001b[39m     \u001b[38;5;66;03m# Only apply if using the function's docstring\u001b[39;00m\n\u001b[32m    226\u001b[39m     description_ = textwrap.dedent(description_).strip()\n",
      "\u001b[31mValueError\u001b[39m: Function must have a docstring if description not provided."
     ]
    }
   ],
   "source": [
    "from dataclasses import dataclass\n",
    "from langchain_core.runnables import RunnableConfig\n",
    "from langchain.agents import create_agent\n",
    "from langchain.agents import AgentState\n",
    "from langchain.tools import tool, ToolRuntime\n",
    "from langgraph.store.memory import InMemoryStore\n",
    "\n",
    "@dataclass\n",
    "class Context:\n",
    "    user_id: str\n",
    "\n",
    "# InMemoryStore는 메모리를 메모리(dictionary)에 저장합니다.\n",
    "# 실제 서비스 환경에서는 DB 기반 저장소를 사용하는 것이 좋습니다.\n",
    "store = InMemoryStore()  # [!code highlight]\n",
    "\n",
    "# 예시 데이터 저장\n",
    "store.put(  # [!code highlight]\n",
    "    (\"users\",),  # 사용자 데이터를 모아두는 namespace\n",
    "    \"user_123\",  # 사용자 ID (key)\n",
    "    {\n",
    "        \"name\": \"John Smith\",\n",
    "        \"language\": \"English\",\n",
    "    }  # 사용자 정보\n",
    ")\n",
    "\n",
    "@tool\n",
    "def get_user_info(runtime: ToolRuntime[Context, AgentState]) -> str:\n",
    "    store = runtime.store\n",
    "    user_id = runtime.context.user_id\n",
    "    user_info = store.get((\"users\",), user_id)\n",
    "    return str(user_info.value) if user_info else \"Unknown user\"\n",
    "\n",
    "# 에이전트 생성\n",
    "agent = create_agent(\n",
    "    model,\n",
    "    tools=[get_user_info],\n",
    "    store=store,  # [!code highlight] — 도구가 접근할 수 있도록 store를 전달\n",
    "    context_schema=Context\n",
    ")\n",
    "\n",
    "# 실행 예시\n",
    "agent.invoke(\n",
    "    {\"messages\": [{\"role\": \"user\", \"content\": \"사용자 정보를 조회해줘\"}]},\n",
    "    context=Context(user_id=\"user_123\")  # [!code highlight]\n",
    ")"
   ]
  },
  {
   "cell_type": "code",
   "execution_count": null,
   "id": "c518e691-ee15-4f94-bd34-befcd58fb9ee",
   "metadata": {},
   "outputs": [],
   "source": []
  }
 ],
 "metadata": {
  "kernelspec": {
   "display_name": "Python 3 (ipykernel)",
   "language": "python",
   "name": "python3"
  },
  "language_info": {
   "codemirror_mode": {
    "name": "ipython",
    "version": 3
   },
   "file_extension": ".py",
   "mimetype": "text/x-python",
   "name": "python",
   "nbconvert_exporter": "python",
   "pygments_lexer": "ipython3",
   "version": "3.13.7"
  }
 },
 "nbformat": 4,
 "nbformat_minor": 5
}
