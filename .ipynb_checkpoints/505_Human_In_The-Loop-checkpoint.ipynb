{
 "cells": [
  {
   "cell_type": "markdown",
   "id": "d2963590",
   "metadata": {},
   "source": [
    "# 관리자 결제 승인 시나리오 (Admin Payment Approval Scenario)\n",
    "\n",
    "1. **결제 요청**: 사용자가 특정 금액과 목적에 대해 결제 승인을 요청\n",
    "2. **워크플로우 일시정지**: `interrupt`를 통해 관리자의 응답을 기다림\n",
    "3. **관리자 응답**: 승인 또는 거부 결정\n",
    "4. **워크플로우 재개**: 관리자의 응답에 따라 프로세스 계속 진행"
   ]
  },
  {
   "cell_type": "code",
   "execution_count": 1,
   "id": "42206858",
   "metadata": {},
   "outputs": [
    {
     "data": {
      "text/plain": [
       "True"
      ]
     },
     "execution_count": 1,
     "metadata": {},
     "output_type": "execute_result"
    }
   ],
   "source": [
    "from dotenv import load_dotenv\n",
    "\n",
    "load_dotenv()"
   ]
  },
  {
   "cell_type": "code",
   "execution_count": 2,
   "id": "7a7d8158",
   "metadata": {},
   "outputs": [],
   "source": [
    "from langchain.chat_models import init_chat_model\n",
    "\n",
    "# 모델 초기화\n",
    "model = init_chat_model(\"openai:gpt-5-mini\")\n",
    "# model = init_chat_model(\"google_genai:gemini-2.5-flash\")"
   ]
  },
  {
   "cell_type": "code",
   "execution_count": 13,
   "id": "b40f26fe-e2d7-4771-b96d-bce710f517b6",
   "metadata": {},
   "outputs": [],
   "source": [
    "from uuid import uuid4\n",
    "from langchain.agents import create_agent\n",
    "from langchain.agents.middleware import HumanInTheLoopMiddleware\n",
    "from langgraph.checkpoint.memory import InMemorySaver\n",
    "from langgraph.types import Command\n",
    "from langchain.tools import tool\n",
    "from langchain.messages import HumanMessage, SystemMessage\n",
    "\n",
    "# 결제 승인 요청 도구 정의\n",
    "@tool\n",
    "def request_payment_approval(amount: int, purpose: str, requester: str) -> str:\n",
    "    \"\"\"\n",
    "    관리자 결제 승인 요청 도구.\n",
    "    HumanInTheLoopMiddleware에 의해 interrupt가 발생함.\n",
    "    \"\"\"\n",
    "    return (\n",
    "        f\"결제 승인 요청 발생!\\n\"\n",
    "        f\"- 요청자: {requester}\\n\"\n",
    "        f\"- 금액: {amount:,}원\\n\"\n",
    "        f\"- 목적: {purpose}\\n\"\n",
    "        f\"관리자 결정을 대기 중...\"\n",
    "    )\n",
    "\n",
    "# Human-in-the-Loop 미들웨어 정의\n",
    "hitl = HumanInTheLoopMiddleware(\n",
    "    interrupt_on={\n",
    "        \"request_payment_approval\": {\n",
    "            \"allowed_decisions\": [\"approve\", \"reject\", \"edit\"]\n",
    "        }\n",
    "    }\n",
    ")\n",
    "\n",
    "agent = create_agent(\n",
    "    model,\n",
    "    tools=[request_payment_approval],\n",
    "    checkpointer=InMemorySaver(),\n",
    "    middleware=[hitl],\n",
    ")"
   ]
  },
  {
   "cell_type": "code",
   "execution_count": 14,
   "id": "4392842d-bc0d-47e4-815b-eae19d5d6087",
   "metadata": {},
   "outputs": [
    {
     "name": "stdout",
     "output_type": "stream",
     "text": [
      "[1단계] 결제 요청 → 워크플로우 일시정지\n",
      " {'messages': [SystemMessage(content=\"당신은 결제 승인 Human-in-the-loop 에이전트입니다. 인터럽트가 승인(approve)으로 해소되면, 대기 상태를 반복 설명하지 말고 즉시 '승인 완료/처리 완료' 로만 간단히 출력하세요.\", additional_kwargs={}, response_metadata={}, id='1bf0a768-7d11-4fe7-9ab7-effa08917f34'), HumanMessage(content='관리자님, 홍길동의 결제 요청입니다.\\n- 금액: 850,000원\\n- 목적: 세미나 출장비\\n승인 여부를 판단해 주세요.', additional_kwargs={}, response_metadata={}, id='49f59042-5cd0-4794-8657-0a4bbb755e74'), AIMessage(content='', additional_kwargs={'refusal': None}, response_metadata={'token_usage': {'completion_tokens': 361, 'prompt_tokens': 249, 'total_tokens': 610, 'completion_tokens_details': {'accepted_prediction_tokens': 0, 'audio_tokens': 0, 'reasoning_tokens': 320, 'rejected_prediction_tokens': 0}, 'prompt_tokens_details': {'audio_tokens': 0, 'cached_tokens': 0}}, 'model_provider': 'openai', 'model_name': 'gpt-5-mini-2025-08-07', 'system_fingerprint': None, 'id': 'chatcmpl-CVXg92FD0degSNOYmcDAWla1e4ir0', 'service_tier': 'default', 'finish_reason': 'tool_calls', 'logprobs': None}, id='lc_run--67ac95c3-f565-407c-b527-6d1320eaeb48-0', tool_calls=[{'name': 'request_payment_approval', 'args': {'amount': 850000, 'purpose': '세미나 출장비', 'requester': '홍길동'}, 'id': 'call_YvVfV6KtZjxV6Vkgi3GraKyR', 'type': 'tool_call'}], usage_metadata={'input_tokens': 249, 'output_tokens': 361, 'total_tokens': 610, 'input_token_details': {'audio': 0, 'cache_read': 0}, 'output_token_details': {'audio': 0, 'reasoning': 320}})], '__interrupt__': [Interrupt(value={'action_requests': [{'name': 'request_payment_approval', 'args': {'amount': 850000, 'purpose': '세미나 출장비', 'requester': '홍길동'}, 'description': \"Tool execution requires approval\\n\\nTool: request_payment_approval\\nArgs: {'amount': 850000, 'purpose': '세미나 출장비', 'requester': '홍길동'}\"}], 'review_configs': [{'action_name': 'request_payment_approval', 'allowed_decisions': ['approve', 'reject', 'edit']}]}, id='dbff0bb2574203a6217d6244347294a5')]}\n"
     ]
    }
   ],
   "source": [
    "requester = \"홍길동\"\n",
    "amount = 850_000\n",
    "purpose = \"세미나 출장비\"\n",
    "\n",
    "# thread_id로 세션 유지\n",
    "thread_id = f\"payment-{uuid4()}\"\n",
    "config = {\"configurable\": {\"thread_id\": thread_id}}\n",
    "\n",
    "# 결제 승인 요청 → interrupt 발생\n",
    "response = agent.invoke(\n",
    "    {\n",
    "        \"messages\": [\n",
    "            SystemMessage(content=(\n",
    "                \"당신은 결제 승인 Human-in-the-loop 에이전트입니다. \"\n",
    "                \"인터럽트가 승인(approve)으로 해소되면, 대기 상태를 반복 설명하지 말고 \"\n",
    "                \"즉시 '승인 완료/처리 완료' 로만 간단히 출력하세요.\"\n",
    "            )),\n",
    "            HumanMessage(\n",
    "                content=(\n",
    "                    f\"관리자님, {requester}의 결제 요청입니다.\\n\"\n",
    "                    f\"- 금액: {amount:,}원\\n- 목적: {purpose}\\n\"\n",
    "                    \"승인 여부를 판단해 주세요.\"\n",
    "                )\n",
    "            )\n",
    "        ]\n",
    "    },\n",
    "    config=config,\n",
    ")\n",
    "\n",
    "print(\"[1단계] 결제 요청 → 워크플로우 일시정지\\n\", response)"
   ]
  },
  {
   "cell_type": "code",
   "execution_count": 16,
   "id": "3449bd34-a9f8-4f03-b9ab-5963f5ae43b0",
   "metadata": {},
   "outputs": [
    {
     "data": {
      "text/plain": [
       "[Interrupt(value={'action_requests': [{'name': 'request_payment_approval', 'args': {'amount': 850000, 'purpose': '세미나 출장비', 'requester': '홍길동'}, 'description': \"Tool execution requires approval\\n\\nTool: request_payment_approval\\nArgs: {'amount': 850000, 'purpose': '세미나 출장비', 'requester': '홍길동'}\"}], 'review_configs': [{'action_name': 'request_payment_approval', 'allowed_decisions': ['approve', 'reject', 'edit']}]}, id='dbff0bb2574203a6217d6244347294a5')]"
      ]
     },
     "execution_count": 16,
     "metadata": {},
     "output_type": "execute_result"
    }
   ],
   "source": [
    "response[\"__interrupt__\"]"
   ]
  },
  {
   "cell_type": "code",
   "execution_count": 17,
   "id": "d11d8776-2ff8-4006-a310-57c9ba6f9a6d",
   "metadata": {},
   "outputs": [
    {
     "name": "stdout",
     "output_type": "stream",
     "text": [
      "\n",
      "[2단계] 워크플로우 재개 결과 (승인)\n",
      " {'messages': [SystemMessage(content=\"당신은 결제 승인 Human-in-the-loop 에이전트입니다. 인터럽트가 승인(approve)으로 해소되면, 대기 상태를 반복 설명하지 말고 즉시 '승인 완료/처리 완료' 로만 간단히 출력하세요.\", additional_kwargs={}, response_metadata={}, id='1bf0a768-7d11-4fe7-9ab7-effa08917f34'), HumanMessage(content='관리자님, 홍길동의 결제 요청입니다.\\n- 금액: 850,000원\\n- 목적: 세미나 출장비\\n승인 여부를 판단해 주세요.', additional_kwargs={}, response_metadata={}, id='49f59042-5cd0-4794-8657-0a4bbb755e74'), AIMessage(content='', additional_kwargs={'refusal': None}, response_metadata={'token_usage': {'completion_tokens': 361, 'prompt_tokens': 249, 'total_tokens': 610, 'completion_tokens_details': {'accepted_prediction_tokens': 0, 'audio_tokens': 0, 'reasoning_tokens': 320, 'rejected_prediction_tokens': 0}, 'prompt_tokens_details': {'audio_tokens': 0, 'cached_tokens': 0}}, 'model_provider': 'openai', 'model_name': 'gpt-5-mini-2025-08-07', 'system_fingerprint': None, 'id': 'chatcmpl-CVXg92FD0degSNOYmcDAWla1e4ir0', 'service_tier': 'default', 'finish_reason': 'tool_calls', 'logprobs': None}, id='lc_run--67ac95c3-f565-407c-b527-6d1320eaeb48-0', tool_calls=[{'name': 'request_payment_approval', 'args': {'amount': 850000, 'purpose': '세미나 출장비', 'requester': '홍길동'}, 'id': 'call_YvVfV6KtZjxV6Vkgi3GraKyR', 'type': 'tool_call'}], usage_metadata={'input_tokens': 249, 'output_tokens': 361, 'total_tokens': 610, 'input_token_details': {'audio': 0, 'cache_read': 0}, 'output_token_details': {'audio': 0, 'reasoning': 320}}), ToolMessage(content='결제 승인 요청 발생!\\n- 요청자: 홍길동\\n- 금액: 850,000원\\n- 목적: 세미나 출장비\\n관리자 결정을 대기 중...', name='request_payment_approval', id='c65430d0-d6c6-4f63-b483-5ed5c7bbdef5', tool_call_id='call_YvVfV6KtZjxV6Vkgi3GraKyR'), AIMessage(content='승인 완료', additional_kwargs={'refusal': None}, response_metadata={'token_usage': {'completion_tokens': 460, 'prompt_tokens': 338, 'total_tokens': 798, 'completion_tokens_details': {'accepted_prediction_tokens': 0, 'audio_tokens': 0, 'reasoning_tokens': 448, 'rejected_prediction_tokens': 0}, 'prompt_tokens_details': {'audio_tokens': 0, 'cached_tokens': 0}}, 'model_provider': 'openai', 'model_name': 'gpt-5-mini-2025-08-07', 'system_fingerprint': None, 'id': 'chatcmpl-CVXj0ZUVhYUy6mBwG3utfY2w8hAUA', 'service_tier': 'default', 'finish_reason': 'stop', 'logprobs': None}, id='lc_run--6c9e8104-41f8-4830-9025-124f685a8516-0', usage_metadata={'input_tokens': 338, 'output_tokens': 460, 'total_tokens': 798, 'input_token_details': {'audio': 0, 'cache_read': 0}, 'output_token_details': {'audio': 0, 'reasoning': 448}})]}\n"
     ]
    }
   ],
   "source": [
    "# Command로 approve 결정 전달\n",
    "admin_command = Command(resume={\n",
    "    \"decisions\": [\n",
    "        {\n",
    "            \"tool\": \"request_payment_approval\",   # 인터럽트가 걸린 툴 이름과 정확히 일치해야 함\n",
    "            \"type\": \"approve\",           # approve / edit / reject\n",
    "        }\n",
    "    ]\n",
    "})\n",
    "\n",
    "resumed = agent.invoke(\n",
    "    admin_command,\n",
    "    config\n",
    ")\n",
    "\n",
    "print(\"\\n[2단계] 워크플로우 재개 결과 (승인)\\n\", resumed)"
   ]
  },
  {
   "cell_type": "code",
   "execution_count": 18,
   "id": "e9b89e74-8ec6-4a77-8fe2-b5a1879224cf",
   "metadata": {},
   "outputs": [
    {
     "name": "stdout",
     "output_type": "stream",
     "text": [
      "==================================\u001b[1m Ai Message \u001b[0m==================================\n",
      "\n",
      "승인 완료\n"
     ]
    }
   ],
   "source": [
    "resumed['messages'][-1].pretty_print()"
   ]
  },
  {
   "cell_type": "code",
   "execution_count": null,
   "id": "ff0a7f42-7210-4f66-a5ec-f4ca9ca17ad9",
   "metadata": {},
   "outputs": [],
   "source": []
  }
 ],
 "metadata": {
  "kernelspec": {
   "display_name": "Python 3 (ipykernel)",
   "language": "python",
   "name": "python3"
  },
  "language_info": {
   "codemirror_mode": {
    "name": "ipython",
    "version": 3
   },
   "file_extension": ".py",
   "mimetype": "text/x-python",
   "name": "python",
   "nbconvert_exporter": "python",
   "pygments_lexer": "ipython3",
   "version": "3.13.7"
  }
 },
 "nbformat": 4,
 "nbformat_minor": 5
}
