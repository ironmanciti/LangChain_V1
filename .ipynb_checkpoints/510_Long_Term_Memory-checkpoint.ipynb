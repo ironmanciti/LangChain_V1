{
 "cells": [
  {
   "cell_type": "markdown",
   "id": "829b025e-9712-421f-8cce-2250da83ed61",
   "metadata": {},
   "source": [
    "# 장기 메모리 (Long-term Memory)\n",
    "\n",
    "LangChain 에이전트는 **LangGraph persistence** 기능을 사용하여 **장기 메모리(long-term memory)** 를 구현할 수 있습니다.\n",
    "이 기능은 고급 주제에 속하며, 이를 사용하려면 **LangGraph의 동작 원리에 대한 이해**가 필요합니다.\n",
    "\n",
    "LangGraph는 장기 메모리를 **JSON 문서 형식**으로 저장하며,\n",
    "이를 **store(저장소)** 에 보관합니다.\n",
    "\n",
    "각 메모리는 다음과 같이 구성됩니다:\n",
    "\n",
    "* **namespace (네임스페이스)** → 폴더와 비슷한 개념으로, 데이터를 그룹화하는 단위입니다.\n",
    "* **key (키)** → 파일 이름처럼, 해당 메모리를 구분하는 고유 식별자입니다.\n",
    "\n",
    "보통 `namespace`에는 사용자 ID, 조직 ID 등의 정보를 포함하여\n",
    "데이터를 논리적으로 분류하고 관리하기 쉽게 합니다.\n",
    "\n",
    "이러한 구조를 통해 **계층적(hierarchical) 메모리 관리**가 가능하며,\n",
    "**콘텐츠 필터(content filter)** 를 활용한 **교차-네임스페이스 검색**도 지원됩니다.\n",
    "\n",
    "\n",
    "| 구분    | 단기 메모리 (short-term memory)                    | 장기 메모리 (long-term memory)          |\n",
    "| ----- | --------------------------------------------- | ---------------------------------- |\n",
    "| 저장 범위 | 현재 스레드(thread)나 세션 내 메시지                      | 여러 스레드, 여러 세션에 걸친 데이터              |\n",
    "| 지속성   | 일시적 (대화 종료 시 사라짐)                             | 지속적 (DB나 파일에 저장)                   |\n",
    "| 예시    | “방금 말한 게 뭐였지?”                                | “이전에 내가 말한 취미 기억해?”                |\n",
    "| 구현 방식 | `checkpointer` (InMemorySaver, SqliteSaver 등) | `store` (InMemoryStore, DBStore 등) |\n",
    "| 관리 단위 | 메시지 기록                                        | JSON 문서 (사용자 프로필, 설정, 기록 등)        |\n"
   ]
  },
  {
   "cell_type": "code",
   "execution_count": 1,
   "id": "6e5e71e5-fdf5-4a78-8ab6-c69e9d6ef718",
   "metadata": {},
   "outputs": [
    {
     "data": {
      "text/plain": [
       "True"
      ]
     },
     "execution_count": 1,
     "metadata": {},
     "output_type": "execute_result"
    }
   ],
   "source": [
    "from dotenv import load_dotenv\n",
    "\n",
    "load_dotenv()"
   ]
  },
  {
   "cell_type": "code",
   "execution_count": 4,
   "id": "f012e15d-5ded-40d0-b544-bda2fbb1e72b",
   "metadata": {},
   "outputs": [],
   "source": [
    "from langchain.chat_models import init_chat_model\n",
    "from langchain_openai import OpenAIEmbeddings\n",
    "\n",
    "# model = init_chat_model(\"gpt-5-nano\", model_provider=\"openai\")\n",
    "model = init_chat_model(\"gemini-2.5-flash\", model_provider=\"google_genai\")\n",
    "embeddings = OpenAIEmbeddings(model=\"text-embedding-3-small\")"
   ]
  },
  {
   "cell_type": "markdown",
   "id": "c35df85b-19c5-4eb7-8d6b-832e374f405c",
   "metadata": {},
   "source": [
    "### Long-term 메모리 생성"
   ]
  },
  {
   "cell_type": "code",
   "execution_count": 13,
   "id": "e7b01e2d-11ba-49da-a26a-13b2514d471e",
   "metadata": {},
   "outputs": [
    {
     "name": "stdout",
     "output_type": "stream",
     "text": [
      "memory_3 => ['사용자는 한국어로만 대화합니다.'] 유사도: 0.276\n",
      "memory_1 => ['사용자는 금융 전문가 입니다.', '사용자는 영어와 파이썬만 사용합니다.'] 유사도: 0.21\n",
      "memory_2 => ['사용자는 투자 전략에 관심이 많습니다.'] 유사도: 0.169\n"
     ]
    },
    {
     "data": {
      "text/plain": [
       "Item(namespace=['oyj-1', 'chat-1'], key='memory_1', value={'rules': ['사용자는 금융 전문가 입니다.', '사용자는 영어와 파이썬만 사용합니다.'], 'my_key': 'my-key-value'}, created_at='2025-10-31T05:10:50.341841+00:00', updated_at='2025-10-31T05:10:50.341841+00:00')"
      ]
     },
     "execution_count": 13,
     "metadata": {},
     "output_type": "execute_result"
    }
   ],
   "source": [
    "from langgraph.store.memory import InMemoryStore\n",
    "\n",
    "# 임베딩 함수\n",
    "def embed(texts: list[str]) -> list[list[float]]:\n",
    "    if isinstance(texts, str):\n",
    "        texts = [texts]\n",
    "    return embeddings.embed_documents(texts)\n",
    "\n",
    "# 스토어 & 네임스페이스\n",
    "store = InMemoryStore(index={\"embed\": embed, \"dims\": 1536})\n",
    "namespace = (\"oyj-1\", \"chat-1\")\n",
    "\n",
    "# 메모리 저장\n",
    "memories = {\n",
    "    \"memory_1\": {\n",
    "        \"rules\": [\"사용자는 금융 전문가 입니다.\", \"사용자는 영어와 파이썬만 사용합니다.\"],\n",
    "        \"my_key\": \"my-key-value\",\n",
    "    },\n",
    "    \"memory_2\": {\n",
    "        \"rules\": [\"사용자는 투자 전략에 관심이 많습니다.\"],\n",
    "        \"my_key\": \"my-key-value\",\n",
    "    },\n",
    "    \"memory_3\": {\n",
    "        \"rules\": [\"사용자는 한국어로만 대화합니다.\"],\n",
    "        \"my_key\": \"my-key-value\",\n",
    "    },\n",
    "}\n",
    "for k, v in memories.items():\n",
    "    store.put(namespace, k, v)\n",
    "\n",
    "# 유사도 검색 (필터+쿼리)\n",
    "results = store.search(namespace, filter={\"my_key\": \"my-key-value\"}, query=\"language 선호도\")\n",
    "for it in results:\n",
    "    print(it.key, \"=>\", it.value[\"rules\"], \"유사도:\", round(it.score, 3))\n",
    "\n",
    "# 특정 키 조회 예시 (필요 시)\n",
    "item = store.get(namespace, \"memory_1\")\n",
    "item"
   ]
  },
  {
   "cell_type": "markdown",
   "id": "e9a7c067-5418-448e-b6d6-e88eafce0178",
   "metadata": {},
   "source": [
    "## 도구에서 장기 메모리 읽기"
   ]
  },
  {
   "cell_type": "code",
   "execution_count": 14,
   "id": "eddfd141-84ef-4a72-bae0-ff653cbc1232",
   "metadata": {},
   "outputs": [
    {
     "data": {
      "text/plain": [
       "{'messages': [HumanMessage(content='사용자 정보를 조회해줘', additional_kwargs={}, response_metadata={}, id='85329b4d-fa89-4e45-bb9b-7bcf1d31a560'),\n",
       "  AIMessage(content='', additional_kwargs={'function_call': {'name': 'get_user_info', 'arguments': '{}'}}, response_metadata={'prompt_feedback': {'block_reason': 0, 'safety_ratings': []}, 'finish_reason': 'STOP', 'model_name': 'gemini-2.5-flash', 'safety_ratings': [], 'grounding_metadata': {}, 'model_provider': 'google_genai'}, id='lc_run--3a82ec05-3621-4a6c-994c-27df3f863a29-0', tool_calls=[{'name': 'get_user_info', 'args': {}, 'id': '5ac1a589-4591-4dfa-9b3a-967872c869e8', 'type': 'tool_call'}], usage_metadata={'input_tokens': 36, 'output_tokens': 50, 'total_tokens': 86, 'input_token_details': {'cache_read': 0}, 'output_token_details': {'reasoning': 38}}),\n",
       "  ToolMessage(content=\"{'name': 'John Smith', 'language': 'English'}\", name='get_user_info', id='0289d6f6-3fda-4a4a-a816-bd06a4c6aa80', tool_call_id='5ac1a589-4591-4dfa-9b3a-967872c869e8'),\n",
       "  AIMessage(content='사용자 정보는 John Smith이고 언어는 English 입니다.', additional_kwargs={}, response_metadata={'prompt_feedback': {'block_reason': 0, 'safety_ratings': []}, 'finish_reason': 'STOP', 'model_name': 'gemini-2.5-flash', 'safety_ratings': [], 'grounding_metadata': {}, 'model_provider': 'google_genai'}, id='lc_run--87f1ea7d-5b7a-4e7e-ae05-9875f0861ebe-0', usage_metadata={'input_tokens': 81, 'output_tokens': 13, 'total_tokens': 94, 'input_token_details': {'cache_read': 0}})]}"
      ]
     },
     "execution_count": 14,
     "metadata": {},
     "output_type": "execute_result"
    }
   ],
   "source": [
    "from dataclasses import dataclass\n",
    "from langchain_core.runnables import RunnableConfig\n",
    "from langchain.agents import create_agent\n",
    "from langchain.agents import AgentState\n",
    "from langchain.tools import tool, ToolRuntime\n",
    "from langgraph.store.memory import InMemoryStore\n",
    "\n",
    "@dataclass\n",
    "class Context:\n",
    "    user_id: str\n",
    "\n",
    "# InMemoryStore는 메모리를 메모리(dictionary)에 저장합니다.\n",
    "# 실제 서비스 환경에서는 DB 기반 저장소를 사용하는 것이 좋습니다.\n",
    "store = InMemoryStore()  \n",
    "\n",
    "# 예시 데이터 저장\n",
    "store.put(  \n",
    "    (\"users\",),  # 사용자 데이터를 모아두는 namespace\n",
    "    \"user_123\",  # 사용자 ID (key)\n",
    "    {\n",
    "        \"name\": \"John Smith\",\n",
    "        \"language\": \"English\",\n",
    "    }  # 사용자 정보\n",
    ")\n",
    "\n",
    "@tool\n",
    "def get_user_info(runtime: ToolRuntime[Context, AgentState]) -> str:\n",
    "    \"\"\"사용자 정보를 조회합니다.\"\"\"  \n",
    "    store = runtime.store\n",
    "    user_id = runtime.context.user_id\n",
    "    user_info = store.get((\"users\",), user_id)\n",
    "    return str(user_info.value) if user_info else \"Unknown user\"\n",
    "\n",
    "# 에이전트 생성\n",
    "agent = create_agent(\n",
    "    model,\n",
    "    tools=[get_user_info],\n",
    "    store=store,  # 도구가 접근할 수 있도록 store를 전달\n",
    "    context_schema=Context\n",
    ")\n",
    "\n",
    "# 실행 예시\n",
    "agent.invoke(\n",
    "    {\"messages\": [{\"role\": \"user\", \"content\": \"사용자 정보를 조회해줘\"}]},\n",
    "    context=Context(user_id=\"user_123\") \n",
    ")"
   ]
  },
  {
   "cell_type": "markdown",
   "id": "96c67858-a7dd-450f-b35e-4d67046f58ef",
   "metadata": {},
   "source": [
    "## 도구에서 장기 메모리 쓰기"
   ]
  },
  {
   "cell_type": "code",
   "execution_count": 15,
   "id": "dccd3c50-43f6-4854-80dd-3a2dbac1ebc8",
   "metadata": {},
   "outputs": [
    {
     "name": "stdout",
     "output_type": "stream",
     "text": [
      "{'name': '길동'}\n"
     ]
    }
   ],
   "source": [
    "from dataclasses import dataclass\n",
    "from typing import Any\n",
    "from typing_extensions import TypedDict\n",
    "\n",
    "from langchain.agents import create_agent\n",
    "from langchain.tools import tool, ToolRuntime\n",
    "from langgraph.store.memory import InMemoryStore\n",
    "\n",
    "\n",
    "# InMemoryStore: 메모리에 데이터를 저장하는 임시 스토리지\n",
    "# 실제 서비스 환경(Production)에서는 DB 기반 스토리지로 대체 가능\n",
    "store = InMemoryStore() \n",
    "\n",
    "@dataclass\n",
    "class Context:\n",
    "    user_id: str  \n",
    "\n",
    "# TypedDict: LLM이 이해할 수 있는 사용자 정보 구조 정의\n",
    "class UserInfo(TypedDict):\n",
    "    name: str  \n",
    "\n",
    "# 에이전트가 사용자 정보를 업데이트할 수 있도록 하는 함수 (특히 대화형 애플리케이션에서 유용)\n",
    "@tool\n",
    "def save_user_info(user_info: UserInfo, runtime: ToolRuntime[Context, Any]) -> str:\n",
    "    \"\"\"사용자 정보를 스토어에 저장합니다.\"\"\"\n",
    "    # LangGraph 런타임에서 제공하는 store 및 context 접근\n",
    "    store = runtime.store                  # 현재 실행 중인 store 객체\n",
    "    user_id = runtime.context.user_id      # Context로 전달된 user_id 추출\n",
    "    \n",
    "    # 데이터 저장: (네임스페이스, 키, 값)\n",
    "    # 여기서는 (\"users\",) 네임스페이스 아래 user_id별로 UserInfo 저장\n",
    "    store.put((\"users\",), user_id, user_info) \n",
    "    \n",
    "    return \"사용자 정보가 성공적으로 저장되었습니다.\"\n",
    "\n",
    "# 에이전트 생성\n",
    "agent = create_agent(\n",
    "    model,\n",
    "    tools=[save_user_info],                # 에이전트가 호출할 수 있는 도구 등록\n",
    "    store=store,                           # 스토어 전달\n",
    "    context_schema=Context                 # Context 데이터 클래스 전달\n",
    ")\n",
    "\n",
    "agent.invoke(\n",
    "    {\n",
    "        \"messages\": [\n",
    "            {\"role\": \"user\", \"content\": \"내 이름은 길동이야.\"}  # 사용자 입력\n",
    "        ]\n",
    "    },\n",
    "    context=Context(user_id=\"user_123\")  # Context를 통해 user_id 전달 (사용자 식별)\n",
    ")\n",
    "\n",
    "# 스토어에 저장된 사용자 정보 직접 확인\n",
    "result = store.get((\"users\",), \"user_123\").value\n",
    "print(result)  "
   ]
  },
  {
   "cell_type": "code",
   "execution_count": null,
   "id": "c518e691-ee15-4f94-bd34-befcd58fb9ee",
   "metadata": {},
   "outputs": [],
   "source": []
  }
 ],
 "metadata": {
  "kernelspec": {
   "display_name": "Python 3 (ipykernel)",
   "language": "python",
   "name": "python3"
  },
  "language_info": {
   "codemirror_mode": {
    "name": "ipython",
    "version": 3
   },
   "file_extension": ".py",
   "mimetype": "text/x-python",
   "name": "python",
   "nbconvert_exporter": "python",
   "pygments_lexer": "ipython3",
   "version": "3.12.12"
  }
 },
 "nbformat": 4,
 "nbformat_minor": 5
}
