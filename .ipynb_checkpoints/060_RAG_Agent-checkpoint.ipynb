{
 "cells": [
  {
   "cell_type": "markdown",
   "id": "290627c5-1a39-4981-8139-bb8e15a1f46d",
   "metadata": {},
   "source": [
    "# LangChain 으로 RAG Agent 구축\n",
    "LLM이 지원하는 가장 강력한 애플리케이션 중 하나는 정교한 질의응답(Q&A) 챗봇입니다. 이는 특정 출처 정보에 대한 질문에 답할 수 있는 애플리케이션입니다. 이러한 애플리케이션은 검색 증강 생성(Retrieval Augmented Generation, RAG) 이라는 기술을 사용합니다.\n",
    "이 튜토리얼에서는 비정형 텍스트 데이터 소스를 기반으로 간단한 Q&A 애플리케이션을 구축하는 방법을 보여줍니다. 다음 내용을 시연합니다.\n",
    "간단한 도구로 검색을 실행하는 RAG 에이전트입니다 . 범용으로 사용하기 좋은 구현체입니다.\n",
    "쿼리당 단 하나의 LLM 호출만 사용하는 2단계 RAG 체인 입니다. 간단한 쿼리에 빠르고 효과적인 방법입니다.\n",
    "​\n",
    "개념\n",
    "우리는 다음과 같은 개념을 다룰 것입니다:\n",
    "인덱싱 : 소스에서 데이터를 수집하고 인덱싱하는 파이프라인입니다. 일반적으로 별도의 프로세스로 진행됩니다.\n",
    "검색 및 생성 : 런타임에 사용자 쿼리를 받아 인덱스에서 관련 데이터를 검색한 다음 이를 모델에 전달하는 실제 RAG 프로세스입니다."
   ]
  },
  {
   "cell_type": "code",
   "execution_count": null,
   "id": "fc89f231-2340-4a6d-ab2e-a4cbd4705fd1",
   "metadata": {},
   "outputs": [],
   "source": []
  },
  {
   "cell_type": "code",
   "execution_count": null,
   "id": "7ca59887-c697-4e12-95b8-9a85061898c7",
   "metadata": {},
   "outputs": [],
   "source": []
  },
  {
   "cell_type": "markdown",
   "id": "5630b0ca",
   "metadata": {
    "id": "5630b0ca"
   },
   "source": [
    "# **Retrieval Augmented Generation (RAG) 애플리케이션 구축\n",
    "\n",
    "LLM이 지원하는 가장 강력한 애플리케이션 중 하나는 정교한 질의응답(Q&A) 챗봇입니다.\n",
    "이 챗봇은 특정 데이터 소스에 기반한 질문에 정확히 답변할 수 있는 애플리케이션으로,\n",
    "주로 검색 증강 생성(Retrieval-Augmented Generation, RAG) 기술을 사용합니다.\n",
    "\n",
    "## 전형적인 **RAG 애플리케이션**\n",
    "\n",
    "두 가지 주요 구성 요소로 이루어져 있습니다:  \n",
    "\n",
    "1. **인덱싱(Indexing)**: 데이터 소스를 수집하고 인덱싱하는 파이프라인입니다. *일반적으로 오프라인에서 수행됩니다.*  \n",
    "2. **검색 및 생성(Retrieval and Generation)**: 실행 시간에 사용자 쿼리를 받아 인덱스에서 관련 데이터를 검색한 후, 모델에 전달하여 답변을 생성합니다.  \n",
    "\n",
    "---\n",
    "\n",
    "### **인덱싱 단계**  \n",
    "일반적인 데이터 인덱싱 과정은 다음과 같습니다:  \n",
    "\n",
    "1. **로드(Load)**  \n",
    "   - 먼저 데이터를 불러와야 합니다. 이는 문서 로더(Document Loaders)를 사용하여 수행됩니다.  \n",
    "\n",
    "2. **분할(Split)**  \n",
    "   - 텍스트 분할기(Text Splitters)를 사용해 큰 `문서(Document)`를 작은 청크(chunk)로 나눕니다.  \n",
    "   - 이렇게 하면 검색이 더 효율적이며, 모델의 제한된 컨텍스트 윈도우에 맞출 수 있습니다.  \n",
    "\n",
    "3. **저장(Store)**  \n",
    "   - 분할된 데이터를 저장하고 인덱싱할 장소가 필요합니다.  \n",
    "   - 일반적으로 벡터 스토어(VectorStore)와 임베딩 모델(Embeddings)을 사용합니다.  \n",
    "---\n",
    "\n",
    "### **검색 및 생성 단계**  \n",
    "\n",
    "일반적인 검색 및 생성 과정은 다음과 같습니다:  \n",
    "\n",
    "4. **검색(Retrieve)**  \n",
    "   - 사용자 입력을 받아 검색기(Retriever)를 사용하여 저장된 데이터에서 관련 청크를 검색합니다.  \n",
    "\n",
    "5. **생성(Generate)**  \n",
    "   - 챗 모델(ChatModel) 또는 LLM이 검색된 데이터를 포함한 프롬프트를 사용해 답변을 생성합니다.  "
   ]
  },
  {
   "cell_type": "code",
   "execution_count": 1,
   "id": "40f3a87c",
   "metadata": {},
   "outputs": [
    {
     "data": {
      "text/plain": [
       "True"
      ]
     },
     "execution_count": 1,
     "metadata": {},
     "output_type": "execute_result"
    }
   ],
   "source": [
    "from dotenv import load_dotenv\n",
    "load_dotenv()"
   ]
  },
  {
   "cell_type": "code",
   "execution_count": 2,
   "id": "9ba74a25",
   "metadata": {},
   "outputs": [
    {
     "data": {
      "text/plain": [
       "HuggingFaceEmbeddings(model_name='nlpai-lab/KURE-v1', cache_folder=None, model_kwargs={}, encode_kwargs={}, query_encode_kwargs={}, multi_process=False, show_progress=False)"
      ]
     },
     "execution_count": 2,
     "metadata": {},
     "output_type": "execute_result"
    }
   ],
   "source": [
    "from langchain.chat_models import init_chat_model\n",
    "\n",
    "# model = init_chat_model(\"gpt-5-nano\", model_provider=\"openai\")\n",
    "model = init_chat_model(\"gemini-2.5-flash\", model_provider=\"google_genai\")\n",
    "\n",
    "from langchain_openai import OpenAIEmbeddings\n",
    "\n",
    "embeddings = OpenAIEmbeddings(model='text-embedding-3-large')\n",
    "\n",
    "from langchain_huggingface import HuggingFaceEmbeddings\n",
    "# Hugging Face Hub에서 한국어 임베딩 모델 로드\n",
    "# KURE-v1은 한국어에 특화된 문장 임베딩 모델입니다.\n",
    "embeddings = HuggingFaceEmbeddings(model_name=\"nlpai-lab/KURE-v1\")\n",
    "embeddings"
   ]
  },
  {
   "cell_type": "code",
   "execution_count": 3,
   "id": "d92cbc53",
   "metadata": {},
   "outputs": [],
   "source": [
    "# InMemoryVectorStore - 메모리 내에서 벡터 데이터를 저장 및 빠른 검색\n",
    "from langchain_core.vectorstores import InMemoryVectorStore\n",
    "\n",
    "vector_store = InMemoryVectorStore(embeddings)"
   ]
  },
  {
   "cell_type": "markdown",
   "id": "93b2d316-922c-4318-b72d-486fd6813b94",
   "metadata": {
    "id": "93b2d316-922c-4318-b72d-486fd6813b94"
   },
   "source": [
    "이  노트북에서는 **웹사이트 콘텐츠에 대한 질문에 답변하는 애플리케이션**을 구축합니다.  \n",
    "**텍스트를 로드, 분할, 인덱싱**한 후, **사용자 질문을 기반으로 관련 데이터를 검색**하고 답변을 생성합니다."
   ]
  },
  {
   "cell_type": "markdown",
   "id": "10644e09-b667-4a28-b066-5447339125a0",
   "metadata": {},
   "source": [
    "## **단계별 상세 설명**\n",
    "\n",
    "## **1. 인덱싱 (Indexing)**\n",
    "\n",
    "### **문서 불러오기 (Loading Documents)**\n",
    "\n",
    "먼저 **Document Loaders** 중 **[WebBaseLoader](https://python.langchain.com/docs/integrations/document_loaders/web_base/)** 를 사용하여 블로그 게시물의 내용을 불러옵니다. \n",
    "\n",
    "* `WebBaseLoader`클라스는 내부적으로 `urllib`을 사용해 **웹 URL에서 HTML을 로드**합니다.\n",
    "* 이후, `BeautifulSoup`을 사용해 **텍스트로 파싱**하고 **Document** 객체 목록으로 반환합니다.\n",
    "\n",
    "#### **HTML → 텍스트 변환 커스터마이징**\n",
    "\n",
    "* 우리는 `<h1>`, `<h2>`, `<h3>`, `<p>`, `<pre>`, `<li>` 등 주요 콘텐츠를 포함하는 태그만 추출하도록 설정합니다.\n",
    "* 또한 일부 웹사이트에서는 User-Agent를 설정하지 않으면 콘텐츠를 차단할 수 있으므로, `requests_kwargs`를 사용해 User-Agent를 지정해줍니다."
   ]
  },
  {
   "cell_type": "code",
   "execution_count": 4,
   "id": "d06fc9cc-1bd5-42d0-a0a8-cd6d93b7410a",
   "metadata": {},
   "outputs": [
    {
     "name": "stderr",
     "output_type": "stream",
     "text": [
      "USER_AGENT environment variable not set, consider setting it to identify your requests.\n"
     ]
    },
    {
     "name": "stdout",
     "output_type": "stream",
     "text": [
      "Total characters: 7678\n"
     ]
    }
   ],
   "source": [
    "import bs4\n",
    "from langchain_community.document_loaders import WebBaseLoader\n",
    "\n",
    "# 주요 콘텐츠 태그만 필터링 (제목, 본문, 코드 등)\n",
    "bs4_strainer = bs4.SoupStrainer(name=(\"h1\", \"h2\", \"h3\", \"p\", \"pre\", \"li\"))\n",
    "\n",
    "# WebBaseLoader 사용: requests_kwargs로 User-Agent 설정\n",
    "loader = WebBaseLoader(\n",
    "    web_paths=(\"https://botpress.com/ko/blog/llm-agents\",),\n",
    "    bs_kwargs={\"parse_only\": bs4_strainer},\n",
    "    requests_kwargs={\n",
    "        \"headers\": {\n",
    "            \"User-Agent\": \"Mozilla/5.0 (Windows NT 10.0; Win64; x64)\"\n",
    "        }\n",
    "    }\n",
    ")\n",
    "\n",
    "# 문서 로드\n",
    "docs = loader.load()\n",
    "\n",
    "# 결과 확인\n",
    "assert len(docs) == 1\n",
    "print(f\"Total characters: {len(docs[0].page_content)}\")"
   ]
  },
  {
   "cell_type": "code",
   "execution_count": 5,
   "id": "8643579c",
   "metadata": {},
   "outputs": [
    {
     "name": "stdout",
     "output_type": "stream",
     "text": [
      "7678\n",
      "LLM 에이전트 완벽 가이드 (2025)LLM 에이전트는 언어 이해, 메모리, 도구 활용, 계획 수립을 결합해 단순 채팅을 넘어 복잡하고 자율적인 작업을 수행합니다.LLM 에이전트의 성능을 높이기 위해 RAG, 파인튜닝, n-샷 프롬프트, 고급 프롬프트 엔지니어링 등 다양한 기법이 사용됩니다. 이를 통해 정확성과 신뢰성을 개선할 수 있습니다.LLM 에이전트 구축에는 명확한 목표 설정, 적합한 플랫폼 선택, 모델 구성, 통합, 테스트, 지속적인 모니터링이 필요합니다.LLM 에이전트는 강력하지만 환각, 개인정보 위험, 맥락 제한 등 한계가 있으므로 신중한 설계와 관리가 필수적입니다.올해 가장 뜨거운 주제인 AI 에이전트에 대해 이미 들어보셨을 겁니다. 이 AI 에이전트 대부분이 LLM 에이전트인 이유는 무엇일까요?\"최근 몇 년간 자율 에이전트가 변화했습니다.\"라고 Botpress CEO Sylvain Perron이 설명합니다. \"기반 모델이 발전했고, LLM 덕분에 새로운 수준의 추론과\n"
     ]
    }
   ],
   "source": [
    "# 문서 길이\n",
    "print(len(docs[0].page_content))\n",
    "# 첫번째 500 자 출력\n",
    "print(docs[0].page_content[:500])"
   ]
  },
  {
   "cell_type": "markdown",
   "id": "e6f11795-e19f-4697-bc6e-6d477355a1cd",
   "metadata": {
    "id": "e6f11795-e19f-4697-bc6e-6d477355a1cd"
   },
   "source": [
    "\n",
    "---\n",
    "\n",
    "### **문서 분할 (Splitting documents)**  \n",
    "\n",
    "문서 길이가 언어 모델의 **컨텍스트 윈도우(context window)** 에 넣기에 너무 길 경우, 너무 긴 입력은 **정보를 효과적으로 찾아내기 어려울 수 있습니다.**  \n",
    "\n",
    "이 문제를 해결하기 위해, **`Document`를 작은 청크(chunk)로 분할**하여 **임베딩(embedding)** 및 **벡터 저장(vector storage)** 에 사용합니다.  \n",
    "이렇게 하면 블로그 게시물의 **가장 관련성 높은 부분만 검색**할 수 있습니다.  \n",
    "\n",
    "---\n",
    "\n",
    "**RecursiveCharacterTextSplitter**는 문서를 **공통 구분자(예: 줄바꿈)** 를  사용해 재귀적으로 분할합니다.  일반적인 텍스트 사용 사례에 가장 적합한 텍스트 분할기입니다."
   ]
  },
  {
   "cell_type": "code",
   "execution_count": 6,
   "id": "6606d8f6",
   "metadata": {},
   "outputs": [
    {
     "name": "stdout",
     "output_type": "stream",
     "text": [
      "블로그 글을 10개의 하위 문서로 분할했습니다.\n"
     ]
    }
   ],
   "source": [
    "from langchain_text_splitters import RecursiveCharacterTextSplitter\n",
    "\n",
    "text_splitter = RecursiveCharacterTextSplitter(\n",
    "    chunk_size=1000,            # 각 청크의 최대 문자 수 (1,000자)\n",
    "    chunk_overlap=200,          # 청크 간 겹치는 문자 수 (200자)\n",
    "    add_start_index=True,       # 원본 문서에서 각 청크의 시작 인덱스를 추적\n",
    ")\n",
    "\n",
    "# 불러온 문서를 설정한 기준에 따라 청크로 분할\n",
    "all_splits = text_splitter.split_documents(docs)\n",
    "\n",
    "# 분할된 청크(서브 문서)의 개수 출력\n",
    "print(f\"블로그 글을 {len(all_splits)}개의 하위 문서로 분할했습니다.\")"
   ]
  },
  {
   "cell_type": "code",
   "execution_count": 7,
   "id": "024f0446-4d6b-488e-afd2-073a992f3e94",
   "metadata": {
    "scrolled": true
   },
   "outputs": [
    {
     "data": {
      "text/plain": [
       "[Document(metadata={'source': 'https://botpress.com/ko/blog/llm-agents', 'start_index': 0}, page_content='LLM 에이전트 완벽 가이드 (2025)LLM 에이전트는 언어 이해, 메모리, 도구 활용, 계획 수립을 결합해 단순 채팅을 넘어 복잡하고 자율적인 작업을 수행합니다.LLM 에이전트의 성능을 높이기 위해 RAG, 파인튜닝, n-샷 프롬프트, 고급 프롬프트 엔지니어링 등 다양한 기법이 사용됩니다. 이를 통해 정확성과 신뢰성을 개선할 수 있습니다.LLM 에이전트 구축에는 명확한 목표 설정, 적합한 플랫폼 선택, 모델 구성, 통합, 테스트, 지속적인 모니터링이 필요합니다.LLM 에이전트는 강력하지만 환각, 개인정보 위험, 맥락 제한 등 한계가 있으므로 신중한 설계와 관리가 필수적입니다.올해 가장 뜨거운 주제인 AI 에이전트에 대해 이미 들어보셨을 겁니다. 이 AI 에이전트 대부분이 LLM 에이전트인 이유는 무엇일까요?\"최근 몇 년간 자율 에이전트가 변화했습니다.\"라고 Botpress CEO Sylvain Perron이 설명합니다. \"기반 모델이 발전했고, LLM 덕분에 새로운 수준의 추론과 추상화가 가능해졌습니다.\"LLM의 힘으로 AI 에이전트는 모든 종류의 언어 기반 또는 추론 작업을 완료할 수 있습니다.이들의 언어 및 분석 능력 덕분에, 앞으로 몇 년 내 80% 이상의 기업이 AI 에이전트 도입을 계획하면서 점차 사무직 업무를 대체하고 있습니다.AI 에이전트의 범주는 비언어적 애플리케이션(콘텐츠 추천, 이미지 인식, 로봇 제어 등)도 포함하지만, LLM 에이전트는 일반적으로 대화형 AI 소프트웨어입니다.LLM 에이전트란?LLM 에이전트는 대형 언어 모델을 활용해 언어를 해석하고, 대화를 나누며, 다양한 작업을 수행하는 AI 기반 도구입니다.이 에이전트는 방대한 텍스트 데이터로 학습된 복잡한 알고리즘을 기반으로 하여, 인간과 유사한 방식으로 언어를 이해하고 생성할 수 있습니다.LLM 에이전트는 AI 에이전트, AI 챗봇, 가상 비서, 콘텐츠 생성 소프트웨어 등 다양한 도구에 통합될 수 있습니다.LLM 에이전트는 어떻게 작동하나요?LLM 에이전트는 LLM의 강력함에'),\n",
       " Document(metadata={'source': 'https://botpress.com/ko/blog/llm-agents', 'start_index': 804}, page_content='AI 기반 도구입니다.이 에이전트는 방대한 텍스트 데이터로 학습된 복잡한 알고리즘을 기반으로 하여, 인간과 유사한 방식으로 언어를 이해하고 생성할 수 있습니다.LLM 에이전트는 AI 에이전트, AI 챗봇, 가상 비서, 콘텐츠 생성 소프트웨어 등 다양한 도구에 통합될 수 있습니다.LLM 에이전트는 어떻게 작동하나요?LLM 에이전트는 LLM의 강력함에 검색, 추론, 메모리, 도구 활용을 결합해 자율적으로 작업을 완수합니다. 각 구성 요소의 역할을 살펴보겠습니다.\\u200d이러한 기능이 결합되어 LLM 에이전트는 복잡하고 다단계의 워크플로우도 완전히 자율적으로 처리할 수 있습니다.예를 들어:B2B 영업 에이전트는 CRM에서 잠재 고객 데이터를 검색하고, 거래 진행 상황을 분석하며, 과거 상호작용을 기억해 맞춤형 후속 조치를 취하고, 이메일과 캘린더 API를 활용해 발송 및 일정을 잡습니다.IT 에이전트는 시스템 로그를 검색해 오류를 진단하고, 문제 해결 단계를 분석하며, 이전 사용자 이슈에서 효과적이었던 방법을 기억하고, 스크립트를 실행해 서비스를 재시작하거나 티켓을 생성합니다.LLM 에이전트를 정의하는 4가지 특징은 무엇인가요?LLM 에이전트의 핵심 특징 네 가지는 다음과 같습니다.1. 언어 모델언어 모델은 LLM 에이전트의 ‘두뇌’로 여겨집니다. 모델의 품질과 규모가 LLM 에이전트의 성능에 직접적인 영향을 미칩니다.방대한 텍스트 데이터로 학습된 정교한 알고리즘으로, 맥락을 이해하고 패턴을 인식하며 일관성 있고 상황에 맞는 답변을 생성할 수 있습니다.언어 패턴을 식별하고 학습방대한 학습 데이터 덕분에 맥락 인식 능력 확보다양한 분야에 적응하고 폭넓은 주제 처리 가능언어 모델은 답변의 깊이, 정확성, 관련성을 결정하며, 에이전트의 언어 능력의 기반이 됩니다.2. 메모리메모리는 과거 상호작용에서 얻은 정보(사실, 사용자 선호, 세션 간 주제 등)를 기억하는 능력을 의미합니다.이 기능은 에이전트의 맥락 이해도를 높여 대화를 더 자연스럽고 연속적으로 만듭니다.일부 환경에서는'),\n",
       " Document(metadata={'source': 'https://botpress.com/ko/blog/llm-agents', 'start_index': 1603}, page_content='확보다양한 분야에 적응하고 폭넓은 주제 처리 가능언어 모델은 답변의 깊이, 정확성, 관련성을 결정하며, 에이전트의 언어 능력의 기반이 됩니다.2. 메모리메모리는 과거 상호작용에서 얻은 정보(사실, 사용자 선호, 세션 간 주제 등)를 기억하는 능력을 의미합니다.이 기능은 에이전트의 맥락 이해도를 높여 대화를 더 자연스럽고 연속적으로 만듭니다.일부 환경에서는 메모리를 통해 장기간 정보를 보존할 수 있습니다. 이를 통해 반복적인 사용자 행동이나 선호도를 ‘학습’할 수 있지만, 개인정보 보호와 관련성 유지를 위해 종종 규제됩니다.3. 도구 활용도구 활용은 LLM 에이전트를 단순 대화에서 실제 행동으로 확장시킵니다.LLM 에이전트는 외부 애플리케이션, 데이터베이스, API와 연동해 특정 기능을 수행할 수 있습니다.즉, 실시간 정보를 가져오거나 외부 작업을 실행하거나 특화된 데이터베이스에 접근할 수 있어, 실시간 정보 제공이 가능합니다. 예시는 다음과 같습니다.API 호출날씨 정보나 주가 등 실시간 데이터 가져오기회의나 약속 일정 잡기상품 카탈로그나 인사 정책 문서 등 데이터베이스 질의도구 활용을 통해 LLM 에이전트는 지식 기반 시스템에서 벗어나, 다른 시스템과 상호작용하는 능동적 주체가 됩니다.4. 계획 수립계획 수립은 LLM 에이전트가 복잡한 작업을 여러 단계로 나누어 처리하는 능력입니다.LLM 에이전트는 피드백 유무에 따라 계획을 세울 수 있습니다. 차이점은 무엇일까요?피드백 없이 계획을 세우면, LLM 에이전트는 초기 이해를 바탕으로 계획을 수립합니다. 더 빠르고 단순하지만, 적응력이 떨어집니다.피드백 과 함께 계획을 세우면, LLM 에이전트는 환경에서 입력을 받아 계획을 지속적으로 수정할 수 있습니다. 더 복잡하지만, 훨씬 유연하고 시간이 지날수록 성능이 향상됩니다.계획 수립을 통해 LLM 에이전트는 논리적인 흐름을 만들어 복잡한 요청도 효과적으로 처리할 수 있습니다.LLM 에이전트의 4가지 유형은 무엇인가요?1. 대화형 에이전트 (예: 고객 지원 및 리드'),\n",
       " Document(metadata={'source': 'https://botpress.com/ko/blog/llm-agents', 'start_index': 2404}, page_content='계획을 세우면, LLM 에이전트는 환경에서 입력을 받아 계획을 지속적으로 수정할 수 있습니다. 더 복잡하지만, 훨씬 유연하고 시간이 지날수록 성능이 향상됩니다.계획 수립을 통해 LLM 에이전트는 논리적인 흐름을 만들어 복잡한 요청도 효과적으로 처리할 수 있습니다.LLM 에이전트의 4가지 유형은 무엇인가요?1. 대화형 에이전트 (예: 고객 지원 및 리드 생성)이 에이전트는 사용자와 자연스러운 대화를 나누며, 정보를 제공하거나 질문에 답하고 다양한 작업을 지원합니다.이들은 LLM을 활용해 인간과 유사한 답변을 이해하고 생성합니다.예시: 고객 지원 에이전트, 헬스케어 챗봇2. 작업 지향 에이전트 (예: AI 비서 및 AI 워크플로우)특정 작업 수행이나 미리 정해진 목표 달성에 집중하는 에이전트로, 사용자의 요구를 파악한 뒤 이를 충족시키기 위한 행동을 실행합니다.예시: AI 비서, HR 봇3. 창의적 에이전트 (예: 콘텐츠 생성 도구)이 에이전트는 예술 작품, 음악, 글쓰기 등 창의적인 콘텐츠를 생성할 수 있습니다. LLM을 활용해 인간의 선호와 예술적 스타일을 이해하고, 청중에게 공감가는 콘텐츠를 만듭니다.예시: 콘텐츠 생성 도구, 이미지 생성 도구(예: Dall-E)4. 협업 에이전트 (예: 엔터프라이즈 AI 에이전트)이 에이전트는 인간과 함께 공동의 목표나 작업을 수행하며, 팀원 간 또는 인간과 기계 간의 소통, 조정, 협업을 지원합니다.LLM은 협업 에이전트가 의사결정 지원, 보고서 생성, 인사이트 제공 등을 할 수 있도록 지원합니다.예시: 대부분의 엔터프라이즈 AI 에이전트, 프로젝트 관리 챗봇기업은 LLM 에이전트를 어떻게 활용하나요?기업은 질문 응답, 안내 제공, 워크플로우 자동화, 텍스트 분석 등 자연어 처리와 응답이 필요한 영역에서 LLM 에이전트의 이점을 누립니다.기업에서는 LLM 에이전트를 마케팅, 데이터 분석, 컴플라이언스, 법률 지원, 헬스케어, 금융 업무, 교육 등 다양한 분야에 활용합니다.LLM 에이전트의 대표적인 활용 사례 3가지를'),\n",
       " Document(metadata={'source': 'https://botpress.com/ko/blog/llm-agents', 'start_index': 3202}, page_content='LLM 에이전트를 어떻게 활용하나요?기업은 질문 응답, 안내 제공, 워크플로우 자동화, 텍스트 분석 등 자연어 처리와 응답이 필요한 영역에서 LLM 에이전트의 이점을 누립니다.기업에서는 LLM 에이전트를 마케팅, 데이터 분석, 컴플라이언스, 법률 지원, 헬스케어, 금융 업무, 교육 등 다양한 분야에 활용합니다.LLM 에이전트의 대표적인 활용 사례 3가지를 소개합니다.고객 지원자동화 전문가 Pascal Bornet가 167개 기업을 조사한 연구에 따르면, 고객 서비스가 LLM 에이전트 도입의 가장 인기 있는 사례로 나타났습니다.LLM 에이전트는 FAQ 처리, 문제 해결, 24시간 지원 등 고객 지원 분야에서 널리 사용됩니다.이 에이전트는 고객과 실시간으로 소통하며 즉각적인 도움을 제공하거나, 복잡한 문의는 인간 상담원에게 연결합니다.참고: 고객 서비스 챗봇이란?영업 및 리드 생성영업 분야에서는 LLM 에이전트가 AI 리드 생성에 활용됩니다. 잠재 고객과 대화를 나누며, 니즈를 파악하고 유용한 정보를 수집해 리드를 평가할 수도 있습니다.또한, 고객의 관심사에 따라 맞춤형 추천이나 상품 정보를 자동으로 발송하는 등 후속 상호작용도 자동화할 수 있습니다.참고: 영업에 AI 활용하기내부 지원: HR 및 IT내부 지원 분야에서 LLM 에이전트는 직원들의 일반적인 문의를 처리해 HR과 IT 프로세스를 간소화합니다. 실제로 Bornet 연구에 따르면, 내부 운영에서 LLM 에이전트가 가장 비용 효율적이었으며, 기존 대비 30~90%의 시간 절감 효과를 보였습니다.HR에서는 복리후생, 휴가 정책, 급여 등 질문에 답변하고, IT에서는 기본 기술 문제 해결이나 계정 생성 등 반복 작업을 자동화합니다.이로 인해 HR과 IT 팀은 반복적인 업무 대신 더 복잡한 업무에 집중할 수 있습니다.참고: HR을 위한 최고의 AI 에이전트LLM 에이전트 답변을 개선하는 방법AI 프로젝트용 LLM을 커스터마이즈한다면, 공개 모델이 제공하는 표준 답변을 조정해야 할 수 있습니다. (경쟁사 추천을'),\n",
       " Document(metadata={'source': 'https://botpress.com/ko/blog/llm-agents', 'start_index': 4002}, page_content='IT에서는 기본 기술 문제 해결이나 계정 생성 등 반복 작업을 자동화합니다.이로 인해 HR과 IT 팀은 반복적인 업무 대신 더 복잡한 업무에 집중할 수 있습니다.참고: HR을 위한 최고의 AI 에이전트LLM 에이전트 답변을 개선하는 방법AI 프로젝트용 LLM을 커스터마이즈한다면, 공개 모델이 제공하는 표준 답변을 조정해야 할 수 있습니다. (경쟁사 추천을 할 수는 없겠죠?) 또한 맞춤 비즈니스 로직을 적용해, 무작위 언어 생성이 아닌 훈련된 직원처럼 동작하도록 만들 수도 있습니다. LLM 답변의 품질을 높이는 네 가지 일반적인 방법이 있습니다. RAG파인튜닝N-샷 프롬프트프롬프트 엔지니어링1. 검색 증강 생성(RAG)RAG는 우리가 ChatGPT에서 흔히 하는, 텍스트를 붙여넣고 질문하는 방식에 붙인 멋진 이름입니다. 예를 들어, 특정 상품이 이커머스 사이트에 재고가 있는지 묻고, 챗봇이 제품 카탈로그에서 정보를 찾아 답변하는 경우(인터넷 전체가 아닌)입니다. 개발 속도와 실시간 정보 제공 측면에서 RAG는 필수입니다. RAG가 모델 선택에 직접적인 영향을 주는 경우는 드물지만, 정보를 조회하고 답변하는 LLM API 엔드포인트를 만들어 별도의 LLM처럼 사용할 수도 있습니다. 지식 기반 챗봇에 RAG를 사용하면, 모델을 파인튜닝하고 최신 상태로 유지할 필요가 없어 관리가 더 쉽고, 비용도 줄일 수 있습니다.2. 파인튜닝 파인튜닝은 모델에 예시를 제공해 특정 작업을 잘 수행하도록 학습시키는 과정입니다. 예를 들어, 제품에 대해 잘 설명하도록 하고 싶다면, 회사의 우수한 영업 통화 예시를 여러 개 제공할 수 있습니다.모델이 오픈소스라면, 팀이 파인튜닝을 할 충분한 엔지니어링 역량이 있는지 자문해보세요.모델이 클로즈드 소스이고 서비스 형태(GPT-4, Claude 등)라면, 보통 엔지니어가 API를 통해 맞춤형 모델을 파인튜닝할 수 있습니다. 이 경우 비용이 크게 증가하지만, 유지관리는 거의 필요하지 않습니다. 하지만 많은 경우, 파인튜닝이 모델 최적화의 첫'),\n",
       " Document(metadata={'source': 'https://botpress.com/ko/blog/llm-agents', 'start_index': 4801}, page_content='있습니다.모델이 오픈소스라면, 팀이 파인튜닝을 할 충분한 엔지니어링 역량이 있는지 자문해보세요.모델이 클로즈드 소스이고 서비스 형태(GPT-4, Claude 등)라면, 보통 엔지니어가 API를 통해 맞춤형 모델을 파인튜닝할 수 있습니다. 이 경우 비용이 크게 증가하지만, 유지관리는 거의 필요하지 않습니다. 하지만 많은 경우, 파인튜닝이 모델 최적화의 첫 단계는 아닙니다. 파인튜닝이 적합한 예시는 정적인 지식에 대한 지식 챗봇을 만드는 경우입니다. 질문과 답변 예시를 제공하면, 나중에 별도의 검색 없이 답변할 수 있습니다. 하지만 실시간 정보에는 실용적이지 않습니다. 3. N-샷 러닝 응답 품질을 빠르게 개선하는 가장 쉬운 방법은 한 번의 LLM API 호출에 예시를 제공하는 것입니다. 예시 없이(제로샷) 답변을 요청하는 것이 우리가 ChatGPT를 주로 사용하는 방식입니다. 예시 하나(원샷)만 추가해도 응답 품질이 크게 향상되는 경우가 많습니다. 예시가 두 개 이상이면 n-샷이라고 합니다. n-샷은 파인튜닝과 달리 모델 자체를 바꾸지 않습니다. 질문할 때마다 예시를 함께 제공하는 방식입니다. 하지만 이 전략은 과도하게 사용할 수 없습니다. LLM에는 최대 컨텍스트 크기가 있고, 메시지 크기에 따라 요금이 부과됩니다. 파인튜닝을 하면 n-샷 예시가 필요 없어질 수 있지만, 더 많은 시간이 필요합니다. 4. 프롬프트 엔지니어링 기법Chain-of-thought처럼, 답을 내기 전에 모델이 생각 과정을 드러내도록 하는 프롬프트 엔지니어링 기법도 있습니다. 여기에 프롬프트 체이닝도 있는데, 이는 복잡한 작업을 여러 단계로 나누어 순차적으로 프롬프트를 실행하도록 모델을 유도합니다. 이 전략들은 특히 추론이 중요한 작업에서 답변의 품질과 신뢰성을 크게 높일 수 있지만, 답변이 길어지고 토큰 사용량이 늘며 속도가 느려질 수 있습니다.이런 방식은 답변의 품질을 높이지만, 답변 길이와 비용, 속도 측면에서 단점이 있습니다. LLM 에이전트 구축 6단계1. 목표 설정AI'),\n",
       " Document(metadata={'source': 'https://botpress.com/ko/blog/llm-agents', 'start_index': 5598}, page_content='여러 단계로 나누어 순차적으로 프롬프트를 실행하도록 모델을 유도합니다. 이 전략들은 특히 추론이 중요한 작업에서 답변의 품질과 신뢰성을 크게 높일 수 있지만, 답변이 길어지고 토큰 사용량이 늘며 속도가 느려질 수 있습니다.이런 방식은 답변의 품질을 높이지만, 답변 길이와 비용, 속도 측면에서 단점이 있습니다. LLM 에이전트 구축 6단계1. 목표 설정AI 에이전트 또는 챗봇을 구축할 때 첫 단계는, 무엇을 달성하고 싶은지 명확히 하는 것입니다.LLM 에이전트가 고객 문의 지원, 콘텐츠 생성, 특정 작업 처리 등 어떤 목표를 달성하길 원하는지 구체적으로 정하세요.명확한 목표 설정이 에이전트의 구성과 세팅을 결정합니다.2. AI 플랫폼 선택하기최적의 AI 플랫폼은 전적으로 목표와 필요에 따라 달라집니다.맞춤화, 통합 가능성, 사용 편의성, 지원 등 다양한 요소를 고려해 요구에 맞는 플랫폼을 선택하세요.플랫폼은 다음을 지원해야 합니다:원하는 사용 사례 지원선호하는 LLM 제공통합 기능 제공3. LLM 구성플랫폼의 옵션에 따라, 사전 구축된 LLM을 선택하거나 필요하다면 특정 작업에 맞게 모델을 파인튜닝할 수 있습니다.많은 플랫폼에서 사전 학습된 내장 언어 모델을 바로 사용할 수 있습니다.LLM 사용을 커스터마이즈하고 싶다면, Botpress 성장 엔지니어 Patrick Hamelin의 AI 프로젝트용 맞춤 LLM 선택 가이드를 참고하세요.4. 도구 통합대부분의 플랫폼은 외부 도구와의 통합 옵션을 제공합니다. 에이전트가 접근해야 하는 API, 데이터베이스, CRM 데이터나 실시간 정보와 같은 리소스를 연결하세요.5. 테스트 및 개선플랫폼의 내장 테스트 도구로 에이전트를 충분히 테스트하세요. 실제 상황에서 잘 작동하도록 파라미터, 프롬프트, 워크플로우를 조정합니다.6. 배포 및 모니터링플랫폼의 모니터링 도구를 사용하여 배포 후 에이전트의 상호작용과 성능을 추적하세요.플랫폼에서 제공하는 피드백 기능을 적극 활용해 인사이트를 수집하고, 필요에 따라 설정을'),\n",
       " Document(metadata={'source': 'https://botpress.com/ko/blog/llm-agents', 'start_index': 6390}, page_content='연결하세요.5. 테스트 및 개선플랫폼의 내장 테스트 도구로 에이전트를 충분히 테스트하세요. 실제 상황에서 잘 작동하도록 파라미터, 프롬프트, 워크플로우를 조정합니다.6. 배포 및 모니터링플랫폼의 모니터링 도구를 사용하여 배포 후 에이전트의 상호작용과 성능을 추적하세요.플랫폼에서 제공하는 피드백 기능을 적극 활용해 인사이트를 수집하고, 필요에 따라 설정을 개선하세요.맞춤형 LLM 에이전트 배포하기LLM 에이전트는 기업 내에서 고객 서비스, 내부 운영, 전자상거래 등 다양한 분야에서 빠르게 대중화되고 있습니다. 도입이 느린 기업은 AI 혁신의 흐름에서 뒤처질 수 있습니다.Botpress는 기업을 위해 설계된 무한히 확장 가능한 AI 에이전트 플랫폼입니다. 저희 스택을 통해 개발자는 필요한 모든 기능을 갖춘 LLM 에이전트를 구축할 수 있습니다.강화된 보안 기능으로 고객 데이터가 항상 보호되며, 개발팀이 완전히 제어할 수 있습니다.지금 바로 시작하세요. 무료입니다.또는 저희 팀에 문의해 자세한 내용을 알아보세요.자주 묻는 질문1. LLM 에이전트와 챗봇의 차이점은 무엇인가요?챗봇은 보통 정해진 스크립트나 플로우를 따르지만, LLM 에이전트는 더 유연합니다. LLM 에이전트는 대형 언어 모델을 활용해 추론하고, 정보를 검색하며, 도구를 사용하고, 의사결정을 내릴 수 있습니다.2. LLM 에이전트는 인터넷 연결 없이도 작동할 수 있나요?필요한 모든 것(예: 언어 모델과 데이터)이 로컬에서 실행된다면, 일부 기능은 인터넷 없이도 가능합니다. 하지만 대부분은 실시간 데이터, 외부 API, 최신 정보 등을 위해 클라우드 기반 서비스를 사용합니다.3. LLM 에이전트는 항상 언어 모델 백엔드가 필요한가요?네, 그게 핵심 요소입니다. LLM 에이전트의 \"LLM\"은 대형 언어 모델을 의미합니다. 이게 없으면 자연어를 이해하거나 생성하는 능력을 잃게 됩니다.4. 현재 LLM 에이전트 사용 시 주요 한계나 위험 요소는 무엇인가요?잘 관리되지 않으면 환각 현상, 모호한 프롬프트에서'),\n",
       " Document(metadata={'source': 'https://botpress.com/ko/blog/llm-agents', 'start_index': 7189}, page_content='기반 서비스를 사용합니다.3. LLM 에이전트는 항상 언어 모델 백엔드가 필요한가요?네, 그게 핵심 요소입니다. LLM 에이전트의 \"LLM\"은 대형 언어 모델을 의미합니다. 이게 없으면 자연어를 이해하거나 생성하는 능력을 잃게 됩니다.4. 현재 LLM 에이전트 사용 시 주요 한계나 위험 요소는 무엇인가요?잘 관리되지 않으면 환각 현상, 모호한 프롬프트에서 멈춤, 민감 정보 유출 등이 발생할 수 있습니다. 또한, 데이터와 설계 수준에 따라 성능이 좌우됩니다.5. 어떤 산업 분야에서 LLM 에이전트 도입이 가장 빠르게 이루어지고 있나요?고객 서비스, IT 지원, 헬스케어, 영업 분야에서 빠르게 도입되고 있습니다. 반복적인 언어 기반 업무가 많은 곳일수록 자동화가 활발하게 이루어지고 있습니다.AI 에이전트 인프라 구축을 위한 2,500만 달러 투자AI 전문가들이 말하는 챗봇의 11가지 흔한 실수 Botpress vs. AgentKit: 어떤 에이전트 빌더가 적합할까요?')]"
      ]
     },
     "execution_count": 7,
     "metadata": {},
     "output_type": "execute_result"
    }
   ],
   "source": [
    "all_splits"
   ]
  },
  {
   "cell_type": "markdown",
   "id": "f5193e01-6cf1-45b9-9ba5-38caf75162a6",
   "metadata": {
    "id": "f5193e01-6cf1-45b9-9ba5-38caf75162a6"
   },
   "source": [
    "### **문서 저장 (Storing documents)**\n",
    "\n",
    "이제 분할된 **텍스트 청크**를 인덱싱해야 합니다. 이를 통해 검색할 수 있습니다.  \n",
    "\n",
    "1. 각 **문서 청크**의 내용을 **임베딩(embedding)** 합니다.\n",
    "2. 이 **임베딩을 벡터 스토어(Vector Store)** 에 삽입합니다.\n"
   ]
  },
  {
   "cell_type": "code",
   "execution_count": 8,
   "id": "5b8da4cb",
   "metadata": {},
   "outputs": [
    {
     "name": "stdout",
     "output_type": "stream",
     "text": [
      "['79755c6a-5ec7-4c5d-80b4-18edd1448a18', '79a5d4f5-6975-483c-9e86-fa2f86e38107', '36ca35cc-df08-4a36-85c0-fb86a60d6082']\n"
     ]
    }
   ],
   "source": [
    "# 분할된 문서 청크(all_splits)는 임베딩되어 벡터 스토어에 저장됩니다.\n",
    "# 반환값은 저장된 각 문서 청크의 고유 ID 목록입니다.\n",
    "document_ids = vector_store.add_documents(documents=all_splits)\n",
    "\n",
    "# 첫 세 개의 문서 ID를 출력합니다.\n",
    "print(document_ids[:3])"
   ]
  },
  {
   "cell_type": "markdown",
   "id": "57666234-a5b3-4abc-b079-755241bb2b98",
   "metadata": {
    "id": "57666234-a5b3-4abc-b079-755241bb2b98"
   },
   "source": [
    "이로써 **인덱싱(Indexing)** 단계가 완료되었습니다!\n",
    "\n",
    "- 이제 우리는 **질의 가능한 벡터 스토어**를 보유하고 있습니다.  \n",
    "- 게시물의 청크가 저장되어 있으며, 사용자 질문을 받으면 **관련 청크를 반환**할 수 있습니다.  \n",
    "\n",
    "---\n",
    "\n",
    "## **2. 검색 및 생성 (Retrieval and Generation)**\n",
    "\n",
    "이제 실제 **애플리케이션 로직(application logic)** 을 작성하여 다음과 같은 작업을 수행할 것입니다:  \n",
    "\n",
    "1. **사용자 질문을 입력받기**  \n",
    "2. **질문과 관련된 문서 청크 검색**  \n",
    "3. **검색된 문서와 질문을 모델에 전달**  \n",
    "4. **챗 모델(Chat Model)이 답변을 생성**  \n",
    "---\n",
    "\n",
    "### **RAG Agent**  \n",
    "RAG 애플리케이션의 한 가지 형태는 정보를 검색하는 도구를 갖춘 간단한 에이전트 입니다. 벡터 저장소를 래핑하는 도구를 구현하여 최소 RAG 에이전트를 구성할 수 있습니다 ."
   ]
  },
  {
   "cell_type": "code",
   "execution_count": 10,
   "id": "31f8d265-9270-43f8-bcaf-3a9a9f6da355",
   "metadata": {},
   "outputs": [],
   "source": [
    "from langchain.tools import tool\n",
    "\n",
    "@tool(response_format=\"content_and_artifact\")\n",
    "def retrieve_context(query: str):\n",
    "    \"\"\"질문(query)에 답하기 위해 관련 정보를 검색합니다.\"\"\"\n",
    "    \n",
    "    # 벡터 스토어(Vector Store)에서 유사한 문서 2개 검색\n",
    "    retrieved_docs = vector_store.similarity_search(query, k=2)\n",
    "    \n",
    "    # 검색된 문서들을 문자열로 직렬화 (출처 정보 + 본문)\n",
    "    serialized = \"\\n\\n\".join(\n",
    "        (f\"출처(Source): {doc.metadata}\\n내용(Content): {doc.page_content}\")\n",
    "        for doc in retrieved_docs\n",
    "    )\n",
    "    \n",
    "    # 문자열(serialized)과 실제 문서 객체 리스트(retrieved_docs)를 함께 반환\n",
    "    return serialized, retrieved_docs"
   ]
  },
  {
   "cell_type": "code",
   "execution_count": 11,
   "id": "bb1a9b0d-2874-4915-b363-69ce9a9e0b05",
   "metadata": {},
   "outputs": [
    {
     "data": {
      "image/png": "[encoded data removed]",
      "text/plain": [
       "<langgraph.graph.state.CompiledStateGraph object at 0x000001DD45AE42F0>"
      ]
     },
     "execution_count": 11,
     "metadata": {},
     "output_type": "execute_result"
    }
   ],
   "source": [
    "from langchain.agents import create_agent\n",
    "\n",
    "# 사용할 도구 목록 정의 (retrieve_context 도구 포함)\n",
    "tools = [retrieve_context]\n",
    "\n",
    "# 필요하다면 사용자 정의 프롬프트(시스템 지침) 설정\n",
    "prompt = (\n",
    "    \"당신은 블로그 게시글에서 관련 문맥(context)을 검색하는 도구에 접근할 수 있습니다. \"\n",
    "    \"이 도구를 활용하여 사용자의 질문에 답변하세요.\"\n",
    ")\n",
    "\n",
    "# 에이전트 생성: 모델, 도구, 시스템 프롬프트를 결합하여 구성\n",
    "agent = create_agent(model, tools, system_prompt=prompt)\n",
    "agent"
   ]
  },
  {
   "cell_type": "code",
   "execution_count": 14,
   "id": "79a0b120-e755-4099-9644-7c2bdec347d7",
   "metadata": {},
   "outputs": [
    {
     "name": "stdout",
     "output_type": "stream",
     "text": [
      "================================\u001b[1m Human Message \u001b[0m=================================\n",
      "\n",
      "\n",
      "LLM 에이전트 프레임워크를 구성하는 핵심 구성 요소는 무엇인가요?\n",
      "바로 대답하지 말고 주어진 도구를 사용하세요.\n",
      "\n",
      "==================================\u001b[1m Ai Message \u001b[0m==================================\n",
      "Tool Calls:\n",
      "  retrieve_context (77f7f034-0a83-4560-b6af-31c731585726)\n",
      " Call ID: 77f7f034-0a83-4560-b6af-31c731585726\n",
      "  Args:\n",
      "    query: LLM 에이전트 프레임워크를 구성하는 핵심 구성 요소\n",
      "=================================\u001b[1m Tool Message \u001b[0m=================================\n",
      "Name: retrieve_context\n",
      "\n",
      "출처(Source): {'source': 'https://botpress.com/ko/blog/llm-agents', 'start_index': 804}\n",
      "내용(Content): AI 기반 도구입니다.이 에이전트는 방대한 텍스트 데이터로 학습된 복잡한 알고리즘을 기반으로 하여, 인간과 유사한 방식으로 언어를 이해하고 생성할 수 있습니다.LLM 에이전트는 AI 에이전트, AI 챗봇, 가상 비서, 콘텐츠 생성 소프트웨어 등 다양한 도구에 통합될 수 있습니다.LLM 에이전트는 어떻게 작동하나요?LLM 에이전트는 LLM의 강력함에 검색, 추론, 메모리, 도구 활용을 결합해 자율적으로 작업을 완수합니다. 각 구성 요소의 역할을 살펴보겠습니다.‍이러한 기능이 결합되어 LLM 에이전트는 복잡하고 다단계의 워크플로우도 완전히 자율적으로 처리할 수 있습니다.예를 들어:B2B 영업 에이전트는 CRM에서 잠재 고객 데이터를 검색하고, 거래 진행 상황을 분석하며, 과거 상호작용을 기억해 맞춤형 후속 조치를 취하고, 이메일과 캘린더 API를 활용해 발송 및 일정을 잡습니다.IT 에이전트는 시스템 로그를 검색해 오류를 진단하고, 문제 해결 단계를 분석하며, 이전 사용자 이슈에서 효과적이었던 방법을 기억하고, 스크립트를 실행해 서비스를 재시작하거나 티켓을 생성합니다.LLM 에이전트를 정의하는 4가지 특징은 무엇인가요?LLM 에이전트의 핵심 특징 네 가지는 다음과 같습니다.1. 언어 모델언어 모델은 LLM 에이전트의 ‘두뇌’로 여겨집니다. 모델의 품질과 규모가 LLM 에이전트의 성능에 직접적인 영향을 미칩니다.방대한 텍스트 데이터로 학습된 정교한 알고리즘으로, 맥락을 이해하고 패턴을 인식하며 일관성 있고 상황에 맞는 답변을 생성할 수 있습니다.언어 패턴을 식별하고 학습방대한 학습 데이터 덕분에 맥락 인식 능력 확보다양한 분야에 적응하고 폭넓은 주제 처리 가능언어 모델은 답변의 깊이, 정확성, 관련성을 결정하며, 에이전트의 언어 능력의 기반이 됩니다.2. 메모리메모리는 과거 상호작용에서 얻은 정보(사실, 사용자 선호, 세션 간 주제 등)를 기억하는 능력을 의미합니다.이 기능은 에이전트의 맥락 이해도를 높여 대화를 더 자연스럽고 연속적으로 만듭니다.일부 환경에서는\n",
      "\n",
      "출처(Source): {'source': 'https://botpress.com/ko/blog/llm-agents', 'start_index': 7189}\n",
      "내용(Content): 기반 서비스를 사용합니다.3. LLM 에이전트는 항상 언어 모델 백엔드가 필요한가요?네, 그게 핵심 요소입니다. LLM 에이전트의 \"LLM\"은 대형 언어 모델을 의미합니다. 이게 없으면 자연어를 이해하거나 생성하는 능력을 잃게 됩니다.4. 현재 LLM 에이전트 사용 시 주요 한계나 위험 요소는 무엇인가요?잘 관리되지 않으면 환각 현상, 모호한 프롬프트에서 멈춤, 민감 정보 유출 등이 발생할 수 있습니다. 또한, 데이터와 설계 수준에 따라 성능이 좌우됩니다.5. 어떤 산업 분야에서 LLM 에이전트 도입이 가장 빠르게 이루어지고 있나요?고객 서비스, IT 지원, 헬스케어, 영업 분야에서 빠르게 도입되고 있습니다. 반복적인 언어 기반 업무가 많은 곳일수록 자동화가 활발하게 이루어지고 있습니다.AI 에이전트 인프라 구축을 위한 2,500만 달러 투자AI 전문가들이 말하는 챗봇의 11가지 흔한 실수 Botpress vs. AgentKit: 어떤 에이전트 빌더가 적합할까요?\n",
      "==================================\u001b[1m Ai Message \u001b[0m==================================\n",
      "\n",
      "LLM 에이전트 프레임워크를 구성하는 핵심 구성 요소는 다음과 같습니다.\n",
      "\n",
      "1.  **언어 모델**: LLM 에이전트의 '두뇌' 역할을 하며, 에이전트의 성능에 직접적인 영향을 미칩니다. 방대한 텍스트 데이터로 학습된 정교한 알고리즘을 통해 맥락을 이해하고, 패턴을 인식하며, 일관성 있고 상황에 맞는 답변을 생성합니다.\n",
      "\n",
      "2.  **메모리**: 과거 상호작용에서 얻은 정보(사실, 사용자 선호, 세션 간 주제 등)를 기억하는 능력입니다. 이 기능은 에이전트의 맥락 이해도를 높여 대화를 더 자연스럽고 연속적으로 만듭니다.\n",
      "\n",
      "이러한 기능들이 결합되어 LLM 에이전트는 복잡하고 다단계의 워크플로우를 자율적으로 처리할 수 있습니다. LLM 에이전트는 LLM의 강력함에 검색, 추론, 메모리, 도구 활용을 결합하여 자율적으로 작업을 완수합니다.\n"
     ]
    }
   ],
   "source": [
    "query = \"\"\"\n",
    "LLM 에이전트 프레임워크를 구성하는 핵심 구성 요소는 무엇인가요?\n",
    "바로 대답하지 말고 주어진 도구를 사용하세요.\n",
    "\"\"\"\n",
    "\n",
    "# 에이전트에게 사용자 메시지를 스트리밍 방식으로 전달\n",
    "for event in agent.stream(\n",
    "    {\"messages\": [{\"role\": \"user\", \"content\": query}]},\n",
    "    stream_mode=\"values\",\n",
    "):\n",
    "    # 마지막 메시지(모델의 응답)를 예쁘게 출력\n",
    "    event[\"messages\"][-1].pretty_print()"
   ]
  },
  {
   "cell_type": "markdown",
   "id": "5e15bc5a-30cb-4e55-aca1-80e7d395560c",
   "metadata": {},
   "source": [
    "-----------------------------\n",
    "또 다른 일반적인 접근 방식은 2단계 체인으로, 항상 검색을 실행하고(원시 사용자 쿼리를 사용할 수도 있음) 그 결과를 단일 LLM 쿼리의 컨텍스트로 통합하는 방식입니다. 이렇게 하면 쿼리당 추론 호출이 한 번만 발생하여 지연 시간이 단축되는 반면, 유연성은 저하됩니다.\n",
    "이 접근 방식에서는 더 이상 루프에서 모델을 호출하지 않고 대신 단일 패스를 만듭니다.\n",
    "에이전트에서 도구를 제거하고 대신 검색 단계를 사용자 정의 프롬프트에 통합하여 이 체인을 구현할 수 있습니다."
   ]
  },
  {
   "cell_type": "code",
   "execution_count": 15,
   "id": "87829a4b-8311-47d0-adcc-20df1f6484fe",
   "metadata": {},
   "outputs": [
    {
     "data": {
      "image/png": "[encoded data removed]",
      "text/plain": [
       "<langgraph.graph.state.CompiledStateGraph object at 0x000001DD45AE9810>"
      ]
     },
     "execution_count": 15,
     "metadata": {},
     "output_type": "execute_result"
    }
   ],
   "source": [
    "from langchain.agents.middleware import dynamic_prompt, ModelRequest\n",
    "\n",
    "@dynamic_prompt\n",
    "def prompt_with_context(request: ModelRequest) -> str:\n",
    "    \"\"\"대화 상태(state)에 문맥(context)을 주입합니다.\"\"\"\n",
    "    \n",
    "    # 사용자의 마지막 질의 텍스트 가져오기\n",
    "    last_query = request.state[\"messages\"][-1].text\n",
    "\n",
    "    # 벡터 스토어(Vector Store)에서 마지막 질의와 유사한 문서 검색\n",
    "    retrieved_docs = vector_store.similarity_search(last_query)\n",
    "\n",
    "    # 검색된 문서의 본문 내용을 하나의 문자열로 결합\n",
    "    docs_content = \"\\n\\n\".join(doc.page_content for doc in retrieved_docs)\n",
    "\n",
    "    # 시스템 프롬프트(system message)에 문맥 추가\n",
    "    system_message = (\n",
    "        \"당신은 도움이 되는 어시스턴트입니다. \"\n",
    "        \"다음의 문맥(context)을 참고하여 답변하세요:\"\n",
    "        f\"\\n\\n{docs_content}\"\n",
    "    )\n",
    "\n",
    "    return system_message\n",
    "\n",
    "\n",
    "# 미들웨어(middleware)를 통해 문맥 주입 기능이 포함된 에이전트 생성\n",
    "agent = create_agent(model, tools=[], middleware=[prompt_with_context])\n",
    "agent"
   ]
  },
  {
   "cell_type": "code",
   "execution_count": 16,
   "id": "2dee54fe-a19c-4ba6-9582-e14d02b0cc02",
   "metadata": {},
   "outputs": [
    {
     "name": "stdout",
     "output_type": "stream",
     "text": [
      "================================\u001b[1m Human Message \u001b[0m=================================\n",
      "\n",
      "LLM 에이전트 프레임워크를 구성하는 핵심 구성 요소는 무엇인가요?\n",
      "==================================\u001b[1m Ai Message \u001b[0m==================================\n",
      "\n",
      "제공된 문맥에 따르면, LLM 에이전트 프레임워크를 구성하는 핵심 구성 요소(또는 핵심 특징)는 다음과 같습니다:\n",
      "\n",
      "1.  **언어 모델 (Language Model):** LLM 에이전트의 '두뇌'로 여겨지며, 언어를 이해하고 생성하는 능력의 기반이 됩니다. 맥락을 이해하고 패턴을 인식하며 일관성 있고 상황에 맞는 답변을 생성합니다.\n",
      "2.  **메모리 (Memory):** 과거 상호작용에서 얻은 정보(사실, 사용자 선호, 세션 간 주제 등)를 기억하는 능력입니다. 에이전트의 맥락 이해도를 높여 대화를 더 자연스럽고 연속적으로 만듭니다.\n",
      "3.  **도구 활용 (Tool Utilization):** LLM 에이전트를 단순 대화에서 실제 행동으로 확장시킵니다. 외부 애플리케이션, 데이터베이스, API와 연동하여 실시간 정보를 가져오거나 외부 작업을 실행하는 등 특정 기능을 수행할 수 있습니다.\n",
      "4.  **계획 수립 (Planning):** LLM 에이전트가 복잡한 작업을 여러 단계로 나누어 처리하는 능력입니다. 피드백 유무에 따라 계획을 세우고 수정하며 논리적인 흐름을 만들어 복잡한 요청도 효과적으로 처리합니다.\n",
      "\n",
      "이러한 기능들이 결합되어 LLM 에이전트는 복잡하고 다단계의 워크플로우를 자율적으로 처리할 수 있게 됩니다.\n"
     ]
    }
   ],
   "source": [
    "query = \"LLM 에이전트 프레임워크를 구성하는 핵심 구성 요소는 무엇인가요?\"\n",
    "for step in agent.stream(\n",
    "    {\"messages\": [{\"role\": \"user\", \"content\": query}]},\n",
    "    stream_mode=\"values\",\n",
    "):\n",
    "    step[\"messages\"][-1].pretty_print()"
   ]
  },
  {
   "cell_type": "code",
   "execution_count": null,
   "id": "ca3d7833-9b97-44b0-8954-f0b6ee4daaac",
   "metadata": {},
   "outputs": [],
   "source": []
  }
 ],
 "metadata": {
  "colab": {
   "provenance": []
  },
  "kernelspec": {
   "display_name": "Python 3 (ipykernel)",
   "language": "python",
   "name": "python3"
  },
  "language_info": {
   "codemirror_mode": {
    "name": "ipython",
    "version": 3
   },
   "file_extension": ".py",
   "mimetype": "text/x-python",
   "name": "python",
   "nbconvert_exporter": "python",
   "pygments_lexer": "ipython3",
   "version": "3.13.7"
  }
 },
 "nbformat": 4,
 "nbformat_minor": 5
}
