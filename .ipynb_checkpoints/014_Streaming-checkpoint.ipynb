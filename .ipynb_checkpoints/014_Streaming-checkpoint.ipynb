{
 "cells": [
  {
   "cell_type": "markdown",
   "id": "ab315db5-68d3-4fd4-8a3c-f44c40ddf4e3",
   "metadata": {},
   "source": [
    "### 스트리밍 (Streaming)\n",
    "\n",
    "LangChain의 **스트리밍 시스템(Streaming system)** 은\n",
    "에이전트 실행(agent run) 중 발생하는 **실시간 피드백(live feedback)** 을\n",
    "애플리케이션으로 직접 전달할 수 있게 해줍니다.\n",
    "\n",
    "스트리밍을 사용하면 **전체 응답이 완성되기 전에** 부분적으로 결과를 점진적으로 표시할 수 있습니다.\n",
    "이를 통해 **LLM의 지연(latency)** 으로 인한 대기 시간을 줄이고,\n",
    "사용자에게 더 빠르고 자연스러운 **실시간 인터랙션 경험(UX)** 을 제공합니다.\n",
    "\n",
    "### LangChain 스트리밍으로 가능한 기능들\n",
    "\n",
    "* **에이전트 진행 상황 스트리밍 (Stream agent progress)**\n",
    "  → 각 에이전트 단계가 끝날 때마다 상태 업데이트(state update)를 수신할 수 있습니다.\n",
    "\n",
    "* **LLM 토큰 스트리밍 (Stream LLM tokens)**\n",
    "  → 언어 모델이 토큰을 생성할 때마다, 생성되는 즉시 스트리밍으로 받아볼 수 있습니다.\n",
    "\n",
    "* **사용자 정의 업데이트 스트리밍 (Stream custom updates)**\n",
    "  → 예를 들어 `\"100개 중 10개 레코드 가져옴\"` 같은\n",
    "  사용자 정의 신호(user-defined signals)를 실시간으로 전송할 수 있습니다.\n",
    "\n",
    "* **다중 모드 스트리밍 (Stream multiple modes)**\n",
    "  → 다음과 같은 모드 중 선택적으로 사용할 수 있습니다:\n",
    "\n",
    "  1. **Updates** – 에이전트 진행 상황 중심의 업데이트\n",
    "  2. **Messages** – LLM 토큰 및 관련 메타데이터\n",
    "  3. **Custom** – 임의의 사용자 정의 데이터 (예: 로그, 상태 메시지 등)"
   ]
  },
  {
   "cell_type": "code",
   "execution_count": 2,
   "id": "ea940a01-4f35-4b2d-9ed5-d6e517e4ca8c",
   "metadata": {},
   "outputs": [
    {
     "data": {
      "text/plain": [
       "True"
      ]
     },
     "execution_count": 2,
     "metadata": {},
     "output_type": "execute_result"
    }
   ],
   "source": [
    "from dotenv import load_dotenv\n",
    "\n",
    "load_dotenv()"
   ]
  },
  {
   "cell_type": "code",
   "execution_count": 3,
   "id": "8301d848-a46b-4c48-b379-b9760e4f948c",
   "metadata": {},
   "outputs": [],
   "source": [
    "from langchain.chat_models import init_chat_model\n",
    "\n",
    "# model = init_chat_model(\"gpt-5-nano\", model_provider=\"openai\")\n",
    "model = init_chat_model(\"gemini-2.5-flash\", model_provider=\"google_genai\")"
   ]
  },
  {
   "cell_type": "code",
   "execution_count": 4,
   "id": "78c73b44-2a6b-47a0-9728-ee78ed76c0aa",
   "metadata": {},
   "outputs": [
    {
     "name": "stdout",
     "output_type": "stream",
     "text": [
      "단계(step): model\n",
      "내용(content): [{'type': 'tool_call', 'id': '61955179-b99a-4d20-b9b4-616aefe3dcc2', 'name': 'get_weather', 'args': {'city': 'San Francisco'}}]\n",
      "단계(step): tools\n",
      "내용(content): [{'type': 'text', 'text': 'San Francisco의 날씨는 언제나 맑습니다!'}]\n",
      "단계(step): model\n",
      "내용(content): [{'type': 'text', 'text': '샌프란시스코의 날씨는 언제나 맑습니다!'}]\n"
     ]
    }
   ],
   "source": [
    "from langchain.agents import create_agent\n",
    "\n",
    "def get_weather(city: str) -> str:\n",
    "    \"\"\"특정 도시의 날씨를 가져옵니다.\"\"\"\n",
    "    return f\"{city}의 날씨는 언제나 맑습니다!\"\n",
    "\n",
    "# 에이전트 생성\n",
    "agent = create_agent(\n",
    "    model=model,  # 사용할 모델 지정\n",
    "    tools=[get_weather],        # 사용할 도구(함수) 등록\n",
    ")\n",
    "\n",
    "# 스트리밍 실행\n",
    "for chunk in agent.stream(  \n",
    "    {\"messages\": [{\"role\": \"user\", \"content\": \"SF(샌프란시스코)의 날씨는 어때?\"}]},\n",
    "    stream_mode=\"updates\",  # 스트리밍 모드를 'updates'(단계별 진행 상황)로 설정\n",
    "):\n",
    "    for step, data in chunk.items():\n",
    "        print(f\"단계(step): {step}\")\n",
    "        print(f\"내용(content): {data['messages'][-1].content_blocks}\")"
   ]
  },
  {
   "cell_type": "markdown",
   "id": "ff26ba62-7958-4b69-bbde-6a8d581ffbbe",
   "metadata": {},
   "source": [
    "### LLM 토큰 (LLM tokens)\n",
    "\n",
    "LLM이 **토큰을 생성하는 즉시 실시간으로 스트리밍**하려면\n",
    "`stream_mode=\"messages\"` 옵션을 사용하면 됩니다.\n",
    "\n",
    "이 모드를 사용하면, **에이전트가 실행 중 호출하는 도구(tool)들의 스트리밍 출력**과\n",
    "**최종 응답(final response)** 을 모두 실시간으로 확인할 수 있습니다."
   ]
  },
  {
   "cell_type": "code",
   "execution_count": 5,
   "id": "c51bf05e-8c74-4290-a331-dae860f189cf",
   "metadata": {},
   "outputs": [
    {
     "name": "stdout",
     "output_type": "stream",
     "text": [
      "노드(node): model\n",
      "내용(content): [{'type': 'tool_call', 'id': 'e56d8da5-6939-4179-80b0-37bafa7eb737', 'name': 'get_weather', 'args': {'city': 'San Francisco'}}]\n",
      "\n",
      "\n",
      "노드(node): model\n",
      "내용(content): []\n",
      "\n",
      "\n",
      "노드(node): tools\n",
      "내용(content): [{'type': 'text', 'text': 'San Francisco의 날씨는 언제나 맑습니다!'}]\n",
      "\n",
      "\n",
      "노드(node): model\n",
      "내용(content): [{'type': 'text', 'text': '샌프란시'}]\n",
      "\n",
      "\n",
      "노드(node): model\n",
      "내용(content): [{'type': 'text', 'text': '스코의 날씨는 언제나 맑습니다!\\n'}]\n",
      "\n",
      "\n",
      "노드(node): model\n",
      "내용(content): []\n",
      "\n",
      "\n"
     ]
    }
   ],
   "source": [
    "from langchain.agents import create_agent\n",
    "\n",
    "def get_weather(city: str) -> str:\n",
    "    \"\"\"특정 도시의 날씨를 가져옵니다.\"\"\"\n",
    "    return f\"{city}의 날씨는 언제나 맑습니다!\"\n",
    "\n",
    "# 에이전트 생성\n",
    "agent = create_agent(\n",
    "    model=model,  # 사용할 언어 모델 지정\n",
    "    tools=[get_weather],        # 사용할 도구(함수) 등록\n",
    ")\n",
    "\n",
    "# LLM이 토큰을 생성할 때마다 실시간으로 스트리밍 받기\n",
    "for token, metadata in agent.stream(  \n",
    "    {\"messages\": [{\"role\": \"user\", \"content\": \"SF(샌프란시스코)의 날씨는 어때?\"}]},\n",
    "    stream_mode=\"messages\",  # 'messages' 모드: LLM 토큰 스트리밍\n",
    "):\n",
    "    print(f\"노드(node): {metadata['langgraph_node']}\")     # 현재 실행 중인 LangGraph 노드 이름\n",
    "    print(f\"내용(content): {token.content_blocks}\")       # 실시간으로 생성되는 텍스트 블록(토큰)\n",
    "    print(\"\\n\")"
   ]
  },
  {
   "cell_type": "markdown",
   "id": "3862effa-5e94-4665-9f78-4e0c9a20fc8e",
   "metadata": {},
   "source": [
    "## 스트리밍과 청크 (Streaming and Chunks)\n",
    "\n",
    "스트리밍 중에는 **`AIMessageChunk` 객체**들이 순차적으로 전달되며,\n",
    "이 청크(chunk)들을 결합하면 **완전한 메시지 객체(full message object)** 를 구성할 수 있습니다.\n"
   ]
  },
  {
   "cell_type": "code",
   "execution_count": 6,
   "id": "ddc9241b-b655-4e8d-b6ec-30ffe4d6262e",
   "metadata": {},
   "outputs": [
    {
     "name": "stdout",
     "output_type": "stream",
     "text": [
      "LangChain은 LLM(대규모 언어 모델)을 활용하는 애플리케이션을 쉽고 효율적으로 개발할 수 있도록 돕는 개발 프레임워크입니다.\n",
      "\n"
     ]
    },
    {
     "data": {
      "text/plain": [
       "AIMessageChunk(content='LangChain은 LLM(대규모 언어 모델)을 활용하는 애플리케이션을 쉽고 효율적으로 개발할 수 있도록 돕는 개발 프레임워크입니다.', additional_kwargs={}, response_metadata={'finish_reason': 'STOP', 'model_name': 'gemini-2.5-flash', 'safety_ratings': [], 'grounding_metadata': {}, 'model_provider': 'google_genai'}, id='lc_run--bebc7d0d-416e-483f-8206-91f0a4d91f2b', usage_metadata={'input_tokens': 12, 'output_tokens': 412, 'total_tokens': 424, 'input_token_details': {'cache_read': 0}, 'output_token_details': {'reasoning': 374}}, chunk_position='last')"
      ]
     },
     "execution_count": 6,
     "metadata": {},
     "output_type": "execute_result"
    }
   ],
   "source": [
    "chunks = []\n",
    "full_message = None\n",
    "\n",
    "for chunk in model.stream(\"LangChain이 뭔지 한줄로 답해주세요.\"):\n",
    "    chunks.append(chunk)\n",
    "    print(chunk.text)\n",
    "    full_message = chunk if full_message is None else full_message + chunk\n",
    "\n",
    "full_message"
   ]
  },
  {
   "cell_type": "code",
   "execution_count": null,
   "id": "242b3302-5aef-4c0f-a887-4c06b2d9fc2c",
   "metadata": {},
   "outputs": [],
   "source": []
  }
 ],
 "metadata": {
  "colab": {
   "provenance": []
  },
  "kernelspec": {
   "display_name": "Python 3 (ipykernel)",
   "language": "python",
   "name": "python3"
  },
  "language_info": {
   "codemirror_mode": {
    "name": "ipython",
    "version": 3
   },
   "file_extension": ".py",
   "mimetype": "text/x-python",
   "name": "python",
   "nbconvert_exporter": "python",
   "pygments_lexer": "ipython3",
   "version": "3.13.7"
  }
 },
 "nbformat": 4,
 "nbformat_minor": 5
}
