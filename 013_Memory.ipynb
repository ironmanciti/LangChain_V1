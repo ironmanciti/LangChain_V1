{
 "cells": [
  {
   "cell_type": "markdown",
   "id": "ba990c00-8e1a-486e-9edd-0afdb7a9cedf",
   "metadata": {},
   "source": [
    "# 단기 메모리 (Short-term Memory)\n",
    "\n",
    "메모리(Memory) 는 AI가 이전 상호작용의 정보를 기억하는 시스템입니다.\n",
    "이 기능 덕분에 AI는 과거 대화를 기억하고, 피드백에서 학습하며, 사용자의 선호도에 맞게 적응할 수 있습니다.  \n",
    "에이전트가 여러 번의 사용자 상호작용을 포함한 복잡한 작업을 수행할 때, 이러한 메모리 기능은 효율성과 사용자 만족도를 위해 필수적입니다.\n",
    "\n",
    "단기 메모리는 하나의 스레드(thread) 또는 대화(conversation) 내에서 이전 상호작용을 기억하게 해줍니다.  \n",
    "하나의 스레드(thread) 는 이메일이 여러 메시지를 하나의 대화로 묶는 것처럼, 여러 상호작용을 하나의 세션으로 구성합니다.\n",
    "\n",
    "가장 일반적인 단기 메모리 형태는 **대화 이력(conversation history)** 입니다."
   ]
  },
  {
   "cell_type": "code",
   "execution_count": 2,
   "id": "690398f0-28e5-4767-ae14-5893602118e9",
   "metadata": {},
   "outputs": [
    {
     "data": {
      "text/plain": [
       "True"
      ]
     },
     "execution_count": 2,
     "metadata": {},
     "output_type": "execute_result"
    }
   ],
   "source": [
    "from dotenv import load_dotenv\n",
    "\n",
    "load_dotenv()"
   ]
  },
  {
   "cell_type": "code",
   "execution_count": 3,
   "id": "6457873c-daa5-4552-9e50-554e5853a4af",
   "metadata": {},
   "outputs": [],
   "source": [
    "from langchain.chat_models import init_chat_model\n",
    "\n",
    "# model = init_chat_model(\"gpt-5-nano\", model_provider=\"openai\")\n",
    "model = init_chat_model(\"gemini-2.5-flash\", model_provider=\"google_genai\")"
   ]
  },
  {
   "cell_type": "markdown",
   "id": "4bcbd1df-358b-4c06-a257-37073e6aca2b",
   "metadata": {},
   "source": [
    "채팅 모델은 **메시지(messages)** 를 사용해 문맥(context)을 전달받습니다.\n",
    "이 메시지에는 **지시(instruction)** 역할의 시스템 메시지와, **입력(input)** 역할의 사용자 메시지가 포함됩니다.\n",
    "\n",
    "에이전트에 **단기 메모리(스레드 수준 지속성)** 를 추가하려면, 에이전트를 생성할 때 **체크포인터(checkpointer)** 를 지정해야 합니다."
   ]
  },
  {
   "cell_type": "code",
   "execution_count": 4,
   "id": "60678b11-4e4e-4e98-9278-c43ac1daef4c",
   "metadata": {},
   "outputs": [
    {
     "data": {
      "text/plain": [
       "{'messages': [HumanMessage(content='안녕! 내 이름은 밥이야.', additional_kwargs={}, response_metadata={}, id='7e197f2d-6f54-4592-b1be-a70967f28216'),\n",
       "  AIMessage(content='안녕하세요 밥님! 무엇을 도와드릴까요?', additional_kwargs={}, response_metadata={'prompt_feedback': {'block_reason': 0, 'safety_ratings': []}, 'finish_reason': 'STOP', 'model_name': 'gemini-2.5-flash', 'safety_ratings': [], 'grounding_metadata': {}, 'model_provider': 'google_genai'}, id='lc_run--17752927-a48e-4aa4-b427-f159fba8865b-0', usage_metadata={'input_tokens': 102, 'output_tokens': 11, 'total_tokens': 113, 'input_token_details': {'cache_read': 0}})]}"
      ]
     },
     "execution_count": 4,
     "metadata": {},
     "output_type": "execute_result"
    }
   ],
   "source": [
    "from langchain.agents import create_agent\n",
    "from langgraph.checkpoint.memory import InMemorySaver  \n",
    "from langchain.tools import tool\n",
    "\n",
    "@tool\n",
    "def search_db(query: str, limit: int = 10) -> str:\n",
    "    \"\"\"검색어(query)에 해당하는 고객 데이터베이스 레코드를 조회합니다.\n",
    "\n",
    "    Args:\n",
    "        query: 검색할 키워드 또는 문장\n",
    "        limit: 반환할 최대 결과 개수\n",
    "    \"\"\"\n",
    "    return f\"'{query}'에 대한 검색 결과 {limit}개를 찾았습니다.\"\n",
    "\n",
    "tools = [search_db]\n",
    "\n",
    "agent = create_agent(\n",
    "    model,\n",
    "    tools,\n",
    "    checkpointer=InMemorySaver(),  # 단기 메모리(체크포인터) 추가\n",
    ")\n",
    "\n",
    "# 에이전트 실행\n",
    "agent.invoke(\n",
    "    {\"messages\": [{\"role\": \"user\", \"content\": \"안녕! 내 이름은 밥이야.\"}]},\n",
    "    {\"configurable\": {\"thread_id\": \"1\"}},  # 스레드(대화) ID 지정\n",
    ")"
   ]
  },
  {
   "cell_type": "markdown",
   "id": "729a9e98-8a6a-4dae-ae05-68148f6c900d",
   "metadata": {},
   "source": [
    "운영 환경에서는 데이터베이스로 지원되는 체크포인터를 사용합니다."
   ]
  },
  {
   "cell_type": "code",
   "execution_count": 5,
   "id": "9253c87f-bfe6-43ba-a2a4-e35aa16444e8",
   "metadata": {},
   "outputs": [],
   "source": [
    "# pip install -U langgraph-checkpoint-sqlite"
   ]
  },
  {
   "cell_type": "code",
   "execution_count": 6,
   "id": "f76d8626-6b49-4871-a55e-708b9bc9b53f",
   "metadata": {},
   "outputs": [],
   "source": [
    "from langchain.agents import create_agent\n",
    "from langgraph.checkpoint.sqlite import SqliteSaver\n",
    "\n",
    "# SQLite 데이터베이스 파일 경로\n",
    "DB_PATH = \"checkpoints.db\"  # 또는 원하는 경로/파일명\n",
    "\n",
    "with SqliteSaver.from_conn_string(DB_PATH) as checkpointer:\n",
    "    checkpointer.setup()  # SQLite 테이블 자동 생성\n",
    "    agent = create_agent(\n",
    "        model,\n",
    "        tools,\n",
    "        checkpointer=checkpointer,\n",
    "    )"
   ]
  },
  {
   "cell_type": "markdown",
   "id": "24365aaa-1a14-4974-85ef-8471e50bb243",
   "metadata": {},
   "source": [
    "### 에이전트 메모리 사용자 정의\n",
    "\n",
    "기본적으로 에이전트는 **`AgentState`** 를 사용하여 **단기 메모리(short-term memory)** 를 관리합니다.\n",
    "특히, 대화 이력(conversation history)은 `messages` 키를 통해 저장됩니다.\n",
    "\n",
    "`AgentState`를 **확장(extend)** 하면, 여기에 **추가 필드(custom fields)** 를 넣을 수도 있습니다.\n",
    "사용자 정의 상태 스키마(custom state schema)는 `create_agent` 함수에 **`state_schema` 매개변수**로 전달됩니다. "
   ]
  },
  {
   "cell_type": "code",
   "execution_count": 7,
   "id": "685b0d97-64bf-428a-8366-2808c7f2b262",
   "metadata": {},
   "outputs": [
    {
     "data": {
      "text/plain": [
       "{'messages': [HumanMessage(content='안녕하세요', additional_kwargs={}, response_metadata={}, id='ae5fe742-45a7-4c6d-96bc-ebcc0445ba98'),\n",
       "  AIMessage(content='안녕하세요! 무엇을 도와드릴까요?', additional_kwargs={}, response_metadata={'prompt_feedback': {'block_reason': 0, 'safety_ratings': []}, 'finish_reason': 'STOP', 'model_name': 'gemini-2.5-flash', 'safety_ratings': [], 'grounding_metadata': {}, 'model_provider': 'google_genai'}, id='lc_run--ea7d1a34-72dd-4763-aa33-54a855e141f6-0', usage_metadata={'input_tokens': 93, 'output_tokens': 8, 'total_tokens': 101, 'input_token_details': {'cache_read': 0}})],\n",
       " 'user_id': 'user_123',\n",
       " 'preferences': {'theme': 'dark'}}"
      ]
     },
     "execution_count": 7,
     "metadata": {},
     "output_type": "execute_result"
    }
   ],
   "source": [
    "from langchain.agents import create_agent, AgentState\n",
    "from langgraph.checkpoint.memory import InMemorySaver\n",
    "\n",
    "class CustomAgentState(AgentState):  \n",
    "    user_id: str\n",
    "    preferences: dict\n",
    "\n",
    "agent = create_agent(\n",
    "    model,\n",
    "    tools,\n",
    "    state_schema=CustomAgentState,  # 사용자 정의 상태 스키마 등록\n",
    "    checkpointer=InMemorySaver(),   # 단기 메모리 저장소\n",
    ")\n",
    "\n",
    "# 사용자 정의 상태를 포함하여 호출\n",
    "result = agent.invoke(\n",
    "    {\n",
    "        \"messages\": [{\"role\": \"user\", \"content\": \"안녕하세요\"}],\n",
    "        \"user_id\": \"user_123\",             # 사용자 ID 추가\n",
    "        \"preferences\": {\"theme\": \"dark\"}   # 사용자 선호도 추가\n",
    "    },\n",
    "    {\"configurable\": {\"thread_id\": \"1\"}}   # 동일 스레드에서 지속적 대화 유지\n",
    ")\n",
    "\n",
    "result"
   ]
  },
  {
   "cell_type": "code",
   "execution_count": 8,
   "id": "ba698c42-4387-4769-9007-773fd2aefaba",
   "metadata": {},
   "outputs": [
    {
     "data": {
      "text/plain": [
       "[HumanMessage(content='안녕하세요', additional_kwargs={}, response_metadata={}, id='ae5fe742-45a7-4c6d-96bc-ebcc0445ba98'),\n",
       " AIMessage(content='안녕하세요! 무엇을 도와드릴까요?', additional_kwargs={}, response_metadata={'prompt_feedback': {'block_reason': 0, 'safety_ratings': []}, 'finish_reason': 'STOP', 'model_name': 'gemini-2.5-flash', 'safety_ratings': [], 'grounding_metadata': {}, 'model_provider': 'google_genai'}, id='lc_run--ea7d1a34-72dd-4763-aa33-54a855e141f6-0', usage_metadata={'input_tokens': 93, 'output_tokens': 8, 'total_tokens': 101, 'input_token_details': {'cache_read': 0}})]"
      ]
     },
     "execution_count": 8,
     "metadata": {},
     "output_type": "execute_result"
    }
   ],
   "source": [
    "result['messages']"
   ]
  },
  {
   "cell_type": "code",
   "execution_count": 9,
   "id": "066bd38b-168f-494a-a342-c2155386a2a5",
   "metadata": {},
   "outputs": [
    {
     "data": {
      "text/plain": [
       "'user_123'"
      ]
     },
     "execution_count": 9,
     "metadata": {},
     "output_type": "execute_result"
    }
   ],
   "source": [
    "result['user_id']"
   ]
  },
  {
   "cell_type": "code",
   "execution_count": 10,
   "id": "def72bcc-ea80-410a-b61a-940ceae53d32",
   "metadata": {},
   "outputs": [
    {
     "data": {
      "text/plain": [
       "{'theme': 'dark'}"
      ]
     },
     "execution_count": 10,
     "metadata": {},
     "output_type": "execute_result"
    }
   ],
   "source": [
    "result['preferences']"
   ]
  },
  {
   "cell_type": "markdown",
   "id": "b52406e3-e13e-43ca-9a8c-7b6bcafbf648",
   "metadata": {},
   "source": [
    "### 메시지 트리밍 (Trim messages)\n",
    "대부분의 LLM은 최대 지원 컨텍스트 윈도우(토큰 단위로 표시)가 있습니다. 메시지를 언제 잘라낼지 결정하는 한 가지 방법은 메시지 히스토리의 토큰을 계산하고 제한에 근접할 때마다 잘라내는 것입니다.  \n",
    "LangChain을 사용하는 경우, trim messages 유틸리티를 사용하여 목록에서 유지할 토큰 수와 경계를 처리하는 strategy(예: 마지막 max_tokens 유지)를 지정할 수 있습니다.  \n",
    "에이전트에서 메시지 히스토리를 트리밍하려면 @before_model 미들웨어 데코레이터를 사용하세요:"
   ]
  },
  {
   "cell_type": "code",
   "execution_count": 11,
   "id": "ab9a2ec5-eaea-49dc-be2a-97b085c3314d",
   "metadata": {},
   "outputs": [
    {
     "name": "stdout",
     "output_type": "stream",
     "text": [
      "==================================\u001b[1m Ai Message \u001b[0m==================================\n",
      "\n",
      "당신은 \"밥\"이라고 말씀해주셨어요!\n"
     ]
    }
   ],
   "source": [
    "from langchain.messages import RemoveMessage\n",
    "from langgraph.graph.message import REMOVE_ALL_MESSAGES\n",
    "from langgraph.checkpoint.memory import InMemorySaver\n",
    "from langchain.agents import create_agent, AgentState\n",
    "from langchain.agents.middleware import before_model\n",
    "from langgraph.runtime import Runtime\n",
    "from langchain_core.runnables import RunnableConfig\n",
    "from typing import Any\n",
    "\n",
    "@before_model\n",
    "def trim_messages(state: AgentState, runtime: Runtime) -> dict[str, Any] | None:\n",
    "    \"\"\"컨텍스트 윈도우에 맞추기 위해 최근 몇 개의 메시지만 유지합니다.\"\"\"\n",
    "    messages = state[\"messages\"]\n",
    "    \n",
    "    # 메시지가 3개 이하면 트리밍 불필요\n",
    "    if len(messages) <= 3:\n",
    "        return None  # 변경사항 없음\n",
    "    \n",
    "    # 첫 번째 메시지 보존 (보통 시스템 메시지나 초기 컨텍스트)\n",
    "    first_msg = messages[0]\n",
    "    \n",
    "    # 최근 3-4개 메시지 선택 (대화의 자연스러운 흐름 유지를 위해 짝수/홀수 고려)\n",
    "    recent_messages = messages[-3:] if len(messages) % 2 == 0 else messages[-4:]\n",
    "    \n",
    "    # 새로운 메시지 리스트 구성\n",
    "    new_messages = [first_msg] + recent_messages\n",
    "    \n",
    "    # 모든 기존 메시지를 제거하고 새 메시지로 교체\n",
    "    return {\n",
    "        \"messages\": [\n",
    "            RemoveMessage(id=REMOVE_ALL_MESSAGES),  # 모든 메시지 제거\n",
    "            *new_messages  # 선택된 메시지만 다시 추가\n",
    "        ]\n",
    "    }\n",
    "\n",
    "# 에이전트 생성 (모델, 도구, 미들웨어, 체크포인터 설정)\n",
    "agent = create_agent(\n",
    "    model,\n",
    "    tools=tools,\n",
    "    middleware=[trim_messages],  # 메시지 트리밍 미들웨어 적용\n",
    "    checkpointer=InMemorySaver(),  # 메모리 기반 체크포인터\n",
    ")\n",
    "\n",
    "# 설정: thread_id로 대화 세션 식별\n",
    "config: RunnableConfig = {\"configurable\": {\"thread_id\": \"1\"}}\n",
    "\n",
    "# 대화 시작 - 이름 소개\n",
    "agent.invoke({\"messages\": \"안녕, 내 이름은 밥이야\"}, config)\n",
    "\n",
    "# 고양이에 대한 짧은 시 요청\n",
    "agent.invoke({\"messages\": \"고양이에 대한 짧은 시를 써줘\"}, config)\n",
    "\n",
    "# 개에 대한 시 요청\n",
    "agent.invoke({\"messages\": \"이제 개에 대해서도 똑같이 해줘\"}, config)\n",
    "\n",
    "# 이전에 말한 이름을 기억하는지 확인 (메시지 트리밍 후에도 기억하는지 테스트)\n",
    "final_response = agent.invoke({\"messages\": \"내 이름이 뭐야?\"}, config)\n",
    "\n",
    "# 최종 응답 출력\n",
    "final_response[\"messages\"][-1].pretty_print()"
   ]
  },
  {
   "cell_type": "markdown",
   "id": "06f850de-0d30-4995-8231-6c1f078576ba",
   "metadata": {},
   "source": [
    "### Message 삭제\n",
    "그래프 State에서 메시지를 삭제하려면 **`RemoveMessage`** 를 사용할 수 있습니다.  \n",
    "단, `RemoveMessage` 가 제대로 동작하려면 `add_messages` 리듀서(reducer)를 사용하는 상태 키(state key)가 필요합니다.  \n",
    "기본 제공되는 **`AgentState`** 는 이미 이 기능을 포함하고 있습니다."
   ]
  },
  {
   "cell_type": "code",
   "execution_count": 12,
   "id": "4a73d795-0a7c-4011-9175-fc527f6072cb",
   "metadata": {},
   "outputs": [],
   "source": [
    "from langchain.messages import RemoveMessage  \n",
    "\n",
    "def delete_messages(state):\n",
    "    messages = state[\"messages\"]\n",
    "    if len(messages) > 2:\n",
    "        # 가장 오래된 두 개의 메시지를 제거\n",
    "        return {\"messages\": [RemoveMessage(id=m.id) for m in messages[:2]]}"
   ]
  },
  {
   "cell_type": "markdown",
   "id": "abd28c59-f52b-47c3-bfbd-936a08dba018",
   "metadata": {},
   "source": [
    "- 모든 message 를 삭제하려면,"
   ]
  },
  {
   "cell_type": "code",
   "execution_count": 13,
   "id": "5a36557c-c43a-4449-bd12-babb375025d1",
   "metadata": {},
   "outputs": [],
   "source": [
    "from langgraph.graph.message import REMOVE_ALL_MESSAGES\n",
    "\n",
    "def delete_messages(state):\n",
    "    return {\"messages\": [RemoveMessage(id=REMOVE_ALL_MESSAGES)]}"
   ]
  },
  {
   "cell_type": "markdown",
   "id": "21b88163-3abc-4992-867b-c7d5c5749d5c",
   "metadata": {},
   "source": [
    "- 가장 오래된 두개의 message 삭제 예시"
   ]
  },
  {
   "cell_type": "code",
   "execution_count": 20,
   "id": "003b41a3-5001-4a55-a741-f7424563f713",
   "metadata": {},
   "outputs": [
    {
     "name": "stdout",
     "output_type": "stream",
     "text": [
      "******* 첫번째 대화 ************\n",
      "[('human', '안녕! 내 이름은 밥이야.')]\n",
      "[('human', '안녕! 내 이름은 밥이야.'), ('ai', '안녕, 밥!')]\n",
      "\n",
      "******* 두번째 대화 ************\n",
      "[('human', '안녕! 내 이름은 밥이야.'), ('ai', '안녕, 밥!'), ('human', '내 이름이 뭐였지?')]\n",
      "[('human', '안녕! 내 이름은 밥이야.'), ('ai', '안녕, 밥!'), ('human', '내 이름이 뭐였지?'), ('ai', '밥.')]\n",
      "\n",
      "[delete_old_messages] 삭제된 메시지:\n",
      " - (human) 안녕! 내 이름은 밥이야.\n",
      " - (ai) 안녕, 밥!\n",
      "[('human', '내 이름이 뭐였지?'), ('ai', '밥.')]\n"
     ]
    }
   ],
   "source": [
    "from langchain.messages import RemoveMessage\n",
    "from langchain.agents import create_agent, AgentState\n",
    "from langchain.agents.middleware import after_model\n",
    "from langgraph.checkpoint.memory import InMemorySaver\n",
    "from langgraph.runtime import Runtime\n",
    "from langchain_core.runnables import RunnableConfig\n",
    "\n",
    "@after_model\n",
    "def delete_old_messages(state: AgentState, runtime: Runtime) -> dict | None:\n",
    "    \"\"\"대화가 너무 길어지지 않도록 오래된 메시지를 삭제합니다.\"\"\"\n",
    "    messages = state[\"messages\"]\n",
    "    if len(messages) > 2:\n",
    "        # 가장 오래된 두 개의 메시지를 제거\n",
    "        print(\"\\n[delete_old_messages] 삭제된 메시지:\")\n",
    "        for m in messages[:2]:\n",
    "            print(f\" - ({m.type}) {m.content}\")\n",
    "        return {\"messages\": [RemoveMessage(id=m.id) for m in messages[:2]]}\n",
    "    return None\n",
    "\n",
    "# 에이전트 생성\n",
    "agent = create_agent(\n",
    "    model,\n",
    "    tools=[],\n",
    "    system_prompt=\"간결하고 핵심만 답변하세요.\",\n",
    "    middleware=[delete_old_messages],  # 오래된 메시지 삭제 미들웨어 추가\n",
    "    checkpointer=InMemorySaver(),      # 인메모리 체크포인터 (단기 메모리)\n",
    ")\n",
    "\n",
    "# 실행 설정 (스레드 ID로 대화 지속)\n",
    "config: RunnableConfig = {\"configurable\": {\"thread_id\": \"1\"}}\n",
    "\n",
    "# 첫 번째 대화\n",
    "print(\"******* 첫번째 대화 ************\")\n",
    "for event in agent.stream(\n",
    "    {\"messages\": [{\"role\": \"user\", \"content\": \"안녕! 내 이름은 밥이야.\"}]},\n",
    "    config,\n",
    "    stream_mode=\"values\",\n",
    "):\n",
    "    print([(message.type, message.content) for message in event[\"messages\"]])\n",
    "\n",
    "# 두 번째 대화\n",
    "print(\"\\n******* 두번째 대화 ************\")\n",
    "for event in agent.stream(\n",
    "    {\"messages\": [{\"role\": \"user\", \"content\": \"내 이름이 뭐였지?\"}]},\n",
    "    config,\n",
    "    stream_mode=\"values\",\n",
    "):\n",
    "    print([(message.type, message.content) for message in event[\"messages\"]])"
   ]
  },
  {
   "cell_type": "code",
   "execution_count": 21,
   "id": "974e2390-1394-47dd-9aad-fed897d6baa0",
   "metadata": {},
   "outputs": [
    {
     "data": {
      "text/plain": [
       "StateSnapshot(values={'messages': [HumanMessage(content='내 이름이 뭐였지?', additional_kwargs={}, response_metadata={}, id='83dc2cac-ed72-4e6e-92c0-fc041591be82'), AIMessage(content='밥.', additional_kwargs={}, response_metadata={'prompt_feedback': {'block_reason': 0, 'safety_ratings': []}, 'finish_reason': 'STOP', 'model_name': 'gemini-2.5-flash', 'safety_ratings': [], 'grounding_metadata': {}, 'model_provider': 'google_genai'}, id='lc_run--976b0e94-f5f2-4179-8b03-572b5903a4ea-0', usage_metadata={'input_tokens': 34, 'output_tokens': 27, 'total_tokens': 61, 'input_token_details': {'cache_read': 0}, 'output_token_details': {'reasoning': 25}})]}, next=(), config={'configurable': {'thread_id': '1', 'checkpoint_ns': '', 'checkpoint_id': '1f0b2cae-7a2f-61ea-8006-02a4093cb77b'}}, metadata={'source': 'loop', 'step': 6, 'parents': {}}, created_at='2025-10-27T00:21:38.783849+00:00', parent_config={'configurable': {'thread_id': '1', 'checkpoint_ns': '', 'checkpoint_id': '1f0b2cae-7a26-61f1-8005-f5ee0381ca04'}}, tasks=(), interrupts=())"
      ]
     },
     "execution_count": 21,
     "metadata": {},
     "output_type": "execute_result"
    }
   ],
   "source": [
    "agent.get_state(config)"
   ]
  },
  {
   "cell_type": "markdown",
   "id": "07249ada-e7d9-431f-955a-9ca86de45348",
   "metadata": {},
   "source": [
    "### 메시지 요약 (Summarize messages)\n",
    "\n",
    "앞서 설명한 것처럼 메시지를 단순히 잘라내거나 삭제(trimming/removing)하면,\n",
    "메시지 큐에서 정보를 잃게 될 수 있다는 문제가 있습니다.\n",
    "이 때문에 일부 애플리케이션은 **채팅 모델(chat model)** 을 활용해\n",
    "대화 기록을 **요약(summarize)** 하는 보다 정교한 방식을 사용하는 것이 더 유리합니다."
   ]
  },
  {
   "cell_type": "code",
   "execution_count": 23,
   "id": "2fb0353b-fc51-4989-90ef-8487ccf02c30",
   "metadata": {},
   "outputs": [
    {
     "name": "stdout",
     "output_type": "stream",
     "text": [
      "==================================\u001b[1m Ai Message \u001b[0m==================================\n",
      "\n",
      "당신의 이름은 **밥**입니다.\n"
     ]
    }
   ],
   "source": [
    "from langchain.agents import create_agent\n",
    "from langchain.agents.middleware import SummarizationMiddleware\n",
    "from langgraph.checkpoint.memory import InMemorySaver\n",
    "from langchain_core.runnables import RunnableConfig\n",
    "\n",
    "checkpointer = InMemorySaver()\n",
    "\n",
    "agent = create_agent(\n",
    "    model,\n",
    "    tools=[],\n",
    "    middleware=[\n",
    "        SummarizationMiddleware(\n",
    "            model,\n",
    "            max_tokens_before_summary=4000,  # 4000토큰이 넘으면 요약 수행\n",
    "            messages_to_keep=20,              # 요약 후 최근 20개 메시지는 유지\n",
    "        )\n",
    "    ],\n",
    "    checkpointer=checkpointer,\n",
    ")\n",
    "\n",
    "config: RunnableConfig = {\"configurable\": {\"thread_id\": \"1\"}}\n",
    "agent.invoke({\"messages\": \"안녕, 내 이름은 밥이야\"}, config)\n",
    "agent.invoke({\"messages\": \"고양이에 대한 짧은 시를 써줘\"}, config)\n",
    "agent.invoke({\"messages\": \"이제 개에 대해서도 같은 시를 써줘\"}, config)\n",
    "final_response = agent.invoke({\"messages\": \"내 이름이 뭐였지?\"}, config)\n",
    "\n",
    "final_response[\"messages\"][-1].pretty_print()"
   ]
  },
  {
   "cell_type": "markdown",
   "id": "2795625d-f11a-45d4-b7a0-b15d40883730",
   "metadata": {},
   "source": [
    "### 메모리 접근 (Access memory)\n",
    "\n",
    "에이전트의 **단기 메모리(state)** 에는 여러 가지 방식으로 접근하거나 수정할 수 있습니다.\n",
    "\n",
    "도구 내부에서는 `ToolRuntime` 매개변수(parameter)를 사용해 에이전트의 **단기 메모리(state)** 에 접근할 수 있습니다."
   ]
  },
  {
   "cell_type": "code",
   "execution_count": 24,
   "id": "b24b1255-fe0b-4b43-80dd-75f11f03e716",
   "metadata": {},
   "outputs": [
    {
     "name": "stdout",
     "output_type": "stream",
     "text": [
      "사용자 정보는 John Smith입니다.\n"
     ]
    }
   ],
   "source": [
    "from langchain.agents import create_agent, AgentState\n",
    "from langchain.tools import tool, ToolRuntime\n",
    "\n",
    "# 사용자 정의 상태 정의\n",
    "class CustomState(AgentState):\n",
    "    user_id: str\n",
    "\n",
    "# 사용자 정보를 조회하는 도구 정의\n",
    "@tool\n",
    "def get_user_info(\n",
    "    runtime: ToolRuntime\n",
    ") -> str:\n",
    "    \"\"\"사용자 정보를 조회합니다.\"\"\"\n",
    "    user_id = runtime.state[\"user_id\"]  # 현재 에이전트 상태에서 user_id 접근\n",
    "    return \"사용자는 John Smith입니다.\" if user_id == \"user_123\" else \"알 수 없는 사용자입니다.\"\n",
    "\n",
    "# 에이전트 생성\n",
    "agent = create_agent(\n",
    "    model,\n",
    "    tools=[get_user_info],\n",
    "    state_schema=CustomState,  # 사용자 정의 상태 스키마 지정\n",
    ")\n",
    "\n",
    "# 에이전트 호출\n",
    "result = agent.invoke({\n",
    "    \"messages\": \"사용자 정보를 조회해줘\",\n",
    "    \"user_id\": \"user_123\"\n",
    "})\n",
    "print(result[\"messages\"][-1].content)"
   ]
  },
  {
   "attachments": {
    "8cd6535e-2b88-41ec-bee8-11475270c17d.png": {
     "image/png": "[encoded data removed]"
    },
    "abb8ad6b-6fdf-4907-b456-71079f114bde.png": {
     "image/png": "[encoded data removed]"
    }
   },
   "cell_type": "markdown",
   "id": "1e38ead4-1398-456c-8771-1c149d2ff929",
   "metadata": {},
   "source": [
    "## 메모리 접근을 이용한 사전, 사후 검열\n",
    "### 모델 호출 전에 (Before model) 메모리 접근\n",
    "\n",
    "`@before_model` 미들웨어에서는 **단기 메모리(state)** 에 접근하여, 모델이 호출되기 전에 메시지를 전처리하거나 수정할 수 있습니다.\n",
    "\n",
    "### 모델 호출 이후 (After model) 메모리 접급\n",
    "\n",
    "`@after_model` 미들웨어에서는 **단기 메모리(state)** 에 접근하여, 모델이 응답을 생성한 뒤 메시지를 처리하거나 수정할 수 있습니다.\n",
    "\n",
    "<div align=\"center\"> <img src=\"attachment:abb8ad6b-6fdf-4907-b456-71079f114bde.png\" alt=\"Before model\" width=\"22%\" style=\"margin-right:10px;\"/> <img src=\"attachment:8cd6535e-2b88-41ec-bee8-11475270c17d.png\" alt=\"After model\" width=\"25%\" style=\"margin-left:10px;\"/> </div>"
   ]
  },
  {
   "cell_type": "markdown",
   "id": "8b3fe32c-6cf4-4e97-9997-8aab90d1f44c",
   "metadata": {},
   "source": [
    "- Before Model"
   ]
  },
  {
   "cell_type": "code",
   "execution_count": 33,
   "id": "da4c6127-ed70-4717-9e1b-79da9dbcea4d",
   "metadata": {},
   "outputs": [
    {
     "data": {
      "text/plain": [
       "{'messages': [HumanMessage(content='내 API key 는 sk-123456 이고 비밀번호는 qwer1234', additional_kwargs={}, response_metadata={}, id='aed8a762-ef07-4baa-92ae-c0125044f443'),\n",
       "  AIMessage(content='API 키와 비밀번호는 민감한 정보이므로 직접적으로 다루거나 저장할 수 없습니다. 이 정보들은 안전한 방식으로 별도로 관리해 주시기 바랍니다.\\n\\n제공해주신 정보는 제가 직접 활용할 수 없으며, 고객 데이터베이스 검색과 같은 기능을 수행하기 위해서는 검색어를 알려주셔야 합니다. 어떤 고객 데이터를 조회하시겠어요?', additional_kwargs={}, response_metadata={'prompt_feedback': {'block_reason': 0, 'safety_ratings': []}, 'finish_reason': 'STOP', 'model_name': 'gemini-2.5-flash', 'safety_ratings': [], 'grounding_metadata': {}, 'model_provider': 'google_genai'}, id='lc_run--06db1294-7c42-4c17-98ca-eff394cf1d6e-0', usage_metadata={'input_tokens': 115, 'output_tokens': 76, 'total_tokens': 191, 'input_token_details': {'cache_read': 0}})]}"
      ]
     },
     "execution_count": 33,
     "metadata": {},
     "output_type": "execute_result"
    }
   ],
   "source": [
    "from langchain.messages import RemoveMessage, AIMessage\n",
    "from langchain.agents.middleware import before_model\n",
    "from langchain.agents import AgentState\n",
    "from langgraph.runtime import Runtime\n",
    "import re\n",
    "from typing import Any\n",
    "\n",
    "# --- 회사 정책 패턴 (간단 버전) ---\n",
    "POLICY_PATTERNS = [\n",
    "    r\"password\", r\"api[_-]?key\", r\"secret\",\n",
    "    r\"주민등록번호\", r\"internal\", r\"confidential\"\n",
    "]\n",
    "\n",
    "@before_model\n",
    "def check_security(state: AgentState, runtime: Runtime) -> dict[str, Any] | None:\n",
    "    \"\"\"간단한 보안 검사 — 마지막 사용자 입력에 금칙어가 포함되어 있는지 확인.\"\"\"\n",
    "    messages = state[\"messages\"]\n",
    "    if not messages:\n",
    "        return None\n",
    "\n",
    "    # 가장 마지막 메시지의 내용 문자열 추출\n",
    "    text = str(messages[-1].content)\n",
    "\n",
    "    # 금칙어 탐지\n",
    "    if any(re.search(p, text, re.IGNORECASE) for p in POLICY_PATTERNS):\n",
    "        warning = (\n",
    "            \"보안 정책 위반 가능성이 있는 내용이 감지되었습니다!!!\\n\"\n",
    "            \"비밀번호, API 키, 주민등록번호 등 민감한 정보를 포함하지 말아주세요.\"\n",
    "        )\n",
    "        return {\n",
    "            \"messages\": [\n",
    "                RemoveMessage(id=messages[-1].id),  # 마지막 입력 제거\n",
    "                AIMessage(content=warning),        # 경고 메시지 추가\n",
    "            ]\n",
    "        }\n",
    "\n",
    "    # 이상 없으면 그대로 진행\n",
    "    return None\n",
    "\n",
    "agent = create_agent(\n",
    "    model,\n",
    "    tools=tools,\n",
    "    middleware=[check_security],  # 보안 체크 미들웨어\n",
    "    checkpointer=InMemorySaver(),  # 필요 시 단기 메모리 사용\n",
    ")\n",
    "\n",
    "config: RunnableConfig = {\"configurable\": {\"thread_id\": \"1\"}}\n",
    "\n",
    "# 정책 위반 예시(차단됨)\n",
    "response = agent.invoke({\"messages\": \"내 API key 는 sk-123456 이고 비밀번호는 qwer1234\"}, config)\n",
    "response"
   ]
  },
  {
   "cell_type": "code",
   "execution_count": 35,
   "id": "d515cae2-9034-4148-a9e4-c608a2527f6c",
   "metadata": {},
   "outputs": [
    {
     "name": "stdout",
     "output_type": "stream",
     "text": [
      "API 키와 비밀번호는 민감한 정보이므로 직접적으로 다루거나 저장할 수 없습니다. 이 정보들은 안전한 방식으로 별도로 관리해 주시기 바랍니다.\n",
      "\n",
      "제공해주신 정보는 제가 직접 활용할 수 없으며, 고객 데이터베이스 검색과 같은 기능을 수행하기 위해서는 검색어를 알려주셔야 합니다. 어떤 고객 데이터를 조회하시겠어요?\n"
     ]
    }
   ],
   "source": [
    "print(response['messages'][-1].content)"
   ]
  },
  {
   "cell_type": "markdown",
   "id": "c058cac5-4b7d-4cee-bc93-1f92fdd7994c",
   "metadata": {},
   "source": [
    "- After Model"
   ]
  },
  {
   "cell_type": "code",
   "execution_count": 41,
   "id": "e02145d9-5171-48dd-be7d-f62c6c1af1cc",
   "metadata": {},
   "outputs": [],
   "source": [
    "from langchain.messages import RemoveMessage\n",
    "from langgraph.checkpoint.memory import InMemorySaver\n",
    "from langchain.agents import create_agent, AgentState\n",
    "from langchain.agents.middleware import after_model\n",
    "from langgraph.runtime import Runtime\n",
    "\n",
    "@after_model\n",
    "def validate_response(state: AgentState, runtime: Runtime) -> dict | None:\n",
    "    \"\"\"정치적 또는 종교적 내용을 포함한 메시지를 자동으로 제거합니다.\"\"\"\n",
    "    \n",
    "    # 정치/종교 관련 금칙어 목록 (필요 시 확장 가능)\n",
    "    POLITICAL_OR_RELIGIOUS_WORDS = [\n",
    "        \"정치\", \"대통령\", \"선거\", \"정부\", \"야당\", \"여당\",\n",
    "        \"보수\", \"진보\", \"민주당\", \"국민의힘\", \"정당\",\n",
    "        \"종교\", \"기독교\", \"천주교\", \"불교\", \"이슬람\", \"힌두교\",\n",
    "        \"신앙\", \"예수\", \"하느님\", \"알라\", \"교회\", \"성당\", \"사찰\"\n",
    "    ]\n",
    "    \n",
    "    last_message = state[\"messages\"][-1]  # 모델의 마지막 응답 메시지\n",
    "    content = str(last_message.content).lower()  # 내용 소문자로 변환\n",
    "    \n",
    "    # 금칙어 중 하나라도 포함되어 있으면 메시지 제거\n",
    "    if any(word.lower() in content for word in POLITICAL_OR_RELIGIOUS_WORDS):\n",
    "        print(\"정치/종교 관련 응답 감지 → 메시지 제거됨\\n제거된 메시지 ==> \")\n",
    "        print(content)\n",
    "        return {\"messages\": [RemoveMessage(id=last_message.id)]}\n",
    "    \n",
    "    return None  # 문제가 없으면 그대로 유지\n",
    "\n",
    "# 에이전트 생성\n",
    "agent = create_agent(\n",
    "    model,\n",
    "    tools=[],\n",
    "    middleware=[validate_response],  # 정치/종교 내용 필터 미들웨어\n",
    "    checkpointer=InMemorySaver(),    # 단기 메모리(체크포인터)\n",
    ")"
   ]
  },
  {
   "cell_type": "code",
   "execution_count": 42,
   "id": "5c7aa5cb-794f-4b9d-8df4-c59d9a948aa1",
   "metadata": {},
   "outputs": [
    {
     "name": "stdout",
     "output_type": "stream",
     "text": [
      "[1] 정상 메시지 (삭제되지 않아야 함)\n",
      "→ 마지막 메시지: 죄송하지만, 제가 계신 곳의 정확한 위치를 알 수 없어서 현재 날씨를 알려드리기가 어렵습니다.\n",
      "\n",
      "**어느 지역의 날씨가 궁금하신가요? (예: 서울, 부산, 뉴욕 등)** 지역을 알려주시면 찾아드릴 수 있습니다.\n",
      "------------------------------------------------------------\n",
      "[2] 정치 관련 메시지 (삭제되어야 함)\n",
      "정치/종교 관련 응답 감지 → 메시지 제거됨\n",
      "제거된 메시지 ==> \n",
      "저는 인공지능이기 때문에 개인적인 의견이나 정치적인 견해를 가지고 있지 않습니다. 특정 후보나 정당에 대한 선호도 없이 중립적인 입장을 유지합니다.\n",
      "\n",
      "하지만 대통령 선거가 **민주주의의 매우 중요한 과정**이라는 점은 말씀드릴 수 있습니다. 국민들이 자신들의 대표를 직접 뽑아 국가의 미래 방향을 결정하는 중대한 행사입니다. 다양한 정책과 비전이 제시되고, 국민들이 이를 바탕으로 신중하게 선택하는 과정이라고 생각합니다.\n",
      "→ 마지막 메시지: 대통령 선거에 대해 어떻게 생각해?\n",
      "------------------------------------------------------------\n",
      "[3] 종교 관련 메시지 (삭제되어야 함)\n",
      "정치/종교 관련 응답 감지 → 메시지 제거됨\n",
      "제거된 메시지 ==> \n",
      "두 가지 질문에 대해 답변해 드릴게요.\n",
      "\n",
      "---\n",
      "\n",
      "**1. 대통령 선거에 대해 어떻게 생각해?**\n",
      "\n",
      "저는 인공지능이므로 개인적인 생각이나 의견을 가지고 있지 않습니다. 대통령 선거와 같은 정치적 사안에 대해 특정 입장을 취하거나 판단을 내릴 수 없습니다.\n",
      "\n",
      "하지만 대통령 선거의 중요성에 대해서는 말씀드릴 수 있습니다. 대통령 선거는 한 나라의 미래 방향을 결정하는 매우 중요한 과정입니다. 유권자들이 자신의 대표를 선택하여 국가 운영의 방향을 제시하고, 정책 결정에 영향을 미치는 민주주의의 핵심적인 절차입니다.\n",
      "\n",
      "**제가 할 수 있는 일은 다음과 같습니다:**\n",
      "\n",
      "*   **선거 과정 설명:** 선거가 어떻게 진행되는지, 투표 방법, 후보자 등록 절차 등에 대해 알려드릴 수 있습니다.\n",
      "*   **객관적인 정보 제공:** 특정 선거에 대한 후보자들의 주요 공약, 과거 발언, 관련 뉴스 기사 등 객관적인 정보를 찾아드릴 수 있습니다. (다만, 정보의 최신성이나 정확성은 제가 접근할 수 있는 데이터에 따라 달라질 수 있습니다.)\n",
      "*   **용어 설명:** 선거 관련 용어(예: 득표율, 개표, 선거구 등)를 설명해 드릴 수 있습니다.\n",
      "\n",
      "---\n",
      "\n",
      "**2. 예수님은 누구인가요?**\n",
      "\n",
      "예수님은 기독교의 중심 인물이자 창시자입니다. 기독교인들은 예수님을 하나님의 아들이자 인류의 구원자(메시아)로 믿습니다.\n",
      "\n",
      "예수님에 대한 주요 내용은 다음과 같습니다:\n",
      "\n",
      "*   **탄생과 생애:** 약 2000년 전 유대 땅 베들레헴에서 태어나셨고, 갈릴리 나사렛에서 성장하셨습니다. 30세 무렵부터 약 3년 동안 공생애를 보내시며 가르치고 병든 자를 고치셨습니다.\n",
      "*   **주요 가르침:** 사랑, 용서, 겸손, 섬김, 이웃 사랑, 하나님 나라의 복음 등을 전하셨습니다. 산상수훈과 여러 비유를 통해 사람들에게 영적인 진리를 가르치셨습니다.\n",
      "*   **십자가와 부활:** 유대 종교 지도자들과 로마 당국에 의해 십자가에 못 박혀 죽으셨으나, 사흘 만에 부활하셨다고 기독교는 믿습니다. 이 부활은 기독교 신앙의 핵심입니다.\n",
      "*   **기독교에서의 의미:** 기독교인들에게 예수님은 죄를 대속하기 위해 오신 구원자이며, 그를 믿음으로써 영원한 생명을 얻을 수 있다고 믿습니다. 또한 예수님은 하나님의 모습을 보여주는 분이자, 인간이 따라야 할 삶의 모범으로 여겨집니다.\n",
      "*   **다른 종교에서의 관점:**\n",
      "    *   **이슬람교:** 예수님을 위대한 예언자 중 한 분으로 존경하지만, 하나님의 아들이나 메시아로는 보지 않습니다.\n",
      "    *   **유대교:** 예수님을 메시아로 인정하지 않고, 역사적 인물로 보거나 이단으로 간주하기도 합니다.\n",
      "\n",
      "요약하자면, 예수님은 기독교 신앙의 핵심이자 인류 역사에 지대한 영향을 미친 종교적, 역사적 인물입니다.\n",
      "→ 마지막 메시지: 예수님은 누구인가요?\n",
      "------------------------------------------------------------\n"
     ]
    }
   ],
   "source": [
    "# ==============================\n",
    "# 테스트 코드\n",
    "# ==============================\n",
    "from langchain_core.runnables import RunnableConfig\n",
    "\n",
    "# 스레드 ID 설정 (대화 단위 유지)\n",
    "config: RunnableConfig = {\"configurable\": {\"thread_id\": \"test_1\"}}\n",
    "\n",
    "print(\"[1] 정상 메시지 (삭제되지 않아야 함)\")\n",
    "result = agent.invoke({\"messages\": \"오늘 날씨가 어때?\"}, config)\n",
    "print(\"→ 마지막 메시지:\", result[\"messages\"][-1].content)\n",
    "print(\"-\" * 60)\n",
    "\n",
    "print(\"[2] 정치 관련 메시지 (삭제되어야 함)\")\n",
    "result = agent.invoke({\"messages\": \"대통령 선거에 대해 어떻게 생각해?\"}, config)\n",
    "if len(result[\"messages\"]) > 0:\n",
    "    print(\"→ 마지막 메시지:\", result[\"messages\"][-1].content)\n",
    "else:\n",
    "    print(\"→ 메시지가 필터링되어 삭제되었습니다.\")\n",
    "print(\"-\" * 60)\n",
    "\n",
    "print(\"[3] 종교 관련 메시지 (삭제되어야 함)\")\n",
    "result = agent.invoke({\"messages\": \"예수님은 누구인가요?\"}, config)\n",
    "if len(result[\"messages\"]) > 0:\n",
    "    print(\"→ 마지막 메시지:\", result[\"messages\"][-1].content)\n",
    "else:\n",
    "    print(\"→ 메시지가 필터링되어 삭제되었습니다.\")\n",
    "print(\"-\" * 60)"
   ]
  },
  {
   "cell_type": "code",
   "execution_count": null,
   "id": "d78c9121-fcd7-41aa-aaa4-5605ac0cbdd3",
   "metadata": {},
   "outputs": [],
   "source": []
  }
 ],
 "metadata": {
  "kernelspec": {
   "display_name": "Python 3 (ipykernel)",
   "language": "python",
   "name": "python3"
  },
  "language_info": {
   "codemirror_mode": {
    "name": "ipython",
    "version": 3
   },
   "file_extension": ".py",
   "mimetype": "text/x-python",
   "name": "python",
   "nbconvert_exporter": "python",
   "pygments_lexer": "ipython3",
   "version": "3.12.12"
  }
 },
 "nbformat": 4,
 "nbformat_minor": 5
}
