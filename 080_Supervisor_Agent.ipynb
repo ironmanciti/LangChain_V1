{
 "cells": [
  {
   "cell_type": "markdown",
   "id": "ab25e2fc-ced4-4c63-b2ff-bd470eb08147",
   "metadata": {},
   "source": [
    "# 슈퍼바이저 에이전트(Supervisor Agent) 구축하기\n",
    "\n",
    "**슈퍼바이저 패턴(Supervisor Pattern)** 은 **중앙 감독 에이전트(Supervisor Agent)** 가 여러 **전문 하위 에이전트(Worker Agents)** 를 조율하는 **멀티 에이전트 아키텍처**입니다.\n",
    "\n",
    "이 접근 방식은 **서로 다른 전문 지식이 필요한 작업**을 수행할 때 특히 효과적입니다.\n",
    "즉, 하나의 에이전트가 모든 도구 선택과 작업을 처리하는 대신, 각 분야별 **전문 에이전트(specialized agent)** 를 만들고,\n",
    "**슈퍼바이저가 전체 워크플로우를 이해하고 관리**하도록 하는 구조입니다.\n",
    "\n",
    "---\n",
    "\n",
    "이 노트북에서는 이러한 장점을 보여주는 **워크플로우 기반의 개인 비서 시스템(personal assistant system)** 을 구축합니다.\n",
    "\n",
    "역할이 근본적으로 다른 두 개의 전문가 에이전트를 조율합니다.\n",
    "\n",
    "1. **캘린더 에이전트 (Calendar Agent)** : 일정 관리, 가용 시간 확인, 이벤트 생성 및 관리 담당  \n",
    "2. **이메일 에이전트 (Email Agent)** : 커뮤니케이션 관리, 메일 초안 작성, 알림 발송 담당"
   ]
  },
  {
   "cell_type": "markdown",
   "id": "bd702428-5f15-4dc9-95ed-38c6b7987ec2",
   "metadata": {},
   "source": [
    "## 왜 슈퍼바이저를 사용하는가?\n",
    "\n",
    "멀티 에이전트 아키텍처는\n",
    "**각 작업자(Worker)** 에이전트가 **자신만의 도구 세트와 프롬프트(지침)** 를 가지도록 역할을 분리(partition)할 수 있게 해줍니다.\n",
    "\n",
    "예를 들어, 하나의 에이전트가 **캘린더 API** 와 **이메일 API** 모두에 직접 접근한다고 가정해봅시다.\n",
    "이 경우 에이전트는 다음과 같은 문제를 동시에 해결해야 합니다.\n",
    "\n",
    "* 여러 개의 **유사한 도구들** 중 어떤 것을 사용할지 결정해야 하고,\n",
    "* 각 API의 **정확한 입력 형식(format)** 을 이해해야 하며,\n",
    "* 서로 다른 **도메인(일정 관리, 이메일 통신 등)** 을 동시에 처리해야 합니다.\n",
    "\n",
    "이처럼 복잡한 구조는 **성능 저하(performance degradation)** 를 초래할 수 있습니다.\n",
    "이럴 때, 관련된 도구들과 프롬프트를 **논리적 그룹(logical group)** 으로 분리하는 것이 도움이 됩니다.\n",
    "이 방식은 **유지보수 및 반복적 개선(iterative improvement)** 을 용이하게 하며,\n",
    "각 하위 에이전트를 보다 **전문화된 형태로 최적화**할 수 있게 해줍니다."
   ]
  },
  {
   "cell_type": "code",
   "execution_count": 1,
   "id": "108a5c52-c964-4976-8913-e4c16a408040",
   "metadata": {},
   "outputs": [
    {
     "data": {
      "text/plain": [
       "True"
      ]
     },
     "execution_count": 1,
     "metadata": {},
     "output_type": "execute_result"
    }
   ],
   "source": [
    "from dotenv import load_dotenv\n",
    "load_dotenv()"
   ]
  },
  {
   "cell_type": "code",
   "execution_count": 2,
   "id": "7af2fd23-041c-414c-8346-e934d7a6411f",
   "metadata": {},
   "outputs": [],
   "source": [
    "from langchain.chat_models import init_chat_model\n",
    "\n",
    "model = init_chat_model(\"gpt-5-nano\", model_provider=\"openai\")\n",
    "# model = init_chat_model(\"gemini-2.5-flash\", model_provider=\"google_genai\")"
   ]
  },
  {
   "cell_type": "markdown",
   "id": "08e2219a-6d4c-4e7a-a9e7-da98d0e3a11f",
   "metadata": {},
   "source": [
    "## 1. 도구 정의하기 (Define Tools)\n",
    "\n",
    "먼저 **구조화된 입력(Structured Input)** 이 필요한 도구들을 정의합니다.\n",
    "실제 애플리케이션에서는 이러한 도구들이 예를 들어 **Google Calendar**, **Notion** 등의 **실제 API** 를 호출하게 됩니다."
   ]
  },
  {
   "cell_type": "code",
   "execution_count": 3,
   "id": "eb067d24-86e2-4e80-abbe-2e4f06bd739e",
   "metadata": {},
   "outputs": [],
   "source": [
    "from langchain_core.tools import tool\n",
    "\n",
    "@tool\n",
    "def create_calendar_event(\n",
    "    title: str,\n",
    "    start_time: str,       # ISO 형식: \"2024-01-15T14:00:00\"\n",
    "    end_time: str,         # ISO 형식: \"2024-01-15T15:00:00\"\n",
    "    attendees: list[str],  # 참석자 이메일 주소 목록\n",
    "    location: str = \"\"\n",
    ") -> str:\n",
    "    \"\"\"캘린더 이벤트를 생성합니다. 정확한 ISO 날짜/시간 형식이 필요합니다.\"\"\"\n",
    "    # 실제로는 Google Calendar API, Outlook API 등을 호출합니다.\n",
    "    return f\"이벤트 생성 완료: {title}, {start_time} ~ {end_time}, 참석자 {len(attendees)}명\"\n",
    "\n",
    "@tool\n",
    "def send_email(\n",
    "    to: list[str],  # 수신자 이메일 주소 목록\n",
    "    subject: str,   # 이메일 제목\n",
    "    body: str,      # 이메일 본문\n",
    "    cc: list[str] = []  # 참조(CC) 이메일 주소 목록\n",
    ") -> str:\n",
    "    \"\"\"이메일 API를 통해 이메일을 전송합니다. 이메일 주소는 올바른 형식이어야 합니다.\"\"\"\n",
    "    # 실제로는 SendGrid, Gmail API 등을 호출합니다.\n",
    "    return f\"이메일 전송 완료 → 수신자: {', '.join(to)} | 제목: {subject}\"\n",
    "\n",
    "@tool\n",
    "def get_available_time_slots(\n",
    "    attendees: list[str],   # 참석자 이메일 목록\n",
    "    date: str,              # ISO 형식 날짜: \"2024-01-15\"\n",
    "    duration_minutes: int   # 회의 지속 시간(분 단위)\n",
    ") -> list[str]:\n",
    "    \"\"\"지정된 날짜에 참석자들의 가능한 시간대를 확인합니다.\"\"\"\n",
    "    # 실제로는 Google Calendar 등의 캘린더 API를 조회합니다.\n",
    "    return [\"09:00\", \"14:00\", \"16:00\"]"
   ]
  },
  {
   "cell_type": "markdown",
   "id": "63927131-24b4-44b8-be74-ec9e7f1cf496",
   "metadata": {},
   "source": [
    "## 2. 전문 하위 에이전트(Sub-Agent) 생성하기\n",
    "\n",
    "다음 단계에서는 **각 도메인별 작업을 담당하는 전문 하위 에이전트(Sub-Agent)** 를 만듭니다.\n",
    "\n",
    "**캘린더 에이전트**는 사용자의 **자연어 일정 요청(natural language scheduling requests)** 을 정확한 **API 호출로 변환**하는 역할을 합니다.\n",
    "즉, 사용자가 “내일 오후 2시에 회의 잡아줘”라고 말하면 이를 이해하고, ISO 형식의 API 호출로 변환하여 실제 일정 등록 작업을 수행합니다."
   ]
  },
  {
   "cell_type": "code",
   "execution_count": 4,
   "id": "90a02949-5d1d-41c5-bb49-141ab9fb9f76",
   "metadata": {},
   "outputs": [],
   "source": [
    "from langchain.agents import create_agent\n",
    "\n",
    "CALENDAR_AGENT_PROMPT = (\n",
    "    \"당신은 캘린더 일정 관리 도우미입니다. \"\n",
    "    \"사용자가 입력한 자연어 일정 요청(예: '다음 주 화요일 오후 2시')을 \"\n",
    "    \"정확한 ISO 날짜·시간 형식으로 변환하세요. \"\n",
    "    \"필요할 경우 get_available_time_slots 도구를 사용하여 참석자들의 가용 시간을 확인하고, \"\n",
    "    \"create_calendar_event 도구를 사용해 일정을 등록하세요. \"\n",
    "    \"마지막 응답에서는 반드시 어떤 일정이 등록되었는지 명확히 확인시켜 주세요.\"\n",
    ")\n",
    "\n",
    "calendar_agent = create_agent(\n",
    "    model,\n",
    "    tools=[create_calendar_event, get_available_time_slots],  # 사용할 도구 목록\n",
    "    system_prompt=CALENDAR_AGENT_PROMPT,  # 에이전트의 역할 및 지침을 정의하는 시스템 프롬프트\n",
    ")"
   ]
  },
  {
   "cell_type": "markdown",
   "id": "250bc144-ea5e-46f3-aa23-2ecf3d6513b3",
   "metadata": {},
   "source": [
    "- `calendar_agent` test"
   ]
  },
  {
   "cell_type": "code",
   "execution_count": 5,
   "id": "92d75c7a-4a2e-4a0a-9793-daf9af679ca8",
   "metadata": {},
   "outputs": [
    {
     "name": "stdout",
     "output_type": "stream",
     "text": [
      "==================================\u001b[1m Ai Message \u001b[0m==================================\n",
      "\n",
      "다음과 같이 해석했습니다:\n",
      "- 제목: 팀 회의\n",
      "- 일시(ISO): 2025-11-04T14:00:00+09:00 ~ 2025-11-04T15:00:00+09:00\n",
      "  - “다음 주 화요일”은 2025-11-04로 해석했고, 시간대는 Asia/Seoul(UTC+9)로 가정했습니다.\n",
      "\n",
      "등록을 위해 아래 정보 확인/추가 부탁드립니다:\n",
      "1) 참석자 이메일 주소(예: a@company.com, b@company.com). 팀 메일링 리스트가 있으면 그걸로도 가능해요.\n",
      "2) 시간대가 Asia/Seoul이 맞나요?\n",
      "3) 장소 또는 화상회의 링크가 있나요?\n",
      "4) 참석자들의 가용 시간 확인 후 빈 시간대로 잡을까요? 원하시면 확인해드릴게요(60분).\n"
     ]
    }
   ],
   "source": [
    "query = \"다음 주 화요일 오후 2시에 1시간 동안 팀 회의를 일정에 추가해줘\"\n",
    "\n",
    "# 캘린더 에이전트를 스트리밍 모드로 실행\n",
    "for step in calendar_agent.stream(\n",
    "    {\"messages\": [{\"role\": \"user\", \"content\": query}]}\n",
    "):\n",
    "    # 각 단계(step)의 업데이트 내용을 순회\n",
    "    for update in step.values():\n",
    "        # 메시지가 존재할 경우 메시지들을 출력\n",
    "        for message in update.get(\"messages\", []):\n",
    "            message.pretty_print()"
   ]
  },
  {
   "cell_type": "markdown",
   "id": "3526e817-8681-4f48-b26a-d8d819999b6a",
   "metadata": {},
   "source": [
    "-------------------\n",
    "**이메일 에이전트**는 메시지 작성 및 전송을 담당합니다.  \n",
    "사용자가 “팀에게 회의 일정 공유 이메일 보내줘”라고 말하면, 이메일 에이전트는 수신자 목록을 추출하고, 자연스러운 제목과 내용을 자동으로 생성하여\n",
    "**이메일 발송 프로세스 전체를 관리**합니다."
   ]
  },
  {
   "cell_type": "code",
   "execution_count": 6,
   "id": "987d4962-2faa-4e3b-90f6-42805f938978",
   "metadata": {},
   "outputs": [],
   "source": [
    "EMAIL_AGENT_PROMPT = (\n",
    "    \"당신은 이메일 작성 도우미입니다. \"\n",
    "    \"사용자의 자연어 요청을 바탕으로 전문적인 이메일을 작성하세요. \"\n",
    "    \"수신자 정보를 추출하고, 적절한 제목과 본문을 구성하세요. \"\n",
    "    \"send_email 도구를 사용하여 메시지를 전송하세요. \"\n",
    "    \"마지막 응답에서는 반드시 어떤 이메일이 발송되었는지 명확히 확인시켜 주세요.\"\n",
    ")\n",
    "\n",
    "email_agent = create_agent(\n",
    "    model,\n",
    "    tools=[send_email],              # 이메일 전송 도구 연결\n",
    "    system_prompt=EMAIL_AGENT_PROMPT # 에이전트의 역할과 동작 지침을 정의하는 시스템 프롬프트\n",
    ")"
   ]
  },
  {
   "cell_type": "markdown",
   "id": "13bf240c-7703-413a-b8eb-db382c65bc37",
   "metadata": {},
   "source": [
    "- email_agent test"
   ]
  },
  {
   "cell_type": "code",
   "execution_count": 7,
   "id": "3ec4ef41-47cb-4bd0-a471-dfe3f0bdf465",
   "metadata": {},
   "outputs": [
    {
     "name": "stdout",
     "output_type": "stream",
     "text": [
      "==================================\u001b[1m Ai Message \u001b[0m==================================\n",
      "\n",
      "좋습니다. 바로 보내기 전에 몇 가지 정보가 필요해요:\n",
      "\n",
      "- 받는 사람 이메일 주소(디자인 팀): \n",
      "- CC할 사람(있다면): \n",
      "- 검토 마감일: \n",
      "- 목업 링크나 첨부 파일 유무(링크/파일명): \n",
      "- 메일 톤(정중/캐주얼)과 제목 선호(있다면): \n",
      "\n",
      "아래와 같은 초안으로 보내드리면 될까요? 확인 후 수신자 정보와 함께 “보내기”라고 알려주시면 즉시 발송하겠습니다.\n",
      "\n",
      "제목: [리마인더] 새로운 목업 검토 요청 (마감: YYYY-MM-DD)\n",
      "\n",
      "본문:\n",
      "안녕하세요, 디자인 팀 여러분.\n",
      "\n",
      "지난주 공유드린 새로운 목업에 대한 검토를 부탁드립니다. 원활한 일정 진행을 위해 아래 일정까지 피드백을 회신해 주시면 감사하겠습니다.\n",
      "\n",
      "- 검토 대상: [프로젝트/화면명 요약]\n",
      "- 목업 링크: [링크]\n",
      "- 요청 사항: 기능 흐름, 시각적 일관성, 반응형 대응, 접근성 체크\n",
      "- 피드백 마감: YYYY-MM-DD(요일) EOD\n",
      "- 회신 방식: 본 메일 회신 또는 [협업툴/보드명] 코멘트\n",
      "\n",
      "추가 논의가 필요하시면 간단한 싱크 미팅도 잡겠습니다. 확인과 검토에 미리 감사드립니다.\n",
      "\n",
      "감사합니다.\n",
      "[보내는 사람 이름/직책]\n",
      "[연락처]\n"
     ]
    }
   ],
   "source": [
    "query = \"디자인 팀에게 새로운 프로토타입 검토에 대한 리마인더 메일을 보내줘\"\n",
    "\n",
    "# 이메일 에이전트를 스트리밍 모드로 실행\n",
    "for step in email_agent.stream(\n",
    "    {\"messages\": [{\"role\": \"user\", \"content\": query}]}\n",
    "):\n",
    "    # 각 단계(step)의 업데이트 내용을 순회\n",
    "    for update in step.values():\n",
    "        # 메시지가 존재할 경우 메시지들을 출력\n",
    "        for message in update.get(\"messages\", []):\n",
    "            message.pretty_print()"
   ]
  },
  {
   "cell_type": "markdown",
   "id": "9b280312-998c-45a7-8033-03ebfac320ec",
   "metadata": {},
   "source": [
    "## 3. 하위 에이전트를 도구로 감싸기 \n",
    "\n",
    "이제 각 **하위 에이전트(Sub-Agent)** 를 **슈퍼바이저(Supervisor)** 가 호출할 수 있는 **도구(Tool)** 형태로 감쌉니다.  \n",
    "이 단계가 바로 **계층형 시스템(layered system)** 을 만드는 핵심 아키텍처 단계입니다.  \n",
    "\n",
    "슈퍼바이저는 더 이상 세부적인 하위 함수(`create_calendar_event` 등)를 직접 호출하지 않습니다.  \n",
    "대신, **고수준 도구(high-level tools)** — 예를 들어 `\"schedule_event\"` 또는 `\"send_email\"` 과 같은 추상화된 명령을 사용할 수 있습니다."
   ]
  },
  {
   "cell_type": "code",
   "execution_count": 8,
   "id": "a30706ec-a48b-4f11-ac2c-56f288391378",
   "metadata": {},
   "outputs": [],
   "source": [
    "@tool\n",
    "def schedule_event(request: str) -> str:\n",
    "    \"\"\"자연어 요청을 기반으로 캘린더 이벤트를 예약합니다.\n",
    "\n",
    "    사용자가 일정(예: 회의, 약속 등)을 생성하거나 수정하거나\n",
    "    확인하고자 할 때 이 도구를 사용하세요.\n",
    "    날짜/시간 파싱, 가용 시간 확인, 이벤트 생성을 자동으로 처리합니다.\n",
    "\n",
    "    입력값: 자연어 일정 요청 (예: '다음 주 화요일 오후 2시에 디자인 팀과 회의 잡아줘')\n",
    "    \"\"\"\n",
    "    result = calendar_agent.invoke({\n",
    "        \"messages\": [{\"role\": \"user\", \"content\": request}]\n",
    "    })\n",
    "    return result[\"messages\"][-1].text\n",
    "\n",
    "\n",
    "@tool\n",
    "def manage_email(request: str) -> str:\n",
    "    \"\"\"자연어 요청을 기반으로 이메일을 전송합니다.\n",
    "\n",
    "    사용자가 알림, 리마인더 또는 일반 이메일 커뮤니케이션을\n",
    "    전송하고자 할 때 이 도구를 사용하세요.\n",
    "    수신자 추출, 제목 생성, 이메일 본문 작성 과정을 자동으로 처리합니다.\n",
    "\n",
    "    입력값: 자연어 이메일 요청 (예: '회의에 대해 리마인더 이메일 보내줘')\n",
    "    \"\"\"\n",
    "    result = email_agent.invoke({\n",
    "        \"messages\": [{\"role\": \"user\", \"content\": request}]\n",
    "    })\n",
    "    return result[\"messages\"][-1].text"
   ]
  },
  {
   "cell_type": "markdown",
   "id": "aa1407a2-c379-4fc6-b3eb-f23a4cbea5cd",
   "metadata": {},
   "source": [
    "도구의 **설명(Description)** 은 슈퍼바이저가 **언제 어떤 도구를 사용할지 결정**하는 데 도움을 줍니다.\n",
    "따라서 설명은 **명확하고 구체적**이어야 합니다.\n",
    "\n",
    "또한, 하위 에이전트의 실행 결과 중에서 **최종 응답(final response)** 만 반환하도록 해야 합니다.\n",
    "슈퍼바이저는 하위 에이전트의 **중간 추론(reasoning)** 이나 **도구 호출 과정(tool calls)** 을 볼 필요가 없기 때문입니다.\n",
    "\n",
    "---\n",
    "\n",
    "## 4. 슈퍼바이저 에이전트 생성하기\n",
    "\n",
    "이제 여러 하위 에이전트를 **조율(orchestrate)** 하는 **슈퍼바이저(Supervisor Agent)** 를 만듭니다.\n",
    "\n",
    "슈퍼바이저는 다음과 같은 방식으로 작동합니다.\n",
    "\n",
    "* 하위 에이전트들이 제공하는 **고수준 도구(high-level tools)** 만 인식합니다.\n",
    "* **도메인 단위(domain-level)** 에서 라우팅 결정을 내리며, 세부적인 API 호출 수준의 작업은 직접 다루지 않습니다."
   ]
  },
  {
   "cell_type": "code",
   "execution_count": 9,
   "id": "ab5d4ac9-0a8b-4325-b64e-9d0d2fa565e8",
   "metadata": {},
   "outputs": [
    {
     "data": {
      "image/png": "[encoded data removed]",
      "text/plain": [
       "<langgraph.graph.state.CompiledStateGraph object at 0x00000284D7AFF110>"
      ]
     },
     "execution_count": 9,
     "metadata": {},
     "output_type": "execute_result"
    }
   ],
   "source": [
    "SUPERVISOR_PROMPT = (\n",
    "    \"당신은 친절한 개인 비서입니다. \"\n",
    "    \"캘린더 일정을 등록하고 이메일을 보낼 수 있습니다. \"\n",
    "    \"사용자의 요청을 적절한 도구 호출로 분해하고, 그 결과를 조율하세요. \"\n",
    "    \"요청에 여러 작업이 포함되어 있다면, 여러 도구를 순차적으로 사용하세요.\"\n",
    ")\n",
    "\n",
    "supervisor_agent = create_agent(\n",
    "    model,\n",
    "    tools=[schedule_event, manage_email],   # 슈퍼바이저가 사용할 상위 도구 목록\n",
    "    system_prompt=SUPERVISOR_PROMPT,       # 에이전트의 역할과 행동 지침을 정의하는 시스템 프롬프트\n",
    ")\n",
    "supervisor_agent"
   ]
  },
  {
   "cell_type": "markdown",
   "id": "8af9cbb5-d368-47c9-8669-ed6c0ec7595a",
   "metadata": {},
   "source": [
    "## 5. Supervisor 사용\n",
    "여러 도메인 간 조율이 필요한 복합 요청으로 완성된 시스템 테스트\n",
    "\n",
    "### 예시 1: 단일 도메인 요청 (Simple Single-Domain Request)\n",
    "- 일정 관리(Calendar) 도메인만 포함 → schedule_event 도구만 사용"
   ]
  },
  {
   "cell_type": "code",
   "execution_count": 10,
   "id": "f21e0623-2006-4613-9ede-21507cc6415c",
   "metadata": {},
   "outputs": [
    {
     "name": "stdout",
     "output_type": "stream",
     "text": [
      "==================================\u001b[1m Ai Message \u001b[0m==================================\n",
      "Tool Calls:\n",
      "  schedule_event (call_pwb9bEIanOen4Zzvhu8OEOUW)\n",
      " Call ID: call_pwb9bEIanOen4Zzvhu8OEOUW\n",
      "  Args:\n",
      "    request: 내일 오전 9시에 팀 스탠드업 미팅을 일정에 추가해줘\n",
      "=================================\u001b[1m Tool Message \u001b[0m=================================\n",
      "Name: schedule_event\n",
      "\n",
      "다음 일정으로 등록했습니다.\n",
      "- 제목: 팀 스탠드업 미팅\n",
      "- 시간: 2025-10-29T09:00:00 ~ 2025-10-29T09:15:00\n",
      "- 참석자: 없음\n",
      "- 장소: 미지정\n",
      "\n",
      "참석자를 추가하거나 시간/기간을 변경할까요?\n",
      "==================================\u001b[1m Ai Message \u001b[0m==================================\n",
      "\n",
      "일정을 추가했어요.\n",
      "- 제목: 팀 스탠드업 미팅\n",
      "- 시간: 10월 29일(수) 오전 9:00–9:15\n",
      "- 참석자: 없음\n",
      "- 장소: 미정\n",
      "\n",
      "참석자 추가, 화상 회의 링크(예: Google Meet) 첨부, 알림 설정, 또는 평일 반복으로 설정할까요?\n"
     ]
    }
   ],
   "source": [
    "query = \"내일 오전 9시에 팀 스탠드업 미팅을 일정에 추가해줘\"\n",
    "\n",
    "# 슈퍼바이저 에이전트를 스트리밍 모드로 실행\n",
    "for step in supervisor_agent.stream(\n",
    "    {\"messages\": [{\"role\": \"user\", \"content\": query}]}\n",
    "):\n",
    "    # 각 단계(step)의 업데이트 내용을 순회\n",
    "    for update in step.values():\n",
    "        # 메시지가 존재할 경우 메시지들을 출력\n",
    "        for message in update.get(\"messages\", []):\n",
    "            message.pretty_print()"
   ]
  },
  {
   "cell_type": "markdown",
   "id": "93a1dcc2-c648-484c-9d5f-d531ce3ffd8b",
   "metadata": {},
   "source": [
    "-----------------\n",
    "### 예시 2: 복합 다중 도메인 요청 (Complex Multi-Domain Request)\n",
    "\n",
    "- 두 개의 도메인 작업이 결합\n",
    "    - 일정 관리 (Calendar)\n",
    "    - 이메일 발송 (Email)\n",
    "\n",
    "Supervisor가 2개의 도구를 순차적으로 호출해야 함: schedule_event → manage_email"
   ]
  },
  {
   "cell_type": "code",
   "execution_count": 11,
   "id": "7dcc5d6d-4cb4-4f81-97c7-22ab9e4e468b",
   "metadata": {},
   "outputs": [
    {
     "name": "stdout",
     "output_type": "stream",
     "text": [
      "==================================\u001b[1m Ai Message \u001b[0m==================================\n",
      "Tool Calls:\n",
      "  schedule_event (call_mIkGwkrFnp9D0bwTpszaylDE)\n",
      " Call ID: call_mIkGwkrFnp9D0bwTpszaylDE\n",
      "  Args:\n",
      "    request: 다음 주 화요일 오후 2시에 디자인 팀과 1시간짜리 회의 잡아줘. 회의 제목은 '새로운 목업 검토'로 해줘. 설명에 주요 안건: 새로운 목업 검토라고 적어줘.\n",
      "  manage_email (call_hSlsmSiZcCQ2hhA1ElMZTnP0)\n",
      " Call ID: call_hSlsmSiZcCQ2hhA1ElMZTnP0\n",
      "  Args:\n",
      "    request: 디자인 팀에게 새로운 목업 검토에 대한 리마인더 이메일을 보내줘. 다음 주 화요일 오후 2시에 1시간짜리 회의가 예정되어 있다고 안내하고, 사전에 확인해야 할 목업 링크나 관련 자료가 있으면 미리 공유해달라고 요청해줘. 회의 세부정보(일시, 제목)를 본문에 명확히 포함해줘.\n",
      "=================================\u001b[1m Tool Message \u001b[0m=================================\n",
      "Name: manage_email\n",
      "\n",
      "보낼 이메일 초안을 준비했습니다. 수신자 이메일 주소(예: design-team@회사도메인.com)와 CC 대상이 있으면 알려주세요. 서명에 넣을 발신자명/직책도 함께 알려주시면 반영하겠습니다.\n",
      "\n",
      "[제목]\n",
      "리마인더: 새로운 목업 검토 회의 — 11월 4일(화) 오후 2:00–3:00\n",
      "\n",
      "[본문]\n",
      "디자인 팀 여러분께,\n",
      "\n",
      "새로운 목업 검토 관련하여 리마인더 드립니다.\n",
      "\n",
      "회의 세부정보\n",
      "- 제목: 새로운 목업 검토 미팅\n",
      "- 일시: 2025년 11월 4일(화) 오후 2:00–3:00 (1시간)\n",
      "\n",
      "사전에 확인이 필요한 목업 링크나 관련 자료가 있으시면, 원활한 논의를 위해 회의 전에 미리 공유 부탁드립니다.\n",
      "\n",
      "감사합니다.\n",
      "[보내는 분 이름]\n",
      "\n",
      "확인해 주시면 곧바로 발송하고, 어떤 이메일이 발송되었는지 상세히 안내드리겠습니다.\n",
      "=================================\u001b[1m Tool Message \u001b[0m=================================\n",
      "Name: schedule_event\n",
      "\n",
      "다음 주 화요일은 2025-11-04입니다. 요청하신 일정은 아래와 같이 이해했어요.\n",
      "- 시간: 2025-11-04T14:00:00 ~ 2025-11-04T15:00:00\n",
      "- 제목: 새로운 목업 검토\n",
      "- 참석자: 디자인 팀\n",
      "- 설명: “주요 안건: 새로운 목업 검토”\n",
      "\n",
      "일정 생성을 위해 아래 두 가지를 확인해 주세요.\n",
      "1) 참석자 이메일(개별 주소 목록 또는 팀/그룹 메일 주소)\n",
      "2) 사용하시는 시간대: Asia/Seoul(UTC+09:00)로 생성해도 될까요? 다른 타임존이면 알려주세요.\n",
      "\n",
      "또한 현재 캘린더 도구에서는 설명 필드를 직접 입력할 수 없습니다. 원하시면 제목에 “— 주요 안건: 새로운 목업 검토”를 덧붙여 생성할 수 있는데, 괜찮으실까요? 아니면 설명 없이 제목만으로 생성할까요?\n",
      "\n",
      "원하시면 참석자들의 가용 시간을 먼저 확인한 뒤 예약해 드릴 수도 있습니다. 어떻게 진행할지 알려주세요!\n",
      "==================================\u001b[1m Ai Message \u001b[0m==================================\n",
      "\n",
      "알겠습니다! 요청하신 일정과 이메일 진행을 위해 몇 가지 확인이 필요합니다.\n",
      "\n",
      "일정 개요\n",
      "- 일시: 2025년 11월 4일(화) 오후 2:00–3:00\n",
      "- 제목: 새로운 목업 검토\n",
      "\n",
      "확인 필요 사항\n",
      "1) 참석자 이메일: 디자인 팀 메일링 리스트 주소나 개별 이메일을 알려주세요.\n",
      "2) 시간대: Asia/Seoul(UTC+09:00)로 생성해도 될까요? 다른 시간대면 알려주세요.\n",
      "3) 장소/회의 방식: 회의실(오프라인) 또는 Zoom/Google Meet 링크 등 원하는 방식을 알려주세요. 링크가 있다면 전달해주세요.\n",
      "4) 캘린더 설명 처리: 현재 설명 필드를 직접 넣기 어려워, 제목에 “— 주요 안건: 새로운 목업 검토”를 덧붙여 생성할까요, 아니면 제목만으로 생성할까요?\n",
      "5) 참석자 가용 시간 확인: 먼저 가용 시간을 확인한 뒤 확정할까요, 아니면 바로 해당 시간으로 예약할까요?\n",
      "\n",
      "리마인더 이메일\n",
      "- 수신자: 디자인 팀 이메일 주소(및 개별 주소)와 CC 대상이 있다면 알려주세요.\n",
      "- 발신자 표기: 이메일 서명에 넣을 이름/직책을 알려주세요.\n",
      "- 첨부/링크: 사전에 공유할 목업 링크나 관련 자료가 있다면 전달해 주세요(본문에 포함해 드립니다).\n",
      "\n",
      "준비된 이메일 초안(요지)\n",
      "- 제목: 리마인더: 새로운 목업 검토 회의 — 11월 4일(화) 오후 2:00–3:00\n",
      "- 본문: 회의 일정 안내 및 사전 확인이 필요한 목업 링크/자료 공유 요청\n",
      "\n",
      "위 항목들만 알려주시면 바로 일정 생성과 이메일 발송까지 진행하겠습니다.\n"
     ]
    }
   ],
   "source": [
    "query = (\n",
    "    \"다음 주 화요일 오후 2시에 디자인 팀과 1시간짜리 회의를 잡고, \"\n",
    "    \"새로운 목업 검토에 대한 리마인더 이메일을 함께 보내줘.\"\n",
    ")\n",
    "\n",
    "# 슈퍼바이저 에이전트를 스트리밍 모드로 실행\n",
    "for step in supervisor_agent.stream(\n",
    "    {\"messages\": [{\"role\": \"user\", \"content\": query}]}\n",
    "):\n",
    "    # 각 단계(step)의 업데이트 내용을 순회\n",
    "    for update in step.values():\n",
    "        # 메시지가 존재할 경우 메시지들을 출력\n",
    "        for message in update.get(\"messages\", []):\n",
    "            message.pretty_print()"
   ]
  },
  {
   "cell_type": "markdown",
   "id": "8852c8de-65c1-48ae-8a8c-0706cd74899e",
   "metadata": {},
   "source": [
    "-------------------\n",
    "### 아키텍처 이해하기 \n",
    "\n",
    "이 시스템은 **3계층 구조(three-layer architecture)** 로 이루어져 있습니다.\n",
    "\n",
    "1. 하위 계층 (Bottom Layer)\n",
    "\n",
    "* **정확한 형식(exact formats)** 을 요구하는 **고정형 API 도구(rigid API tools)** 로 구성됩니다.\n",
    "* 예: `create_calendar_event`, `send_email` 등\n",
    "* 이 계층은 실제 외부 서비스(API)와 직접 상호작용합니다.\n",
    "\n",
    "2. 중간 계층 (Middle Layer)\n",
    "\n",
    "* **하위 에이전트(Sub-Agents)** 가 존재하는 계층입니다.\n",
    "* 사용자의 **자연어 입력(natural language)** 을 받아\n",
    "  이를 **구조화된 API 호출(Structured API Calls)** 로 변환한 뒤,\n",
    "  다시 **자연어 응답(natural language confirmations)** 형태로 반환합니다.\n",
    "* 예: `calendar_agent`, `email_agent`\n",
    "\n",
    "3. 상위 계층 (Top Layer)\n",
    "\n",
    "* **슈퍼바이저(Supervisor Agent)** 가 위치한 계층입니다.\n",
    "* 하위 에이전트들을 조율하며, **고수준 명령(high-level capabilities)** 을 인식하고\n",
    "  각 도메인별로 요청을 **라우팅(routing)** 합니다.\n",
    "* 또한 여러 하위 작업의 결과를 **통합(synthesize)** 하여 사용자에게 제공합니다."
   ]
  },
  {
   "cell_type": "code",
   "execution_count": null,
   "id": "718ee089-db32-4a8b-b9ab-624e674a9118",
   "metadata": {},
   "outputs": [],
   "source": []
  }
 ],
 "metadata": {
  "kernelspec": {
   "display_name": "Python 3 (ipykernel)",
   "language": "python",
   "name": "python3"
  },
  "language_info": {
   "codemirror_mode": {
    "name": "ipython",
    "version": 3
   },
   "file_extension": ".py",
   "mimetype": "text/x-python",
   "name": "python",
   "nbconvert_exporter": "python",
   "pygments_lexer": "ipython3",
   "version": "3.13.7"
  }
 },
 "nbformat": 4,
 "nbformat_minor": 5
}
