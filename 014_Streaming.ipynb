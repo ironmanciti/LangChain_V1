{
 "cells": [
  {
   "cell_type": "markdown",
   "id": "ab315db5-68d3-4fd4-8a3c-f44c40ddf4e3",
   "metadata": {},
   "source": [
    "# 스트리밍 (Streaming)\n",
    "\n",
    "LangChain의 **스트리밍 시스템(Streaming system)** 은\n",
    "에이전트 실행(agent run) 중 발생하는 **실시간 피드백(live feedback)** 을\n",
    "애플리케이션으로 직접 전달할 수 있게 해줍니다.\n",
    "\n",
    "스트리밍을 사용하면 **전체 응답이 완성되기 전에** 부분적으로 결과를 점진적으로 표시할 수 있습니다.\n",
    "이를 통해 **LLM의 지연(latency)** 으로 인한 대기 시간을 줄이고,\n",
    "사용자에게 더 빠르고 자연스러운 **실시간 인터랙션 경험(UX)** 을 제공합니다.\n",
    "\n",
    "### LangChain 스트리밍으로 가능한 기능들\n",
    "\n",
    "* **에이전트 진행 상황 스트리밍 (Stream agent progress)**\n",
    "  → 각 에이전트 단계가 끝날 때마다 상태 업데이트(state update)를 수신할 수 있습니다.\n",
    "\n",
    "* **LLM 토큰 스트리밍 (Stream LLM tokens)**\n",
    "  → 언어 모델이 토큰을 생성할 때마다, 생성되는 즉시 스트리밍으로 받아볼 수 있습니다.\n",
    "\n",
    "* **사용자 정의 업데이트 스트리밍 (Stream custom updates)**\n",
    "  → 예를 들어 `\"100개 중 10개 레코드 가져옴\"` 같은\n",
    "  사용자 정의 신호(user-defined signals)를 실시간으로 전송할 수 있습니다.\n",
    "\n",
    "* **다중 모드 스트리밍 (Stream multiple modes)**\n",
    "  → 다음과 같은 모드 중 선택적으로 사용할 수 있습니다:\n",
    "\n",
    "  1. **updates** – 에이전트 진행 상황 중심의 업데이트\n",
    "  2. **messages** – LLM 토큰 및 관련 메타데이터\n",
    "  3. **custom** – 임의의 사용자 정의 데이터 (예: 로그, 상태 메시지 등)\n",
    "  4. **values** - LLM의 최종 응답 객체들을 순서대로 반환"
   ]
  },
  {
   "cell_type": "code",
   "execution_count": 1,
   "id": "ea940a01-4f35-4b2d-9ed5-d6e517e4ca8c",
   "metadata": {},
   "outputs": [
    {
     "data": {
      "text/plain": [
       "True"
      ]
     },
     "execution_count": 1,
     "metadata": {},
     "output_type": "execute_result"
    }
   ],
   "source": [
    "from dotenv import load_dotenv\n",
    "\n",
    "load_dotenv()"
   ]
  },
  {
   "cell_type": "code",
   "execution_count": 2,
   "id": "8301d848-a46b-4c48-b379-b9760e4f948c",
   "metadata": {},
   "outputs": [],
   "source": [
    "from langchain.chat_models import init_chat_model\n",
    "\n",
    "# model = init_chat_model(\"gpt-5-nano\", model_provider=\"openai\")\n",
    "model = init_chat_model(\"gemini-2.5-flash\", model_provider=\"google_genai\")"
   ]
  },
  {
   "cell_type": "markdown",
   "id": "2f072af9-de89-43f2-aed8-2bef1f0a29f0",
   "metadata": {},
   "source": [
    "### 에이전트 진행 상황 스트리밍 (Stream agent progress)\n",
    "각 에이전트 단계가 끝날 때마다 상태 업데이트(state update)를 수신할 수 있습니다."
   ]
  },
  {
   "cell_type": "code",
   "execution_count": 3,
   "id": "78c73b44-2a6b-47a0-9728-ee78ed76c0aa",
   "metadata": {},
   "outputs": [
    {
     "name": "stdout",
     "output_type": "stream",
     "text": [
      "단계(step): model\n",
      "내용(content): [{'type': 'tool_call', 'id': '382ab5fe-434f-4df6-8043-d8b904d0dbb8', 'name': 'get_weather', 'args': {'city': 'San Francisco'}}]\n",
      "단계(step): tools\n",
      "내용(content): [{'type': 'text', 'text': 'San Francisco의 날씨는 언제나 맑습니다!'}]\n",
      "단계(step): model\n",
      "내용(content): [{'type': 'text', 'text': '샌프란시스코의 날씨는 언제나 맑습니다!'}]\n"
     ]
    }
   ],
   "source": [
    "from langchain.agents import create_agent\n",
    "\n",
    "def get_weather(city: str) -> str:\n",
    "    \"\"\"특정 도시의 날씨를 가져옵니다.\"\"\"\n",
    "    return f\"{city}의 날씨는 언제나 맑습니다!\"\n",
    "\n",
    "# 에이전트 생성\n",
    "agent = create_agent(\n",
    "    model=model,  # 사용할 모델 지정\n",
    "    tools=[get_weather],        # 사용할 도구(함수) 등록\n",
    ")\n",
    "\n",
    "# 스트리밍 실행\n",
    "for chunk in agent.stream(  \n",
    "    {\"messages\": [{\"role\": \"user\", \"content\": \"SF(샌프란시스코)의 날씨는 어때?\"}]},\n",
    "    stream_mode=\"updates\",  # 스트리밍 모드를 'updates'(단계별 진행 상황)로 설정\n",
    "):\n",
    "    for step, data in chunk.items():\n",
    "        print(f\"단계(step): {step}\")\n",
    "        print(f\"내용(content): {data['messages'][-1].content_blocks}\")"
   ]
  },
  {
   "cell_type": "markdown",
   "id": "ff26ba62-7958-4b69-bbde-6a8d581ffbbe",
   "metadata": {},
   "source": [
    "### LLM 토큰 (LLM tokens)\n",
    "\n",
    "LLM이 **토큰을 생성하는 즉시 실시간으로 스트리밍**하려면\n",
    "`stream_mode=\"messages\"` 옵션을 사용하면 됩니다.\n",
    "\n",
    "이 모드를 사용하면, **에이전트가 실행 중 호출하는 도구(tool)들의 스트리밍 출력**과\n",
    "**최종 응답(final response)** 을 모두 실시간으로 확인할 수 있습니다."
   ]
  },
  {
   "cell_type": "code",
   "execution_count": 4,
   "id": "c51bf05e-8c74-4290-a331-dae860f189cf",
   "metadata": {},
   "outputs": [
    {
     "name": "stdout",
     "output_type": "stream",
     "text": [
      "노드(node): model\n",
      "내용(content): [{'type': 'tool_call', 'id': '8db27d81-e934-4379-8b25-75780a0e85f5', 'name': 'get_weather', 'args': {'city': 'San Francisco'}}]\n",
      "\n",
      "\n",
      "노드(node): model\n",
      "내용(content): []\n",
      "\n",
      "\n",
      "노드(node): tools\n",
      "내용(content): [{'type': 'text', 'text': 'San Francisco의 날씨는 언제나 맑습니다!'}]\n",
      "\n",
      "\n",
      "노드(node): model\n",
      "내용(content): [{'type': 'text', 'text': '샌프란시'}]\n",
      "\n",
      "\n",
      "노드(node): model\n",
      "내용(content): [{'type': 'text', 'text': '스코의 날씨는 언제나 맑습니다!\\n'}]\n",
      "\n",
      "\n",
      "노드(node): model\n",
      "내용(content): []\n",
      "\n",
      "\n"
     ]
    }
   ],
   "source": [
    "from langchain.agents import create_agent\n",
    "\n",
    "def get_weather(city: str) -> str:\n",
    "    \"\"\"특정 도시의 날씨를 가져옵니다.\"\"\"\n",
    "    return f\"{city}의 날씨는 언제나 맑습니다!\"\n",
    "\n",
    "# 에이전트 생성\n",
    "agent = create_agent(\n",
    "    model=model,  # 사용할 언어 모델 지정\n",
    "    tools=[get_weather],        # 사용할 도구(함수) 등록\n",
    ")\n",
    "\n",
    "# LLM이 토큰을 생성할 때마다 실시간으로 스트리밍 받기\n",
    "for token, metadata in agent.stream(  \n",
    "    {\"messages\": [{\"role\": \"user\", \"content\": \"SF(샌프란시스코)의 날씨는 어때?\"}]},\n",
    "    stream_mode=\"messages\",  # 'messages' 모드: LLM 토큰 스트리밍\n",
    "):\n",
    "    print(f\"노드(node): {metadata['langgraph_node']}\")     # 현재 실행 중인 LangGraph 노드 이름\n",
    "    print(f\"내용(content): {token.content_blocks}\")       # 실시간으로 생성되는 텍스트 블록(토큰)\n",
    "    print(\"\\n\")"
   ]
  },
  {
   "cell_type": "markdown",
   "id": "0e7fe780-dce0-4606-b890-da64896e7af3",
   "metadata": {},
   "source": [
    "### 사용자 정의 업데이트 (Custom updates)\n",
    "\n",
    "도구(tool)가 실행되는 동안 실시간으로 상태 업데이트를 스트리밍(streaming) 하려면\n",
    "`get_stream_writer`를 사용할 수 있습니다.\n",
    "\n",
    "즉, 도구가 실행되는 과정에서 중간 진행 상황이나 결과를 실시간으로 전송할 수 있게 하는 기능입니다.\n",
    "이 기능을 사용하면, 모델의 최종 응답을 기다리지 않고도 사용자는 즉시 진행 상태를 확인할 수 있습니다."
   ]
  },
  {
   "cell_type": "code",
   "execution_count": 5,
   "id": "ece5567a-02f1-4e71-9e72-d7d5a6567911",
   "metadata": {},
   "outputs": [
    {
     "name": "stdout",
     "output_type": "stream",
     "text": [
      "('updates', {'model': {'messages': [AIMessage(content='', additional_kwargs={'function_call': {'name': 'get_weather', 'arguments': '{\"city\": \"San Francisco\"}'}}, response_metadata={'prompt_feedback': {'block_reason': 0, 'safety_ratings': []}, 'finish_reason': 'STOP', 'model_name': 'gemini-2.5-flash', 'safety_ratings': [], 'grounding_metadata': {}, 'model_provider': 'google_genai'}, id='lc_run--09b061a7-87ac-4c77-97d6-9e2b811a3981-0', tool_calls=[{'name': 'get_weather', 'args': {'city': 'San Francisco'}, 'id': '9b543783-0fc7-4b36-aaad-4e9e4eed2775', 'type': 'tool_call'}], usage_metadata={'input_tokens': 56, 'output_tokens': 69, 'total_tokens': 125, 'input_token_details': {'cache_read': 0}, 'output_token_details': {'reasoning': 53}})]}})\n",
      "('custom', '도시 San Francisco의 데이터를 조회 중입니다...')\n",
      "('custom', '도시 San Francisco의 데이터를 성공적으로 가져왔습니다.')\n",
      "('updates', {'tools': {'messages': [ToolMessage(content='San Francisco의 날씨는 언제나 맑습니다!', name='get_weather', id='303d7835-792c-4de5-8d60-dbcb00df66a3', tool_call_id='9b543783-0fc7-4b36-aaad-4e9e4eed2775')]}})\n",
      "('updates', {'model': {'messages': [AIMessage(content='샌프란시스코의 날씨는 언제나 맑습니다!', additional_kwargs={}, response_metadata={'prompt_feedback': {'block_reason': 0, 'safety_ratings': []}, 'finish_reason': 'STOP', 'model_name': 'gemini-2.5-flash', 'safety_ratings': [], 'grounding_metadata': {}, 'model_provider': 'google_genai'}, id='lc_run--24d9c4ca-d466-45c3-a977-43c890e7fd0f-0', usage_metadata={'input_tokens': 98, 'output_tokens': 15, 'total_tokens': 113, 'input_token_details': {'cache_read': 0}})]}})\n"
     ]
    }
   ],
   "source": [
    "from langchain.agents import create_agent\n",
    "from langgraph.config import get_stream_writer  \n",
    "\n",
    "def get_weather(city: str) -> str:\n",
    "    \"\"\"주어진 도시의 날씨를 가져옵니다.\"\"\"\n",
    "    writer = get_stream_writer()  # 스트리밍 writer 생성\n",
    "    # 임의의 데이터를 스트리밍 방식으로 출력\n",
    "    writer(f\"도시 {city}의 데이터를 조회 중입니다...\")\n",
    "    writer(f\"도시 {city}의 데이터를 성공적으로 가져왔습니다.\")\n",
    "    return f\"{city}의 날씨는 언제나 맑습니다!\"\n",
    "\n",
    "# 에이전트 생성\n",
    "agent = create_agent(\n",
    "    model,\n",
    "    tools=[get_weather],\n",
    ")\n",
    "\n",
    "# 사용자 질의에 대해 커스텀 스트리밍 실행\n",
    "for chunk in agent.stream(\n",
    "    {\"messages\": [{\"role\": \"user\", \"content\": \"샌프란시스코의 날씨는 어때?\"}]},\n",
    "    stream_mode=[\"custom\", \"updates\"],\n",
    "):\n",
    "    print(chunk)"
   ]
  },
  {
   "cell_type": "markdown",
   "id": "3862effa-5e94-4665-9f78-4e0c9a20fc8e",
   "metadata": {},
   "source": [
    "## 스트리밍과 청크 (Streaming and Chunks)\n",
    "\n",
    "스트리밍 중에는 **`AIMessageChunk` 객체**들이 순차적으로 전달되며,\n",
    "이 청크(chunk)들을 결합하면 **완전한 메시지 객체(full message object)** 를 구성할 수 있습니다.\n"
   ]
  },
  {
   "cell_type": "code",
   "execution_count": 7,
   "id": "ddc9241b-b655-4e8d-b6ec-30ffe4d6262e",
   "metadata": {},
   "outputs": [
    {
     "name": "stdout",
     "output_type": "stream",
     "text": [
      "LLM(대규모 언어 모델)을 활용한 애플리케이션 개발을 돕는 오픈소스 프레임워크입니다.\n",
      "\n"
     ]
    },
    {
     "data": {
      "text/plain": [
       "AIMessageChunk(content='LLM(대규모 언어 모델)을 활용한 애플리케이션 개발을 돕는 오픈소스 프레임워크입니다.', additional_kwargs={}, response_metadata={'finish_reason': 'STOP', 'model_name': 'gemini-2.5-flash', 'safety_ratings': [], 'grounding_metadata': {}, 'model_provider': 'google_genai'}, id='lc_run--480582aa-1594-4b2a-8433-be80688c848d', usage_metadata={'input_tokens': 12, 'output_tokens': 527, 'total_tokens': 539, 'input_token_details': {'cache_read': 0}, 'output_token_details': {'reasoning': 498}}, chunk_position='last')"
      ]
     },
     "execution_count": 7,
     "metadata": {},
     "output_type": "execute_result"
    }
   ],
   "source": [
    "chunks = []            # 스트리밍으로 받은 청크(부분 응답)들을 저장할 리스트\n",
    "full_message = None    # 전체 메시지를 누적할 변수\n",
    "\n",
    "# 모델로부터 스트리밍 방식으로 응답을 받음 (stream_mode=values)\n",
    "for chunk in model.stream(\"LangChain이 뭔지 한줄로 답해주세요.\"):\n",
    "    chunks.append(chunk)               # 각 청크를 리스트에 추가\n",
    "    print(chunk.text)                  # 청크의 텍스트 부분을 바로 출력 (실시간 스트리밍처럼)\n",
    "    # full_message가 비어있다면 첫 청크를 넣고, 이후에는 청크를 이어붙임\n",
    "    full_message = chunk if full_message is None else full_message + chunk\n",
    "\n",
    "# 모든 청크를 합친 최종 메시지 출력\n",
    "full_message"
   ]
  },
  {
   "cell_type": "code",
   "execution_count": 12,
   "id": "242b3302-5aef-4c0f-a887-4c06b2d9fc2c",
   "metadata": {},
   "outputs": [
    {
     "name": "stdout",
     "output_type": "stream",
     "text": [
      "================================\u001b[1m Human Message \u001b[0m=================================\n",
      "\n",
      "LangChain이 뭔지 한줄로 답해주세요.\n",
      "==================================\u001b[1m Ai Message \u001b[0m==================================\n",
      "\n",
      "[{'type': 'text', 'text': 'LangChain은 LLM(대규모 언어 모델)을 기반으로 애플리케이션을 개발할 수 있도록 돕는 프레임워크입니다.', 'extras': {'signature': 'CssBAdHtim/P2zbi5L3hucwa+pbNEcIFbrTPAq1Qlic7Kj4tBlsdAFLnWt3+4vcstgO3QAVQd9a6u27dRXoUCgtgdh0+Mg+Nh+usM/7QqwQn7NsDwf/NJotGzFnwes3mk75eXVLCfiAgrdvz1C3C2+W5fsMH0EyhN7nI9Pl5btdBvL43CXqjbRT2iCSccDX7GB5cUKFJmVfSJMstxgq7PFtyNWytCF2uPnDw3qNMxf/8bq2RzhcUy5kFGGdnnrz+DIvKzZ+alqkP6pJgGJI='}}]\n"
     ]
    }
   ],
   "source": [
    "for event in agent.stream(  \n",
    "    {\"messages\": [{\"role\": \"user\", \"content\": \"LangChain이 뭔지 한줄로 답해주세요.\"}]},\n",
    "    stream_mode=\"values\"\n",
    "):\n",
    "    event['messages'][-1].pretty_print()"
   ]
  },
  {
   "cell_type": "code",
   "execution_count": null,
   "id": "b73e3899-796b-4b28-b0df-89ec70437e97",
   "metadata": {},
   "outputs": [],
   "source": []
  }
 ],
 "metadata": {
  "colab": {
   "provenance": []
  },
  "kernelspec": {
   "display_name": "Python 3 (ipykernel)",
   "language": "python",
   "name": "python3"
  },
  "language_info": {
   "codemirror_mode": {
    "name": "ipython",
    "version": 3
   },
   "file_extension": ".py",
   "mimetype": "text/x-python",
   "name": "python",
   "nbconvert_exporter": "python",
   "pygments_lexer": "ipython3",
   "version": "3.13.7"
  }
 },
 "nbformat": 4,
 "nbformat_minor": 5
}
