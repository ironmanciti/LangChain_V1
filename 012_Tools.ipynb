{
 "cells": [
  {
   "cell_type": "markdown",
   "id": "658024d6",
   "metadata": {},
   "source": [
    "# Tools (도구)\n",
    "\n",
    "도구(Tools) 는 에이전트가 특정 행동을 수행하기 위해 호출하는 구성 요소입니다.  \n",
    "이들은 모델이 명확히 정의된 입력과 출력을 통해 외부 세계와 상호작용할 수 있도록 하여 모델의 기능을 확장합니다.\n",
    "\n",
    "도구는 호출 가능한 함수(callable function) 와 그에 대한 입력 스키마(input schema) 를 캡슐화합니다.\n",
    "이러한 도구들은 호환되는 채팅 모델(chat model) 에 전달될 수 있으며, 모델은 도구를 언제, 어떤 인수(argument) 로 호출할지 스스로 결정할 수 있습니다."
   ]
  },
  {
   "cell_type": "code",
   "execution_count": 1,
   "id": "84826b68",
   "metadata": {},
   "outputs": [
    {
     "data": {
      "text/plain": [
       "True"
      ]
     },
     "execution_count": 1,
     "metadata": {},
     "output_type": "execute_result"
    }
   ],
   "source": [
    "from dotenv import load_dotenv\n",
    "\n",
    "load_dotenv()"
   ]
  },
  {
   "cell_type": "code",
   "execution_count": 2,
   "id": "d1d05127-9f44-4c63-ab76-58aeb30398ee",
   "metadata": {},
   "outputs": [],
   "source": [
    "from langchain.chat_models import init_chat_model\n",
    "\n",
    "# model = init_chat_model(\"gpt-5-nano\", model_provider=\"openai\")\n",
    "model = init_chat_model(\"gemini-2.5-flash\", model_provider=\"google_genai\")"
   ]
  },
  {
   "cell_type": "markdown",
   "id": "b0dbcd2f",
   "metadata": {},
   "source": [
    "## 도구 정의 \n",
    "\n",
    "가장 간단하게 도구를 만드는 방법은 @tool 데코레이터를 사용하는 것입니다.  \n",
    "\n",
    "**Type hints** 는 필수입니다. 이들은 도구의 **입력 스키마(input schema)** 를 정의하기 때문입니다.  \n",
    "**독스트링(docstring)** 은 모델이 도구의 목적을 이해할 수 있도록 **간결하면서도 유용한 정보**를 포함해야 합니다."
   ]
  },
  {
   "cell_type": "code",
   "execution_count": 3,
   "id": "996e9666-dcf1-4071-9988-cb12b527d097",
   "metadata": {},
   "outputs": [
    {
     "data": {
      "text/plain": [
       "StructuredTool(name='search_db', description='검색어(query)에 해당하는 고객 데이터베이스 레코드를 조회합니다.\\n\\nArgs:\\n    query: 검색할 키워드 또는 문장\\n    limit: 반환할 최대 결과 개수', args_schema=<class 'langchain_core.utils.pydantic.search_db'>, func=<function search_db at 0x0000018D7C99E200>)"
      ]
     },
     "execution_count": 3,
     "metadata": {},
     "output_type": "execute_result"
    }
   ],
   "source": [
    "from langchain.tools import tool\n",
    "\n",
    "@tool\n",
    "def search_db(query: str, limit: int = 10) -> str:\n",
    "    \"\"\"검색어(query)에 해당하는 고객 데이터베이스 레코드를 조회합니다.\n",
    "\n",
    "    Args:\n",
    "        query: 검색할 키워드 또는 문장\n",
    "        limit: 반환할 최대 결과 개수\n",
    "    \"\"\"\n",
    "    return f\"'{query}'에 대한 검색 결과 {limit}개를 찾았습니다.\"\n",
    "\n",
    "search_db"
   ]
  },
  {
   "cell_type": "markdown",
   "id": "d242e9ea-97aa-4d7b-8a00-e8f796172352",
   "metadata": {},
   "source": [
    "### 도구 속성 사용자 정의\n",
    "기본적으로 도구의 이름은 **함수 이름**에서 가져옵니다.  \n",
    "더 설명적인 이름이 필요할 경우에는 이를 **재정의(override)** 할 수 있습니다.  \n",
    "또한, 모델이 도구를 더 명확하게 이해하도록 하기 위해, 자동으로 생성된 도구 설명을 **재정의(override)** 할 수 있습니다."
   ]
  },
  {
   "cell_type": "code",
   "execution_count": 4,
   "id": "a39319b2-f7ed-4ed5-9ac6-68c4477bec7f",
   "metadata": {},
   "outputs": [
    {
     "name": "stdout",
     "output_type": "stream",
     "text": [
      "web_search\n"
     ]
    }
   ],
   "source": [
    "@tool(\"web_search\")  # 사용자 정의 도구 이름 설정\n",
    "def search(query: str) -> str:\n",
    "    \"\"\"웹에서 정보를 검색합니다.\"\"\"\n",
    "    return f\"'{query}'에 대한 검색 결과입니다.\"\n",
    "\n",
    "print(search.name)  "
   ]
  },
  {
   "cell_type": "markdown",
   "id": "7866fa8f-b4dc-4d12-ad4a-1f3a920b0d53",
   "metadata": {},
   "source": [
    "더 명확한 모델 지침을 위해 자동 생성된 도구 설명을 재정의할 수 있습니다."
   ]
  },
  {
   "cell_type": "code",
   "execution_count": 5,
   "id": "2a0c4ac9-7c72-425f-9cc0-865f24c3edd1",
   "metadata": {},
   "outputs": [
    {
     "data": {
      "text/plain": [
       "StructuredTool(name='calculator', description='산술 계산을 수행합니다. 수학 문제를 풀 때 이 도구를 사용하세요.', args_schema=<class 'langchain_core.utils.pydantic.calculator'>, func=<function calc at 0x0000018D7C99E520>)"
      ]
     },
     "execution_count": 5,
     "metadata": {},
     "output_type": "execute_result"
    }
   ],
   "source": [
    "@tool(\"calculator\", description=\"산술 계산을 수행합니다. 수학 문제를 풀 때 이 도구를 사용하세요.\")\n",
    "def calc(expression: str) -> str:\n",
    "    \"\"\"수학 표현식을 계산합니다.\"\"\"\n",
    "    return str(eval(expression))\n",
    "calc"
   ]
  },
  {
   "cell_type": "markdown",
   "id": "a6957318-4a99-4d6a-bc30-e13dfea2753f",
   "metadata": {},
   "source": [
    "### 고급 스키마 정의\n",
    "Pydantic 모델이나 JSON 스키마를 사용하여 복잡한 입력을 정의합니다."
   ]
  },
  {
   "cell_type": "code",
   "execution_count": 6,
   "id": "b0868a7f-cbf2-4e01-becf-600b3ab09b38",
   "metadata": {},
   "outputs": [],
   "source": [
    "from pydantic import BaseModel, Field\n",
    "from typing import Literal\n",
    "from langchain_core.tools import tool\n",
    "\n",
    "# 입력 데이터 구조 정의 (Pydantic 사용)\n",
    "class WeatherInput(BaseModel):\n",
    "    \"\"\"날씨 질의에 사용할 입력 스키마\"\"\"\n",
    "    location: str = Field(description=\"도시 이름 또는 좌표를 입력합니다.\")\n",
    "    units: Literal[\"celsius\", \"fahrenheit\"] = Field(\n",
    "        default=\"celsius\",\n",
    "        description=\"온도 단위 선택 (섭씨 또는 화씨)\"\n",
    "    )\n",
    "    include_forecast: bool = Field(\n",
    "        default=False,\n",
    "        description=\"5일치 예보 포함 여부\"\n",
    "    )\n",
    "\n",
    "# 도구(tool) 정의: 날씨 정보를 조회하는 함수\n",
    "@tool(args_schema=WeatherInput)\n",
    "def get_weather(\n",
    "    location: str,\n",
    "    units: str = \"celsius\",\n",
    "    include_forecast: bool = False\n",
    ") -> str:\n",
    "    \"\"\"현재 날씨와 (옵션) 5일 예보 정보를 반환\"\"\"\n",
    "    # 단위에 따른 임시 온도값 설정 (섭씨 22도 / 화씨 72도)\n",
    "    temp = 22 if units == \"celsius\" else 72\n",
    "    \n",
    "    # 기본 날씨 문자열 구성\n",
    "    result = f\"{location}의 현재 기온: {temp}도 {units[0].upper()}\"\n",
    "    \n",
    "    # 예보 포함 시, 추가 정보 출력\n",
    "    if include_forecast:\n",
    "        result += \"\\n다음 5일간 날씨: 맑음\"\n",
    "    \n",
    "    return result"
   ]
  },
  {
   "cell_type": "code",
   "execution_count": 7,
   "id": "0f023401-8724-466a-ab9e-171c27450c27",
   "metadata": {},
   "outputs": [
    {
     "data": {
      "text/plain": [
       "'Seoul의 현재 기온: 22도 C'"
      ]
     },
     "execution_count": 7,
     "metadata": {},
     "output_type": "execute_result"
    }
   ],
   "source": [
    "get_weather.invoke({\"location\": \"Seoul\"})"
   ]
  },
  {
   "cell_type": "markdown",
   "id": "287700c2-5931-4352-8fd6-f863c98caf80",
   "metadata": {},
   "source": [
    "- LangChain 내장 도구 사용"
   ]
  },
  {
   "cell_type": "code",
   "execution_count": 8,
   "id": "e39e850d-2cbf-43db-bad2-07e62de75ac3",
   "metadata": {},
   "outputs": [
    {
     "name": "stdout",
     "output_type": "stream",
     "text": [
      "{'query': \"LangGraph에서 '노드(node)'란 무엇인가요?\", 'follow_up_questions': None, 'answer': None, 'images': [], 'results': [{'url': 'https://www.ibm.com/kr-ko/think/topics/langgraph', 'title': 'LangGraph란 무엇인가요? - IBM', 'content': '노드: LangGraph에서 노드는 AI 워크플로 안에 있는 개별 구성 요소 또는 에이전트를 나타냅니다. 노드는 특정 방식으로 상호 작용하는 \"행위자\"라고 볼 수 있습니다.', 'score': 0.90849644, 'raw_content': None}, {'url': 'https://blog.naver.com/pjt3591oo/223861729229?viewType=pc', 'title': 'langgraph 소개 및 기본개념 : 네이버 블로그', 'content': '· 노드(nodes): 그래프의 작업 단위\\u200b 노드는 그래프에서 실제 작업을 수행하는 단위입니다. 각 노드는 특정 로직을 담당합니다. 작업은 LLM 호출, 데이터', 'score': 0.87605256, 'raw_content': None}], 'response_time': 1.02, 'request_id': '4c674d78-29d2-4d1e-b579-f68d1dbf7b85'}\n"
     ]
    }
   ],
   "source": [
    "from langchain_tavily import TavilySearch\n",
    "\n",
    "# 웹 검색을 도구\n",
    "tavily = TavilySearch(max_results=2)\n",
    "\n",
    "# 도구 테스트\n",
    "print(tavily.invoke(\"LangGraph에서 '노드(node)'란 무엇인가요?\"))"
   ]
  },
  {
   "cell_type": "code",
   "execution_count": 9,
   "id": "612a6d60-4003-4222-952d-a1cdf4254823",
   "metadata": {
    "scrolled": true
   },
   "outputs": [
    {
     "name": "stdout",
     "output_type": "stream",
     "text": [
      "**** 도구 이름 ****\n",
      "tavily_search\n",
      "\n",
      "**** 도구 설명 ****\n",
      "A search engine optimized for comprehensive, accurate, and trusted results. Useful for when you need to answer questions about current events. It not only retrieves URLs and snippets, but offers advanced search depths, domain management, time range filters, and image search, this tool delivers real-time, accurate, and citation-backed results.Input should be a search query.\n",
      "\n",
      "**** 도구 인자 ****\n",
      "{\n",
      "  \"description\": \"Input for [TavilySearch]\",\n",
      "  \"properties\": {\n",
      "    \"query\": {\n",
      "      \"description\": \"Search query to look up\",\n",
      "      \"title\": \"Query\",\n",
      "      \"type\": \"string\"\n",
      "    },\n",
      "    \"include_domains\": {\n",
      "      \"anyOf\": [\n",
      "        {\n",
      "          \"items\": {\n",
      "            \"type\": \"string\"\n",
      "          },\n",
      "          \"type\": \"array\"\n",
      "        },\n",
      "        {\n",
      "          \"type\": \"null\"\n",
      "        }\n",
      "      ],\n",
      "      \"default\": [],\n",
      "      \"description\": \"A list of domains to restrict search results to.\\n\\n        Use this parameter when:\\n        1. The user explicitly requests information from specific websites (e.g., \\\"Find climate data from nasa.gov\\\")\\n        2. The user mentions an organization or company without specifying the domain (e.g., \\\"Find information about iPhones from Apple\\\")\\n\\n        In both cases, you should determine the appropriate domains (e.g., [\\\"nasa.gov\\\"] or [\\\"apple.com\\\"]) and set this parameter.\\n\\n        Results will ONLY come from the specified domains - no other sources will be included.\\n        Default is None (no domain restriction).\\n        \",\n",
      "      \"title\": \"Include Domains\"\n",
      "    },\n",
      "    \"exclude_domains\": {\n",
      "      \"anyOf\": [\n",
      "        {\n",
      "          \"items\": {\n",
      "            \"type\": \"string\"\n",
      "          },\n",
      "          \"type\": \"array\"\n",
      "        },\n",
      "        {\n",
      "          \"type\": \"null\"\n",
      "        }\n",
      "      ],\n",
      "      \"default\": [],\n",
      "      \"description\": \"A list of domains to exclude from search results.\\n\\n        Use this parameter when:\\n        1. The user explicitly requests to avoid certain websites (e.g., \\\"Find information about climate change but not from twitter.com\\\")\\n        2. The user mentions not wanting results from specific organizations without naming the domain (e.g., \\\"Find phone reviews but nothing from Apple\\\")\\n\\n        In both cases, you should determine the appropriate domains to exclude (e.g., [\\\"twitter.com\\\"] or [\\\"apple.com\\\"]) and set this parameter.\\n\\n        Results will filter out all content from the specified domains.\\n        Default is None (no domain exclusion).\\n        \",\n",
      "      \"title\": \"Exclude Domains\"\n",
      "    },\n",
      "    \"search_depth\": {\n",
      "      \"anyOf\": [\n",
      "        {\n",
      "          \"enum\": [\n",
      "            \"basic\",\n",
      "            \"advanced\"\n",
      "          ],\n",
      "          \"type\": \"string\"\n",
      "        },\n",
      "        {\n",
      "          \"type\": \"null\"\n",
      "        }\n",
      "      ],\n",
      "      \"default\": \"basic\",\n",
      "      \"description\": \"Controls search thoroughness and result comprehensiveness.\\n    \\n        Use \\\"basic\\\" for simple queries requiring quick, straightforward answers.\\n        \\n        Use \\\"advanced\\\" (default) for complex queries, specialized topics, \\n        rare information, or when in-depth analysis is needed.\\n        \",\n",
      "      \"title\": \"Search Depth\"\n",
      "    },\n",
      "    \"include_images\": {\n",
      "      \"anyOf\": [\n",
      "        {\n",
      "          \"type\": \"boolean\"\n",
      "        },\n",
      "        {\n",
      "          \"type\": \"null\"\n",
      "        }\n",
      "      ],\n",
      "      \"default\": false,\n",
      "      \"description\": \"Determines if the search returns relevant images along with text results.\\n   \\n        Set to True when the user explicitly requests visuals or when images would \\n        significantly enhance understanding (e.g., \\\"Show me what black holes look like,\\\" \\n        \\\"Find pictures of Renaissance art\\\").\\n        \\n        Leave as False (default) for most informational queries where text is sufficient.\\n        \",\n",
      "      \"title\": \"Include Images\"\n",
      "    },\n",
      "    \"time_range\": {\n",
      "      \"anyOf\": [\n",
      "        {\n",
      "          \"enum\": [\n",
      "            \"day\",\n",
      "            \"week\",\n",
      "            \"month\",\n",
      "            \"year\"\n",
      "          ],\n",
      "          \"type\": \"string\"\n",
      "        },\n",
      "        {\n",
      "          \"type\": \"null\"\n",
      "        }\n",
      "      ],\n",
      "      \"default\": null,\n",
      "      \"description\": \"Limits results to content published within a specific timeframe.\\n        \\n        ONLY set this when the user explicitly mentions a time period \\n        (e.g., \\\"latest AI news,\\\" \\\"articles from last week\\\").\\n        \\n        For less popular or niche topics, use broader time ranges \\n        (\\\"month\\\" or \\\"year\\\") to ensure sufficient relevant results.\\n   \\n        Options: \\\"day\\\" (24h), \\\"week\\\" (7d), \\\"month\\\" (30d), \\\"year\\\" (365d).\\n        \\n        Default is None.\\n        \",\n",
      "      \"title\": \"Time Range\"\n",
      "    },\n",
      "    \"topic\": {\n",
      "      \"anyOf\": [\n",
      "        {\n",
      "          \"enum\": [\n",
      "            \"general\",\n",
      "            \"news\",\n",
      "            \"finance\"\n",
      "          ],\n",
      "          \"type\": \"string\"\n",
      "        },\n",
      "        {\n",
      "          \"type\": \"null\"\n",
      "        }\n",
      "      ],\n",
      "      \"default\": \"general\",\n",
      "      \"description\": \"Specifies search category for optimized results.\\n   \\n        Use \\\"general\\\" (default) for most queries, INCLUDING those with terms like \\n        \\\"latest,\\\" \\\"newest,\\\" or \\\"recent\\\" when referring to general information.\\n\\n        Use \\\"finance\\\" for markets, investments, economic data, or financial news.\\n\\n        Use \\\"news\\\" ONLY for politics, sports, or major current events covered by \\n        mainstream media - NOT simply because a query asks for \\\"new\\\" information.\\n        \",\n",
      "      \"title\": \"Topic\"\n",
      "    },\n",
      "    \"include_favicon\": {\n",
      "      \"anyOf\": [\n",
      "        {\n",
      "          \"type\": \"boolean\"\n",
      "        },\n",
      "        {\n",
      "          \"type\": \"null\"\n",
      "        }\n",
      "      ],\n",
      "      \"default\": false,\n",
      "      \"description\": \"Determines whether to include favicon URLs for each search result.\\n        \\n        When enabled, each search result will include the website's favicon URL,\\n        which can be useful for:\\n        - Building rich UI interfaces with visual website indicators\\n        - Providing visual cues about the source's credibility or brand\\n        - Creating bookmark-like displays with recognizable site icons\\n        \\n        Set to True when creating user interfaces that benefit from visual branding\\n        or when favicon information enhances the user experience.\\n        \\n        Default is False to minimize response size and API usage.\\n        \",\n",
      "      \"title\": \"Include Favicon\"\n",
      "    },\n",
      "    \"start_date\": {\n",
      "      \"anyOf\": [\n",
      "        {\n",
      "          \"type\": \"string\"\n",
      "        },\n",
      "        {\n",
      "          \"type\": \"null\"\n",
      "        }\n",
      "      ],\n",
      "      \"default\": null,\n",
      "      \"description\": \"Filters search results to include only content published on or after this date.\\n        \\n        Use this parameter when you need to:\\n        - Find recent developments or updates on a topic\\n        - Exclude outdated information from search results\\n        - Focus on content within a specific timeframe\\n        - Combine with end_date to create a custom date range\\n        \\n        Format must be YYYY-MM-DD (e.g., \\\"2024-01-15\\\" for January 15, 2024).\\n        \\n        Examples:\\n        - \\\"2024-01-01\\\" - Results from January 1, 2024 onwards\\n        - \\\"2023-12-25\\\" - Results from December 25, 2023 onwards\\n        \\n        When combined with end_date, creates a precise date range filter.\\n        \\n        Default is None (no start date restriction).\\n        \",\n",
      "      \"title\": \"Start Date\"\n",
      "    },\n",
      "    \"end_date\": {\n",
      "      \"anyOf\": [\n",
      "        {\n",
      "          \"type\": \"string\"\n",
      "        },\n",
      "        {\n",
      "          \"type\": \"null\"\n",
      "        }\n",
      "      ],\n",
      "      \"default\": null,\n",
      "      \"description\": \"Filters search results to include only content published on or before this date.\\n        \\n        Use this parameter when you need to:\\n        - Exclude content published after a certain date\\n        - Study historical information or past events\\n        - Research how topics were covered during specific time periods\\n        - Combine with start_date to create a custom date range\\n        \\n        Format must be YYYY-MM-DD (e.g., \\\"2024-03-31\\\" for March 31, 2024).\\n        \\n        Examples:\\n        - \\\"2024-03-31\\\" - Results up to and including March 31, 2024\\n        - \\\"2023-12-31\\\" - Results up to and including December 31, 2023\\n        \\n        When combined with start_date, creates a precise date range filter.\\n        For example: start_date=\\\"2024-01-01\\\", end_date=\\\"2024-03-31\\\" \\n        returns results from Q1 2024 only.\\n        \\n        Default is None (no end date restriction).\\n        \",\n",
      "      \"title\": \"End Date\"\n",
      "    }\n",
      "  },\n",
      "  \"required\": [\n",
      "    \"query\"\n",
      "  ],\n",
      "  \"title\": \"TavilySearchInput\",\n",
      "  \"type\": \"object\"\n",
      "}\n"
     ]
    }
   ],
   "source": [
    "import json\n",
    "\n",
    "# LLM에 입력 되는 값 확인\n",
    "print(\"**** 도구 이름 ****\")\n",
    "print(tavily.name)\n",
    "print()\n",
    "print(\"**** 도구 설명 ****\")\n",
    "print(tavily.description)\n",
    "print()\n",
    "print(\"**** 도구 인자 ****\")\n",
    "print(json.dumps(tavily.args_schema.model_json_schema(), indent=2))"
   ]
  },
  {
   "cell_type": "markdown",
   "id": "688b1dfe-2a81-4fe1-8d7a-a200944b7239",
   "metadata": {},
   "source": [
    "### Agent 에 도구 제공"
   ]
  },
  {
   "cell_type": "code",
   "execution_count": 10,
   "id": "f459b005-2409-439d-8842-99e4b42e323b",
   "metadata": {},
   "outputs": [
    {
     "data": {
      "image/png": "[encoded data removed]",
      "text/plain": [
       "<langgraph.graph.state.CompiledStateGraph object at 0x0000018D7DD40830>"
      ]
     },
     "execution_count": 10,
     "metadata": {},
     "output_type": "execute_result"
    }
   ],
   "source": [
    "from langchain.agents import create_agent\n",
    "\n",
    "# ReAct 에이전트 생성\n",
    "agent = create_agent(\n",
    "    model=model,  \n",
    "    tools = [tavily, search_db, search]                    # 에이전트가 사용할 도구 목록\n",
    ")\n",
    "agent"
   ]
  },
  {
   "cell_type": "code",
   "execution_count": 13,
   "id": "d6144bbd-bd22-4686-99f8-27b75e92b7f6",
   "metadata": {},
   "outputs": [
    {
     "name": "stdout",
     "output_type": "stream",
     "text": [
      "==================================\u001b[1m Ai Message \u001b[0m==================================\n",
      "\n",
      "지금 서울 날씨는 맑고 기온은 20도입니다.\n"
     ]
    }
   ],
   "source": [
    "result = agent.invoke(\n",
    "    {\"messages\": [\n",
    "        {'role': 'system', \"content\": \"당신은 도움이 되는 어시스턴트입니다. 주어진 도구를 이용해 답변하세요.\"},\n",
    "        {\"role\": \"user\", \"content\": \"지금 서울 날씨가 어때?\"}\n",
    "    ]}\n",
    ")\n",
    "\n",
    "result['messages'][-1].pretty_print()"
   ]
  },
  {
   "cell_type": "code",
   "execution_count": 12,
   "id": "220aaea7-3ad8-4cf3-a0fc-2b546ae6525b",
   "metadata": {},
   "outputs": [
    {
     "name": "stdout",
     "output_type": "stream",
     "text": [
      "================================\u001b[1m Human Message \u001b[0m=================================\n",
      "\n",
      "지금 서울 날씨가 어때?\n",
      "==================================\u001b[1m Ai Message \u001b[0m==================================\n",
      "Tool Calls:\n",
      "  tavily_search (42c888f3-7a19-4927-88aa-524951f99169)\n",
      " Call ID: 42c888f3-7a19-4927-88aa-524951f99169\n",
      "  Args:\n",
      "    query: 지금 서울 날씨\n",
      "=================================\u001b[1m Tool Message \u001b[0m=================================\n",
      "Name: tavily_search\n",
      "\n",
      "{\"query\": \"지금 서울 날씨\", \"follow_up_questions\": null, \"answer\": null, \"images\": [], \"results\": [{\"url\": \"https://www.accuweather.com/ko/kr/seoul/226081/current-weather/226081\", \"title\": \"서울특별시, 서울시, 대한민국 현재 날씨 - AccuWeather\", \"content\": \"서울특별시, 서울시, 대한민국 현재 날씨 | AccuWeather 서울특별시, 서울시 ========== 83°F 현재 위치 사용 서울특별시 서울시 83° 서울특별시, 서울시 날씨 오늘WinterCast지역 {stormName} 추적기시간별일별레이더MinuteCast®월대기질건강 및 활동 전 세계 ### 허리케인### 악천후 기상### 레이더 및 지도### 동영상 오늘시간별일별레이더MinuteCast®월대기질건강 및 활동 월요일, 8월 11일 현재 기상 PM 7:48 RealFeel® 88°  88° 서북서 4mi/h 8mi/h 71° F 10mi RealFeel® 81°  바람 남 4mi/h 돌풍 10mi/h 강수 확률 4% 강수 0.00in Image 113 시간 46 분 일몰 PM 7:30 Image 211 시간 58 분 일출 PM 8:40 일몰 AM 8:38 84° 73° 87° 71° 94° 82° ### 시간별### 일별### 월 전 세계 ### 허리케인### 악천후 기상### 레이더 및 지도### 동영상 전 세계아시아대한민국서울시서울특별시 *   동작구, 서울시 *   마포구, 서울시 *   서대문구, 서울시 Image 3Image 4Image 5\", \"score\": 0.80735475, \"raw_content\": null}, {\"url\": \"https://korean.visitseoul.net/weather\", \"title\": \"서울 실시간 날씨 정보 | 서울 공식 관광정보 웹사이트\", \"content\": \"* 메뉴 바로가기 * 지금의 서울) 지금의 서울 + 전시/공연/축제/행사 + Visit Seoul 이벤트 + 서울 실시간 관광가이드 + 나의 서울 큐레이션 * 추천) 추천 + 에디터 추천 여행 + 서울 등산관광 + 서울관광 추천 테마코스 다양한 테마의 서울 여행 서울 여행에 대한   + About Seoul **SEOUL GOODS** Family Site; \\\"패밀리사이트 메뉴 열기\\\")  * Visit Seoul API * SEOUL BLEISURE 서울의 날씨 **홈** >  여행정보 >  서울의 날씨 서울의 날씨 3일 예보 표 : 항목별(오늘, 내일, 모레) 날짜, 날씨, 최저/최고기온(℃), 강수확률 | 날씨 | 맑음 | 맑음 | 흐림 | 대기오염 상세 표 : 항목(오늘예보, 내일예보, 모레예보), 미세먼지(PM10), 초미세먼지(PM2.5) 주간예보 표 : 항목별 날짜, 날씨, 최저/최고기온(℃) | 날씨 | 맑음 | 맑음 | 흐림 | 구름많음 | 맑음 |\", \"score\": 0.7777226, \"raw_content\": null}], \"response_time\": 1.15, \"request_id\": \"5b9c3b73-b8e1-4276-bef7-d8d59dc96359\"}\n",
      "==================================\u001b[1m Ai Message \u001b[0m==================================\n",
      "\n",
      "현재 서울의 날씨는 83°F (약 28°C)이며, 체감 온도는 88°F (약 31°C)입니다. 바람은 서북서쪽에서 시속 4마일(약 6km/h)로 불고 있습니다. 일몰은 오후 7시 30분입니다.\n"
     ]
    }
   ],
   "source": [
    "for event in agent.stream(\n",
    "    {\"messages\": [\n",
    "        {'role': 'system', \"content\": \"당신은 도움이 되는 어시스턴트입니다. 주어진 도구를 이용해 답변하세요.\"},\n",
    "        {\"role\": \"user\", \"content\": \"지금 서울 날씨가 어때?\"}\n",
    "    ]},\n",
    "    stream_mode=\"values\",\n",
    "):\n",
    "    event[\"messages\"][-1].pretty_print()"
   ]
  },
  {
   "cell_type": "code",
   "execution_count": null,
   "id": "c09723b5-fab7-496a-a50c-7ca81e89dc8c",
   "metadata": {},
   "outputs": [],
   "source": []
  }
 ],
 "metadata": {
  "kernelspec": {
   "display_name": "Python 3 (ipykernel)",
   "language": "python",
   "name": "python3"
  },
  "language_info": {
   "codemirror_mode": {
    "name": "ipython",
    "version": 3
   },
   "file_extension": ".py",
   "mimetype": "text/x-python",
   "name": "python",
   "nbconvert_exporter": "python",
   "pygments_lexer": "ipython3",
   "version": "3.13.7"
  }
 },
 "nbformat": 4,
 "nbformat_minor": 5
}
