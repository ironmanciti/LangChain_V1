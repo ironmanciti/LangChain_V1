{
 "cells": [
  {
   "cell_type": "markdown",
   "id": "bf37a837-7a6a-447b-8779-38f26c585887",
   "metadata": {
    "id": "bf37a837-7a6a-447b-8779-38f26c585887"
   },
   "source": [
    "# 시맨틱 검색 엔진 구축하기\n",
    "이 노트북은 LangChain의 문서 로더, 임베딩, 그리고 벡터 스토어 추상화 개념에 익숙해지도록 설계되었습니다. 이러한 추상화는 (벡터) 데이터베이스 및 기타 소스에서 데이터를 검색하여 LLM 워크플로우에 통합하도록 지원합니다. 이는 **RAG (Retrieval-Augmented Generation)** 와 같은 모델 추론의 일부로 데이터를 검색해 활용하는 애플리케이션에 중요합니다.\n",
    "\n",
    "이 노트북에서는 PDF 문서에 대한 검색 엔진을 구축합니다. 이를 통해 입력 쿼리와 유사한 PDF의 특정 구절을 검색할 수 있습니다.\n",
    "\n",
    "### 개념\n",
    "이 가이드는 텍스트 데이터 검색에 중점을 둡니다. 아래 개념을 다룰 것입니다:\n",
    "\n",
    "- 문서 및 문서 로더\n",
    "- 텍스트 분할기 (Text splitters)\n",
    "- 임베딩 (Embeddings)\n",
    "- 벡터 스토어 및 검색기 (Vector stores and retrievers)\n",
    "\n",
    "### 문서 및 문서 로더 (Documents and Document Loaders)\n",
    "LangChain은 Document 추상화를 제공합니다. 이 객체는 텍스트 단위와 관련 메타데이터를 나타내기 위해 설계되었습니다.  \n",
    "\n",
    "Document의 주요 속성:  \n",
    "- page_content: 문서의 내용을 나타내는 문자열입니다.  \n",
    "- metadata: 문서의 출처, 다른 문서와의 관계 등 임의의 메타데이터를 포함하는 딕셔너리입니다.  \n",
    "- id: (선택적) 문서를 식별하는 문자열입니다.  \n",
    "\n",
    "metadata 속성은 문서의 출처, 문서 간 관계 및 기타 정보를 포함할 수 있습니다. 일반적으로 하나의 Document 객체는 더 큰 문서의 일부(청크)를 나타냅니다.\n",
    "\n",
    "예제 문서 생성:\n",
    "```python\n",
    "from langchain_core.documents import Document\n",
    "\n",
    "documents = [\n",
    "    Document(\n",
    "        page_content=\"개는 충성심과 친근함으로 잘 알려진 훌륭한 동반자입니다. \",\n",
    "        metadata={\"source\": \"mammal-pets-doc\"},\n",
    "    ),\n",
    "    Document(\n",
    "        page_content=\"고양이는 독립적인 반려동물로, 종종 자신만의 공간을 즐깁니다.\",\n",
    "        metadata={\"source\": \"mammal-pets-doc\"},\n",
    "    ),\n",
    "]\n",
    "```"
   ]
  },
  {
   "cell_type": "markdown",
   "id": "f8593578-5699-4b19-96c4-7c990d37a2ec",
   "metadata": {
    "id": "f8593578-5699-4b19-96c4-7c990d37a2ec"
   },
   "source": [
    "그러나 LangChain 생태계는 문서 로더(document loaders)를 구현하여 수백 가지 일반적인 소스와 통합할 수 있습니다. 이를 통해 이러한 소스의 데이터를 AI 애플리케이션에 쉽게 통합할 수 있습니다.\n"
   ]
  },
  {
   "cell_type": "code",
   "execution_count": 1,
   "id": "52f4631d",
   "metadata": {},
   "outputs": [
    {
     "data": {
      "text/plain": [
       "True"
      ]
     },
     "execution_count": 1,
     "metadata": {},
     "output_type": "execute_result"
    }
   ],
   "source": [
    "from dotenv import load_dotenv\n",
    "load_dotenv()"
   ]
  },
  {
   "cell_type": "markdown",
   "id": "K8UsxUgCF-XV",
   "metadata": {
    "id": "K8UsxUgCF-XV"
   },
   "source": [
    "## **문서 로드하기**\n",
    "\n",
    "PDF 파일을 `Document` 객체의 시퀀스로 로드해 보겠습니다. LangChain 저장소에 [예제 PDF](https://github.com/langchain-ai/langchain/tree/master/docs/docs/example_data)가 있습니다. 이 PDF는 **2023년 나이키(Nike)의 10-K 보고서**입니다.  "
   ]
  },
  {
   "cell_type": "code",
   "execution_count": 2,
   "id": "48e6e21e-08ea-4b39-b16c-63716d670421",
   "metadata": {},
   "outputs": [],
   "source": [
    "# pip install pypdf"
   ]
  },
  {
   "cell_type": "code",
   "execution_count": 3,
   "id": "5c831207",
   "metadata": {},
   "outputs": [
    {
     "name": "stdout",
     "output_type": "stream",
     "text": [
      "103\n"
     ]
    }
   ],
   "source": [
    "from langchain_community.document_loaders import PyPDFLoader\n",
    "\n",
    "file_path = \"./example_data/nke-10k-2023_korean.pdf\"\n",
    "loader = PyPDFLoader(file_path)\n",
    "\n",
    "docs = loader.load()\n",
    "\n",
    "print(len(docs))"
   ]
  },
  {
   "cell_type": "markdown",
   "id": "b90f4800-bb82-416b-beba-f42ae88a5c66",
   "metadata": {
    "id": "b90f4800-bb82-416b-beba-f42ae88a5c66"
   },
   "source": [
    "**`PyPDFLoader`** 는 **PDF의 각 페이지마다 하나의 `Document` 객체**를 로드합니다.  \n",
    "\n",
    "각 객체에서 다음 정보를 쉽게 접근할 수 있습니다:  \n",
    "\n",
    "- **페이지의 문자열 콘텐츠**  \n",
    "- **파일 이름과 페이지 번호를 포함한 메타데이터**  "
   ]
  },
  {
   "cell_type": "code",
   "execution_count": 4,
   "id": "9d4eaa47",
   "metadata": {},
   "outputs": [
    {
     "name": "stdout",
     "output_type": "stream",
     "text": [
      "목차 \n",
      "미국 \n",
      "증권거래위원회(SEC) 워싱턴 D.C. 20549 \n",
      "양식 10-K \n",
      "(마크 1) \n",
      "☑ 2023 년 5 월 31 일에 종료되는 회계 연도에 대한 1934 년 증권거래법 섹션 13 또는 15(D)에 따른 연례 보고서 \n",
      "또는 \n",
      "☐ 1934 년 증권거래법(SECURITIES EXCHANGE ACT OF 1934)의 섹션 13 또는 15(D)에 따른 \n",
      "\n",
      "{'producer': 'Microsoft® Word Microsoft 365용', 'creator': 'Microsoft® Word Microsoft 365용', 'creationdate': '2024-12-26T10:17:40+09:00', 'title': '0000320187-23-000039', 'author': 'EDGAR Online, a division of Donnelley Financial Solutions', 'subject': 'Form 10-K filed on 2023-07-20 for the period ending 2023-05-31', 'keywords': '0000320187-23-000039; ; 10-K', 'moddate': '2024-12-26T10:17:40+09:00', 'source': './example_data/nke-10k-2023_korean.pdf', 'total_pages': 103, 'page': 0, 'page_label': '1'}\n"
     ]
    }
   ],
   "source": [
    "print(f\"{docs[0].page_content[:200]}\")\n",
    "print()\n",
    "print(docs[0].metadata)"
   ]
  },
  {
   "cell_type": "markdown",
   "id": "e5ddULcMI4T4",
   "metadata": {
    "id": "e5ddULcMI4T4"
   },
   "source": [
    "## **텍스트 분할 (Splitting)**  \n",
    "\n",
    "정보 검색 및 후속 질문-응답(question-answering) 작업을 하는데 **페이지 단위** 사용은 너무 거친 표현일 수 있습니다. 우리의 최종 목표는 **입력 쿼리에 답변할 수 있는 `Document` 객체를 검색하는 것**이므로, PDF를 더 세분화하면 문서의 해당되는 부분이 주변 텍스트에 의해 의미가 흐려지는 것을 방지할 수 있습니다.  \n",
    "\n",
    "이를 위해 텍스트 분할기(text splitters)를 사용할 수 있습니다. 여기서는 **문자를 기준으로 분할하는 간단한 텍스트 분할기**를 사용할 것입니다.  \n",
    "\n",
    "- 문서를 **1000자 단위로 분할**합니다.  \n",
    "- 각 청크(chunk) 사이에는 **200자의 중첩(overlap)** 이 있습니다.  \n",
    "\n",
    "**중첩**은 중요한 문맥(context)과 문장(statement)이 분리되는 것을 완화하는 데 도움이 됩니다.  \n",
    "\n",
    "우리는 **RecursiveCharacterTextSplitter**를 사용할 것입니다. 이 분할기는 일반적인 구분자(예: 줄바꿈)를 사용하여 **재귀적으로 문서를 분할**하며, 각 청크가 적절한 크기가 될 때까지 반복합니다. **일반 텍스트 사용 사례에서 권장되는 텍스트 분할기입니다.**  \n",
    "\n",
    "### **추가 설정**  \n",
    "- `add_start_index=True`로 설정하면 **각 분할된 `Document`가 원본 `Document` 내에서 시작하는 문자 인덱스**가 **메타데이터 속성(`start_index`)** 으로 보존됩니다.  "
   ]
  },
  {
   "cell_type": "code",
   "execution_count": 5,
   "id": "f35ecf43",
   "metadata": {},
   "outputs": [
    {
     "data": {
      "text/plain": [
       "283"
      ]
     },
     "execution_count": 5,
     "metadata": {},
     "output_type": "execute_result"
    }
   ],
   "source": [
    "# RecursiveCharacterTextSplitter를 가져옵니다.\n",
    "# 이 도구는 텍스트를 재귀적으로 분할하며, 일반적인 구분자(예: 줄바꿈)를 사용합니다.\n",
    "from langchain_text_splitters import RecursiveCharacterTextSplitter\n",
    "\n",
    "# RecursiveCharacterTextSplitter 설정\n",
    "text_splitter = RecursiveCharacterTextSplitter(\n",
    "    chunk_size=1000,              # 각 청크(chunk)의 최대 문자 수\n",
    "    chunk_overlap=200,           # 청크 간 중첩(overlap) 문자 수\n",
    "    add_start_index=True        # 각 청크의 시작 인덱스를 메타데이터로 추가\n",
    ")\n",
    "\n",
    "# 문서를 분할합니다. 'docs'는 분할할 원본 문서 목록입니다.\n",
    "all_splits = text_splitter.split_documents(docs)\n",
    "\n",
    "# 분할된 문서의 총 개수\n",
    "len(all_splits)"
   ]
  },
  {
   "cell_type": "markdown",
   "id": "5c066d46-9187-4d5a-98d3-974c37610276",
   "metadata": {
    "id": "5c066d46-9187-4d5a-98d3-974c37610276"
   },
   "source": [
    "## **임베딩 (Embeddings)**  \n",
    "\n",
    "**벡터 검색(Vector Search)** 은 비정형 데이터(예: 비정형 텍스트)를 저장하고 검색하는 일반적인 방법입니다. 핵심 아이디어는 텍스트와 연결된 **숫자 벡터(Numeric Vectors)** 를 저장하는 것입니다.  \n",
    "\n",
    "쿼리(Query)가 주어지면, 이를 **동일한 차원의 벡터로 임베딩(Embedding)** 하고 **벡터 유사도 측정(metric)** (예: **코사인 유사도**)을 사용하여 관련 텍스트를 식별할 수 있습니다.   \n",
    "\n",
    "### **모델 선택하기**  \n",
    "\n",
    "원하는 임베딩 모델을 선택해 사용합니다.  \n",
    "예를 들어, OpenAI, Hugging Face, Cohere 등 다양한 제공자를 사용할 수 있습니다.  \n",
    "\n",
    "**임베딩 모델을 선택한 후 벡터 스토어(Vector Store)에 텍스트를 저장하고 검색**할 수 있습니다."
   ]
  },
  {
   "cell_type": "code",
   "execution_count": 6,
   "id": "9806fc26",
   "metadata": {},
   "outputs": [
    {
     "data": {
      "text/plain": [
       "HuggingFaceEmbeddings(model_name='nlpai-lab/KURE-v1', cache_folder=None, model_kwargs={}, encode_kwargs={}, query_encode_kwargs={}, multi_process=False, show_progress=False)"
      ]
     },
     "execution_count": 6,
     "metadata": {},
     "output_type": "execute_result"
    }
   ],
   "source": [
    "# from langchain_openai import OpenAIEmbeddings\n",
    "\n",
    "# embeddings = OpenAIEmbeddings(model=\"text-embedding-3-small\")\n",
    "\n",
    "from langchain_huggingface import HuggingFaceEmbeddings\n",
    "\n",
    "# Hugging Face Hub에서 한국어 임베딩 모델 로드\n",
    "# KURE-v1은 한국어에 특화된 문장 임베딩 모델입니다.\n",
    "embeddings = HuggingFaceEmbeddings(model_name=\"nlpai-lab/KURE-v1\")\n",
    "embeddings"
   ]
  },
  {
   "cell_type": "code",
   "execution_count": 7,
   "id": "ed149c1c-1733-4985-a343-e727743e816c",
   "metadata": {},
   "outputs": [
    {
     "name": "stdout",
     "output_type": "stream",
     "text": [
      "생성된 벡터의 길이: 1024\n",
      "\n",
      "[-0.03352097421884537, -0.02503204718232155, -0.04472862929105759, 0.04036516323685646, -0.0061622788198292255, 0.024244965985417366, 0.01288260892033577, -0.020397918298840523, 0.0010812670225277543, 0.011760661378502846]\n"
     ]
    }
   ],
   "source": [
    "# 쿼리 텍스트를 벡터로 임베딩합니다.\n",
    "# 각 청크의 내용을 벡터로 변환하여 비교합니다.\n",
    "\n",
    "# 첫 번째 청크(all_splits[0])의 내용을 벡터로 임베딩합니다.\n",
    "vector_1 = embeddings.embed_query(all_splits[0].page_content)\n",
    "\n",
    "# 두 번째 청크(all_splits[1])의 내용을 벡터로 임베딩합니다.\n",
    "vector_2 = embeddings.embed_query(all_splits[1].page_content)\n",
    "\n",
    "# 벡터의 길이를 출력합니다.\n",
    "print(f\"생성된 벡터의 길이: {len(vector_1)}\\n\")\n",
    "\n",
    "# 첫 번째 벡터의 일부(처음 10개 요소)를 출력합니다.\n",
    "print(vector_1[:10])"
   ]
  },
  {
   "cell_type": "markdown",
   "id": "HGfhR318X66u",
   "metadata": {
    "id": "HGfhR318X66u"
   },
   "source": [
    "텍스트 임베딩을 생성하는 모델을 준비했다면, 이제 이를 효율적인 **유사도 검색(Similarity Search)** 을 지원하는 **벡터 스토어(Vector Stores)** 에 저장할 수 있습니다.\n",
    "\n",
    "---\n",
    "\n",
    "## **벡터 스토어(Vector Stores)**  \n",
    "\n",
    "LangChain의 [**VectorStore**](https://python.langchain.com/api_reference/core/vectorstores/langchain_core.vectorstores.base.VectorStore.html) 객체는 **텍스트 및 `Document` 객체를 저장**하고, 다양한 **유사도 메트릭(Similarity Metrics)** 을 사용해 쿼리를 수행할 수 있는 메서드를 포함합니다.  \n",
    "\n",
    "이 객체들은 종종 **임베딩(Embedding)** 모델로 초기화되며, 해당 모델은 **텍스트 데이터를 숫자 벡터로 변환하는 방법**을 결정합니다.   \n",
    "\n",
    "- 일부 벡터 스토어는 **클라우드 제공업체(Cloud Providers)** 에서 호스팅되며 특정 **자격 증명(Credentials)** 이 필요합니다.  \n",
    "- 일부 벡터 스토어(예: **Postgres**)는 독립적인 인프라에서 실행되거나 로컬 또는 서드파티 플랫폼을 통해 운영될 수 있습니다.  \n",
    "- 일부 벡터 스토어는 **인메모리(In-Memory)** 로 실행되어 가벼운 작업에 적합합니다.  "
   ]
  },
  {
   "cell_type": "markdown",
   "id": "52e24a72-da31-4539-a323-f3168d5085c0",
   "metadata": {},
   "source": [
    "- In-Memory Vector Stroe"
   ]
  },
  {
   "cell_type": "code",
   "execution_count": 8,
   "id": "fba80509-0394-4a3f-9356-8dec120d9698",
   "metadata": {},
   "outputs": [
    {
     "data": {
      "text/plain": [
       "['18aea082-0b1a-461a-8bcf-b5976ea0979b',\n",
       " '1f64db55-7cfd-4503-b2c6-b2c5a00e3a4c',\n",
       " '11541bc9-4e6e-4b80-b2f3-6e6486611aa4',\n",
       " '0943a947-88eb-4920-bd34-243709a81736',\n",
       " '23e8c678-619c-4365-9f3a-6961c5a72ea0']"
      ]
     },
     "execution_count": 8,
     "metadata": {},
     "output_type": "execute_result"
    }
   ],
   "source": [
    "%%time\n",
    "from langchain_core.vectorstores import InMemoryVectorStore\n",
    "\n",
    "vector_store = InMemoryVectorStore(embeddings)\n",
    "\n",
    "ids = vector_store.add_documents(documents=all_splits)\n",
    "ids[:5]"
   ]
  },
  {
   "cell_type": "markdown",
   "id": "759d6d81-113e-4137-967b-488339eff907",
   "metadata": {},
   "source": [
    "- Chroma DB"
   ]
  },
  {
   "cell_type": "code",
   "execution_count": 13,
   "id": "81ad4003-a58d-4ba2-85c7-bec05b0b4782",
   "metadata": {},
   "outputs": [
    {
     "data": {
      "text/plain": [
       "['7bd259f7-7492-4e8d-808f-8a8a75f86f94',\n",
       " '36ba2cf0-8c43-495a-8120-a110bea0380c',\n",
       " 'e6e1d5a6-c1be-41ac-a64f-c3caf55deeb3',\n",
       " 'ea488466-ee4c-4016-8282-212c24e2ec4a',\n",
       " '972ec39d-ce41-4a3d-a6af-ee13292bbef9']"
      ]
     },
     "execution_count": 13,
     "metadata": {},
     "output_type": "execute_result"
    }
   ],
   "source": [
    "%%time\n",
    "from langchain_chroma import Chroma\n",
    "\n",
    "vector_store = Chroma(\n",
    "    collection_name=\"example_collection\",\n",
    "    embedding_function=embeddings,\n",
    "    persist_directory=\"./chroma_langchain_db\",  # Where to save data locally, remove if not necessary\n",
    ")\n",
    "\n",
    "ids = vector_store.add_documents(documents=all_splits)\n",
    "ids[:5]"
   ]
  },
  {
   "cell_type": "markdown",
   "id": "k1ELf74varMR",
   "metadata": {
    "id": "k1ELf74varMR"
   },
   "source": [
    "## **VectorStore 쿼리하기**  \n",
    "\n",
    "**`VectorStore`** 가 문서를 포함하고 있는 상태에서, 우리는 이를 쿼리할 수 있습니다.  \n",
    "[**VectorStore**](https://python.langchain.com/api_reference/core/vectorstores/langchain_core.vectorstores.base.VectorStore.html)는 다음과 같은 쿼리 메서드를 제공합니다:  \n",
    "\n",
    "- **동기(Synchronous) 및 비동기(Asynchronous) 방식**  \n",
    "- **문자열(String) 쿼리 또는 벡터(Vector) 기반 쿼리**  \n",
    "- **유사도 점수(Similarity Scores) 반환 여부 선택**  \n",
    "- **유사도(Similarity)** 및 [**최대 주변부 중요도(Maximum Marginal Relevance)**](https://python.langchain.com/api_reference/core/vectorstores/langchain_core.vectorstores.base.VectorStore.html#langchain_core.vectorstores.base.VectorStore.max_marginal_relevance_search)를 사용하여 검색된 결과의 다양성을 균형 있게 조정  \n",
    "\n",
    "일반적으로 이 메서드들은 출력값으로 [**Document**](https://python.langchain.com/api_reference/core/documents/langchain_core.documents.base.Document.html#langchain_core.documents.base.Document) 객체 목록을 포함합니다.  \n",
    "\n",
    "| **메서드**                     | **입력**           | **출력**                           | **사용 시점**                              |\n",
    "|--------------------------------|------------------|---------------------------------|--------------------------------------|\n",
    "| `similarity_search()`          | 텍스트(Query)    | 유사한 문서 리스트                 | 일반적인 유사도 검색                      |\n",
    "| `similarity_search_with_score()` | 텍스트(Query)    | `(문서, 유사도 점수)` 리스트       | 유사도 점수를 포함하여 검색하고 싶을 때     |\n",
    "| `similarity_search_by_vector()` | 사전 계산된 벡터 | 유사한 문서 리스트                 | 벡터를 직접 활용한 검색                   |\n",
    "\n",
    "\n",
    "---\n",
    "\n",
    "**임베딩(Embeddings)** 은 일반적으로 텍스트를 **'밀집 벡터(Dense Vector)'** 로 표현합니다. 이로 인해 **의미가 유사한 텍스트는 기하학적으로 가까운 위치**에 있게 됩니다.  \n",
    "이를 통해 **문서에 사용된 특정 키워드를 알지 못해도** 질문을 입력하는 것만으로 관련 정보를 검색할 수 있습니다.  "
   ]
  },
  {
   "cell_type": "code",
   "execution_count": 14,
   "id": "c1120b54",
   "metadata": {},
   "outputs": [
    {
     "name": "stdout",
     "output_type": "stream",
     "text": [
      "page_content='전략을 구현하는 데 중점을 둔 직원들이 사용하고 있습니다. \n",
      "미국에는 NIKE 가 8 개의 주요 유통 센터를 보유하고 있습니다. 5 개는 테네시 주 멤피스 또는 그 인근에 위치하고 있으며, 그 중 2 개는 소유이고 3 개는 임대입니다. \n",
      "인디애나주 인디애나폴리스와 테네시주 데이턴에 위치한 다른 두 개의 유통 센터는 제 3 자 물류 제공업체가 임대 및 운영합니다. Converse 의 유통 센터 중 하나는 \n",
      "캘리포니아 온타리오에 있으며 임대되어 있습니다. NIKE 는 미국 이외의 지역에 여러 유통 시설을 보유하고 있으며, 그 중 일부는 제 3 자 물류 제공업체가 임대 및 운영합니다. \n",
      "미국 이외의 지역에서 가장 중요한 유통 시설은 벨기에 Laakdal 에 있습니다. 타이창, 중국; 일본 토미사토(Tomisato)와 한국 이천(Icheon)이 모두 소유하고 있습니다. \n",
      "에어 매뉴팩처링 이노베이션(Air Manufacturing Innovation)은 오리건주 비버튼(Beaverton) 인근과 베트남 동나이성(Dong Nai Province) 인근에 위치한 나이키 소유 및 임대 \n",
      "시설과 미주리주 세인트찰스에 있는 나이키 소유 시설에서 신발에 사용되는 쿠션 부품을 제조합니다. \n",
      "위에서 설명한 주요 자산 외에도 당사는 판매 및 관리 목적으로 전 세계의 많은 사무실을 임대합니다. 우리는 전 세계적으로 약 1,027 개의 소매점을 임대하고 있으며, 주로 \n",
      "공장 상점으로 구성되어 있습니다. 소매점에 대한 추가 정보는 \"United States Market\" 및 \"International Markets\"를 참조하십시오. 당사의 임대 계약은 2052 회계 연도까지 \n",
      "다양한 날짜에 만료됩니다. \n",
      "항목 3. 법적 절차 \n",
      "당사는 당사의 사업에 부수적으로 발생하는 일반적인 일상적인 소송을 제외하고는 당사가 당사자이거나 당사의 재산이 대상인 법적 절차가 계류 중이라고 생각하지 않습니다.' metadata={'source': './example_data/nke-10k-2023_korean.pdf', 'start_index': 1584, 'moddate': '2024-12-26T10:17:40+09:00', 'creator': 'Microsoft® Word Microsoft 365용', 'page': 21, 'total_pages': 103, 'author': 'EDGAR Online, a division of Donnelley Financial Solutions', 'page_label': '22', 'title': '0000320187-23-000039', 'creationdate': '2024-12-26T10:17:40+09:00', 'producer': 'Microsoft® Word Microsoft 365용', 'keywords': '0000320187-23-000039; ; 10-K', 'subject': 'Form 10-K filed on 2023-07-20 for the period ending 2023-05-31'}\n"
     ]
    }
   ],
   "source": [
    "results = vector_store.similarity_search(\n",
    "    \"Nike는 미국에 몇 개의 유통 센터를 가지고 있습니까?\"\n",
    ")\n",
    "\n",
    "print(results[0])"
   ]
  },
  {
   "cell_type": "markdown",
   "id": "d4172698-9ad7-4422-99b2-bdc268e99c75",
   "metadata": {
    "id": "d4172698-9ad7-4422-99b2-bdc268e99c75"
   },
   "source": [
    "<br>\n",
    "- 유사도 점수 (Return scores) 반환"
   ]
  },
  {
   "cell_type": "code",
   "execution_count": 15,
   "id": "161e7db9",
   "metadata": {},
   "outputs": [
    {
     "name": "stdout",
     "output_type": "stream",
     "text": [
      "Score: 0.5953285694122314\n",
      "\n",
      "page_content='목차 \n",
      "연말 5 월 31 일, \n",
      " \n",
      "(백만 달러) 2023 2022 2021 \n",
      "수익      \n",
      "북아메리카 $ 21,608  $ 18,353 $ 17,179  \n",
      "유럽, 중동 및 아프리카  13,418   12,479  11,456  \n",
      "중화권  7,248   7,547  8,290  \n",
      "아시아 태평양 및 라틴 아메리카  6,431   5,955  5,343  \n",
      "글로벌 브랜드 사업부  58   102  25  \n",
      "총 NIKE 브랜드  48,763   44,436  42,293  \n",
      "대화  2,427   2,346  2,205  \n",
      "기업  27   (72) 40  \n",
      "NIKE, INC. 총 매출 $ 51,217  $ 46,710 $ 44,538  \n",
      "이자 및 세금 차감 전 이익      \n",
      "북아메리카 $ 5,454  $ 5,114 $ 5,089  \n",
      "유럽, 중동 및 아프리카  3,531   3,293  2,435  \n",
      "중화권  2,283   2,365  3,243  \n",
      "아시아 태평양 및 라틴 아메리카  1,932   1,896  1,530  \n",
      "글로벌 브랜드 사업부  (4,841)  (4,262) (3,656) \n",
      "대화  676   669  543  \n",
      "기업  (2,840)  (2,219) (2,261) \n",
      "이자비용(수입), 순  (6)  205  262  \n",
      "TOTAL NIKE, INC. 소득세 전 소득 $ 6,201  $ 6,651 $ 6,661  \n",
      "재산, 공장 및 장비에 대한 추가 사항      \n",
      "북아메리카 $ 283  $ 146 $ 98  \n",
      "유럽, 중동 및 아프리카  215   197  153  \n",
      "중화권  56   78  94  \n",
      "아시아 태평양 및 라틴 아메리카  64   56  54  \n",
      "글로벌 브랜드 사업부  271   222  278  \n",
      "총 NIKE 브랜드  889   699  677  \n",
      "대화  7   9  7  \n",
      "기업  140   103  107' metadata={'producer': 'Microsoft® Word Microsoft 365용', 'source': './example_data/nke-10k-2023_korean.pdf', 'subject': 'Form 10-K filed on 2023-07-20 for the period ending 2023-05-31', 'creationdate': '2024-12-26T10:17:40+09:00', 'title': '0000320187-23-000039', 'page': 82, 'total_pages': 103, 'author': 'EDGAR Online, a division of Donnelley Financial Solutions', 'start_index': 0, 'keywords': '0000320187-23-000039; ; 10-K', 'page_label': '83', 'moddate': '2024-12-26T10:17:40+09:00', 'creator': 'Microsoft® Word Microsoft 365용'}\n"
     ]
    }
   ],
   "source": [
    "# 'similarity_search_with_score' 메서드는 쿼리와 가장 유사한 문서를 반환합니다.\n",
    "# 반환값: (문서 객체, 유사도 점수) 쌍의 리스트\n",
    "results = vector_store.similarity_search_with_score(\"2023년 Nike의 매출은 얼마였나요?\")\n",
    "\n",
    "# 첫 번째 결과를 추출합니다.\n",
    "doc, score = results[0]\n",
    "\n",
    "# 유사도 점수 출력\n",
    "print(f\"Score: {score}\\n\")\n",
    "\n",
    "# 검색된 문서 내용 출력\n",
    "print(doc)"
   ]
  },
  {
   "cell_type": "markdown",
   "id": "b4991642-7275-40a9-b11a-e3beccbf2614",
   "metadata": {
    "id": "b4991642-7275-40a9-b11a-e3beccbf2614"
   },
   "source": [
    "----------\n",
    "내장된 쿼리와의 유사성을 기준으로 문서 반환:"
   ]
  },
  {
   "cell_type": "code",
   "execution_count": 16,
   "id": "db2289bc",
   "metadata": {},
   "outputs": [
    {
     "name": "stdout",
     "output_type": "stream",
     "text": [
      "page_content='목차 \n",
      " \n",
      "*도매로 동등 \n",
      "2023 회계연도 매출 총이익 감소는 주로 다음과 같은 이유 때문이었습니다. \n",
      "• 도매 등가 기준으로 NIKE 브랜드 제품 비용 상승, 주로 투입 비용 증가, 인바운드 화물 및 물류 비용 상승, 제품 믹스 때문; \n",
      "• NIKE Direct 사업의 마진 감소, 가용 재고 공급 감소로 인한 이전 기간의 낮은 판촉 활동과 비교하여 현재 기간 동안 재고를 청산하기 위한 더 높은 판촉 활동으로 인한 것; \n",
      "• 헤지를 포함한 순 외화 환율의 불리한 변화; 그리고 \n",
      "• 도매와 동등한 기준으로 오프 가격 마진을 낮춥니다. \n",
      "이것은 부분적으로 다음과 같이 상쇄되었습니다. \n",
      "• 더 높은 NIKE 브랜드 정가 ASP, 도매 등가 기준으로 할인의 순 가치는 주로 전략적 가격 책정 조치 및 제품 믹스로 인합니다. 그리고 \n",
      "• 주로 2022 회계연도 4 분기에 중화권에서 인식된 더 높은 재고 노후화 준비금으로 인한 기타 비용 감소. \n",
      "총 판매 및 관리 비용 \n",
      "(백만 달러) 2023 회계연도 2022 회계연도 변동률(%) 2021 회계연도 변동률(%) \n",
      "수요 창출 비용(1) $ 4,060  $ 3,850   5 % $ 3,114  24 % \n",
      "영업간접비  12,317   10,954  12 % 9,911  11 % \n",
      "총 판매 및 관리 비용 $ 16,377  $ 14,804   11 % $ 13,025  14 % \n",
      "매출 대비 %  32.0 %  31.7 % 30 의 bps 29.2 % 250 의 bps \n",
      "(1) 수요 창출 비용은 보증 계약 비용, 무료 제품, TV, 디지털 및 인쇄 광고 및 미디어 비용, 브랜드 이벤트 및 소매 브랜드 프레젠테이션 비용을 포함한 광고 및 판촉 비용으로 구성됩니다. \n",
      "2023 회계연도와 2022 회계연도 비교 \n",
      "2023 회계연도에 수요 창출 비용은 5% 증가했는데, 이는 주로 광고 및 마케팅 비용 증가와 스포츠 마케팅 비용 증가에 기인합니다. 외환 환율 변동은 수요 창출 비용을 약 4% \n",
      "포인트 감소시켰습니다.' metadata={'total_pages': 103, 'page_label': '31', 'author': 'EDGAR Online, a division of Donnelley Financial Solutions', 'creator': 'Microsoft® Word Microsoft 365용', 'moddate': '2024-12-26T10:17:40+09:00', 'page': 30, 'start_index': 0, 'source': './example_data/nke-10k-2023_korean.pdf', 'producer': 'Microsoft® Word Microsoft 365용', 'creationdate': '2024-12-26T10:17:40+09:00', 'title': '0000320187-23-000039', 'keywords': '0000320187-23-000039; ; 10-K', 'subject': 'Form 10-K filed on 2023-07-20 for the period ending 2023-05-31'}\n"
     ]
    }
   ],
   "source": [
    "embedding = embeddings.embed_query(\"2023년 Nike의 마진은 어떻게 영향을 받았나요?\")\n",
    "\n",
    "results = vector_store.similarity_search_by_vector(embedding)\n",
    "print(results[0])"
   ]
  },
  {
   "cell_type": "markdown",
   "id": "168dbbec-ea97-4cc9-bb1a-75519c2d08af",
   "metadata": {
    "id": "168dbbec-ea97-4cc9-bb1a-75519c2d08af"
   },
   "source": [
    "## **검색기 (Retrievers)**  \n",
    "\n",
    "LangChain의 **`VectorStore` 객체**는 [**Runnable**](https://python.langchain.com/api_reference/core/index.html#langchain-core-runnables)의 서브클래스가 아닙니다. 반면, **[Retrievers](https://python.langchain.com/api_reference/core/index.html#langchain-core-retrievers)** 는 **Runnable**의 서브클래스입니다. 따라서 **동기(Synchronous)** 및 **비동기(Asynchronous)** `invoke`와 `batch` 작업과 같은 표준 메서드 집합을 구현합니다.  \n",
    "\n",
    "### **검색기 vs 벡터 스토어**  \n",
    "- **벡터 스토어(VectorStore)**: 벡터화된 데이터를 저장하고 쿼리합니다.  \n",
    "- **검색기(Retriever)**: 벡터 스토어를 활용하거나 외부 API와 같은 **비벡터 데이터 소스**와도 통신할 수 있습니다.  "
   ]
  },
  {
   "cell_type": "markdown",
   "id": "c3d4e11e-9e50-49b1-8905-33fdaad71a19",
   "metadata": {},
   "source": [
    "`@chain`을 이용하여 runnable 형태의 검색기를 직접 구현할 수 있습니다."
   ]
  },
  {
   "cell_type": "code",
   "execution_count": 31,
   "id": "42e1c328-dfd8-48b4-96bc-5aa45749fbbe",
   "metadata": {},
   "outputs": [
    {
     "data": {
      "text/plain": [
       "[[Document(id='b1896093-2fd2-47e2-97fe-dfb44947a0d4', metadata={'total_pages': 103, 'author': 'EDGAR Online, a division of Donnelley Financial Solutions', 'moddate': '2024-12-26T10:17:40+09:00', 'creationdate': '2024-12-26T10:17:40+09:00', 'source': './example_data/nke-10k-2023_korean.pdf', 'keywords': '0000320187-23-000039; ; 10-K', 'page_label': '83', 'start_index': 0, 'title': '0000320187-23-000039', 'subject': 'Form 10-K filed on 2023-07-20 for the period ending 2023-05-31', 'page': 82, 'creator': 'Microsoft® Word Microsoft 365용', 'producer': 'Microsoft® Word Microsoft 365용'}, page_content='목차 \\n연말 5 월 31 일, \\n \\n(백만 달러) 2023 2022 2021 \\n수익      \\n북아메리카 $ 21,608  $ 18,353 $ 17,179  \\n유럽, 중동 및 아프리카  13,418   12,479  11,456  \\n중화권  7,248   7,547  8,290  \\n아시아 태평양 및 라틴 아메리카  6,431   5,955  5,343  \\n글로벌 브랜드 사업부  58   102  25  \\n총 NIKE 브랜드  48,763   44,436  42,293  \\n대화  2,427   2,346  2,205  \\n기업  27   (72) 40  \\nNIKE, INC. 총 매출 $ 51,217  $ 46,710 $ 44,538  \\n이자 및 세금 차감 전 이익      \\n북아메리카 $ 5,454  $ 5,114 $ 5,089  \\n유럽, 중동 및 아프리카  3,531   3,293  2,435  \\n중화권  2,283   2,365  3,243  \\n아시아 태평양 및 라틴 아메리카  1,932   1,896  1,530  \\n글로벌 브랜드 사업부  (4,841)  (4,262) (3,656) \\n대화  676   669  543  \\n기업  (2,840)  (2,219) (2,261) \\n이자비용(수입), 순  (6)  205  262  \\nTOTAL NIKE, INC. 소득세 전 소득 $ 6,201  $ 6,651 $ 6,661  \\n재산, 공장 및 장비에 대한 추가 사항      \\n북아메리카 $ 283  $ 146 $ 98  \\n유럽, 중동 및 아프리카  215   197  153  \\n중화권  56   78  94  \\n아시아 태평양 및 라틴 아메리카  64   56  54  \\n글로벌 브랜드 사업부  271   222  278  \\n총 NIKE 브랜드  889   699  677  \\n대화  7   9  7  \\n기업  140   103  107')],\n",
       " [Document(id='f94d5c55-97c5-42db-98d3-9299a99e269d', metadata={'moddate': '2024-12-26T10:17:40+09:00', 'creator': 'Microsoft® Word Microsoft 365용', 'page': 30, 'keywords': '0000320187-23-000039; ; 10-K', 'producer': 'Microsoft® Word Microsoft 365용', 'total_pages': 103, 'subject': 'Form 10-K filed on 2023-07-20 for the period ending 2023-05-31', 'creationdate': '2024-12-26T10:17:40+09:00', 'title': '0000320187-23-000039', 'source': './example_data/nke-10k-2023_korean.pdf', 'page_label': '31', 'author': 'EDGAR Online, a division of Donnelley Financial Solutions', 'start_index': 0}, page_content='목차 \\n \\n*도매로 동등 \\n2023 회계연도 매출 총이익 감소는 주로 다음과 같은 이유 때문이었습니다. \\n• 도매 등가 기준으로 NIKE 브랜드 제품 비용 상승, 주로 투입 비용 증가, 인바운드 화물 및 물류 비용 상승, 제품 믹스 때문; \\n• NIKE Direct 사업의 마진 감소, 가용 재고 공급 감소로 인한 이전 기간의 낮은 판촉 활동과 비교하여 현재 기간 동안 재고를 청산하기 위한 더 높은 판촉 활동으로 인한 것; \\n• 헤지를 포함한 순 외화 환율의 불리한 변화; 그리고 \\n• 도매와 동등한 기준으로 오프 가격 마진을 낮춥니다. \\n이것은 부분적으로 다음과 같이 상쇄되었습니다. \\n• 더 높은 NIKE 브랜드 정가 ASP, 도매 등가 기준으로 할인의 순 가치는 주로 전략적 가격 책정 조치 및 제품 믹스로 인합니다. 그리고 \\n• 주로 2022 회계연도 4 분기에 중화권에서 인식된 더 높은 재고 노후화 준비금으로 인한 기타 비용 감소. \\n총 판매 및 관리 비용 \\n(백만 달러) 2023 회계연도 2022 회계연도 변동률(%) 2021 회계연도 변동률(%) \\n수요 창출 비용(1) $ 4,060  $ 3,850   5 % $ 3,114  24 % \\n영업간접비  12,317   10,954  12 % 9,911  11 % \\n총 판매 및 관리 비용 $ 16,377  $ 14,804   11 % $ 13,025  14 % \\n매출 대비 %  32.0 %  31.7 % 30 의 bps 29.2 % 250 의 bps \\n(1) 수요 창출 비용은 보증 계약 비용, 무료 제품, TV, 디지털 및 인쇄 광고 및 미디어 비용, 브랜드 이벤트 및 소매 브랜드 프레젠테이션 비용을 포함한 광고 및 판촉 비용으로 구성됩니다. \\n2023 회계연도와 2022 회계연도 비교 \\n2023 회계연도에 수요 창출 비용은 5% 증가했는데, 이는 주로 광고 및 마케팅 비용 증가와 스포츠 마케팅 비용 증가에 기인합니다. 외환 환율 변동은 수요 창출 비용을 약 4% \\n포인트 감소시켰습니다.')]]"
      ]
     },
     "execution_count": 31,
     "metadata": {},
     "output_type": "execute_result"
    }
   ],
   "source": [
    "from typing import List\n",
    "\n",
    "from langchain_core.documents import Document\n",
    "from langchain_core.runnables import chain\n",
    "\n",
    "@chain\n",
    "def retriever(query: str) -> List[Document]:\n",
    "    return vector_store.similarity_search(query, k=1)\n",
    "\n",
    "# 여러 개의 쿼리를 동시에 실행하여 검색 결과를 반환합니다.\n",
    "results = retriever.batch(\n",
    "    [\n",
    "        \"2023년 Nike의 매출은 얼마였나요?\",  # 첫 번째 쿼리: 2023년 Nike의 매출 정보\n",
    "        \"2023년 Nike의 마진은 어떻게 영향을 받았나요?\",  # 두 번째 쿼리: 2023년 Nike의 마진 영향\n",
    "    ],\n",
    ")\n",
    "\n",
    "results"
   ]
  },
  {
   "cell_type": "code",
   "execution_count": 32,
   "id": "afd86ac4-cc91-448f-9e3f-44f916871261",
   "metadata": {},
   "outputs": [
    {
     "name": "stdout",
     "output_type": "stream",
     "text": [
      "목차 \n",
      "연말 5 월 31 일, \n",
      " \n",
      "(백만 달러) 2023 2022 2021 \n",
      "수익      \n",
      "북아메리카 $ 21,608  $ 18,353 $ 17,179  \n",
      "유럽, 중동 및 아프리카  13,418   12,479  11,456  \n",
      "중화권  7,248   7,547  8,290  \n",
      "아시아 태평양 및 라틴 아메리카  6,431   5,955  5,343  \n",
      "글로벌 브랜드 사업부  58   102  25  \n",
      "총 NIKE 브랜드  48,763   44,436  42,293  \n",
      "대화  2,427   2,346  2,205  \n",
      "기업  27   (72) 40  \n",
      "NIKE, INC. 총 매출 $ 51,217  $ 46,710 $ 44,538  \n",
      "이자 및 세금 차감 전 이익      \n",
      "북아메리카 $ 5,454  $ 5,114 $ 5,089  \n",
      "유럽, 중동 및 아프리카  3,531   3,293  2,435  \n",
      "중화권  2,283   2,365  3,243  \n",
      "아시아 태평양 및 라틴 아메리카  1,932   1,896  1,530  \n",
      "글로벌 브랜드 사업부  (4,841)  (4,262) (3,656) \n",
      "대화  676   669  543  \n",
      "기업  (2,840)  (2,219) (2,261) \n",
      "이자비용(수입), 순  (6)  205  262  \n",
      "TOTAL NIKE, INC. 소득세 전 소득 $ 6,201  $ 6,651 $ 6,661  \n",
      "재산, 공장 및 장비에 대한 추가 사항      \n",
      "북아메리카 $ 283  $ 146 $ 98  \n",
      "유럽, 중동 및 아프리카  215   197  153  \n",
      "중화권  56   78  94  \n",
      "아시아 태평양 및 라틴 아메리카  64   56  54  \n",
      "글로벌 브랜드 사업부  271   222  278  \n",
      "총 NIKE 브랜드  889   699  677  \n",
      "대화  7   9  7  \n",
      "기업  140   103  107\n",
      "목차 \n",
      " \n",
      "*도매로 동등 \n",
      "2023 회계연도 매출 총이익 감소는 주로 다음과 같은 이유 때문이었습니다. \n",
      "• 도매 등가 기준으로 NIKE 브랜드 제품 비용 상승, 주로 투입 비용 증가, 인바운드 화물 및 물류 비용 상승, 제품 믹스 때문; \n",
      "• NIKE Direct 사업의 마진 감소, 가용 재고 공급 감소로 인한 이전 기간의 낮은 판촉 활동과 비교하여 현재 기간 동안 재고를 청산하기 위한 더 높은 판촉 활동으로 인한 것; \n",
      "• 헤지를 포함한 순 외화 환율의 불리한 변화; 그리고 \n",
      "• 도매와 동등한 기준으로 오프 가격 마진을 낮춥니다. \n",
      "이것은 부분적으로 다음과 같이 상쇄되었습니다. \n",
      "• 더 높은 NIKE 브랜드 정가 ASP, 도매 등가 기준으로 할인의 순 가치는 주로 전략적 가격 책정 조치 및 제품 믹스로 인합니다. 그리고 \n",
      "• 주로 2022 회계연도 4 분기에 중화권에서 인식된 더 높은 재고 노후화 준비금으로 인한 기타 비용 감소. \n",
      "총 판매 및 관리 비용 \n",
      "(백만 달러) 2023 회계연도 2022 회계연도 변동률(%) 2021 회계연도 변동률(%) \n",
      "수요 창출 비용(1) $ 4,060  $ 3,850   5 % $ 3,114  24 % \n",
      "영업간접비  12,317   10,954  12 % 9,911  11 % \n",
      "총 판매 및 관리 비용 $ 16,377  $ 14,804   11 % $ 13,025  14 % \n",
      "매출 대비 %  32.0 %  31.7 % 30 의 bps 29.2 % 250 의 bps \n",
      "(1) 수요 창출 비용은 보증 계약 비용, 무료 제품, TV, 디지털 및 인쇄 광고 및 미디어 비용, 브랜드 이벤트 및 소매 브랜드 프레젠테이션 비용을 포함한 광고 및 판촉 비용으로 구성됩니다. \n",
      "2023 회계연도와 2022 회계연도 비교 \n",
      "2023 회계연도에 수요 창출 비용은 5% 증가했는데, 이는 주로 광고 및 마케팅 비용 증가와 스포츠 마케팅 비용 증가에 기인합니다. 외환 환율 변동은 수요 창출 비용을 약 4% \n",
      "포인트 감소시켰습니다.\n"
     ]
    }
   ],
   "source": [
    "for doc in results:\n",
    "    print(doc[0].page_content)"
   ]
  },
  {
   "cell_type": "markdown",
   "id": "a36d3f64-a8bc-4baa-b2ea-07e324a0143e",
   "metadata": {
    "id": "a36d3f64-a8bc-4baa-b2ea-07e324a0143e"
   },
   "source": [
    "**벡터 스토어(Vectorstores)** 는 **`as_retriever`** 메서드를 구현하며, 이를 통해 **[VectorStoreRetriever](https://python.langchain.com/api_reference/core/vectorstores/langchain_core.vectorstores.base.VectorStoreRetriever.html)** 를 생성할 수 있습니다.  \n",
    "\n",
    "이 검색기(Retriever)는 특정 **`search_type`** 및 **`search_kwargs`** 속성을 포함하며, 이를 통해 **벡터 스토어의 어떤 메서드를 호출할지**, 그리고 **어떻게 매개변수를 설정할지**를 정의합니다.  \n",
    "\n",
    "| 항목                 | `similarity`                     | `mmr` (Maximum Marginal Relevance)      | `similarity_score_threshold`              |\n",
    "| ------------------ | -------------------------------- | --------------------------------------- | ----------------------------------------- |\n",
    "| 🔍 검색 기준           | 질의(query)와 가장 **유사한 벡터**를 단순히 선택 | 유사도 + **결과 간 다양성** 고려                   | 유사도 기준을 **임계값 이상**으로 제한                   |\n",
    "| 🎯 목적              | 가장 관련성 높은 문서 찾기                  | 중복 없이 **정보 다양성 확보**                     | 너무 유사하지 않은 문서 제거                          |\n",
    "| ⚙️ 주요 파라미터         | `k`: 반환할 문서 수                    | `k`: 개수<br>`lambda_mult`: 다양성 비율 (0\\~1) | `score_threshold`: 최소 유사도<br>`k`: 최대 문서 수 |\n",
    "| 📈 적합한 경우          | 단순 정보 검색                         | 요약, RAG 등에서 다양한 관점 필요할 때                | 정확도 높은 문서만 사용하고 싶을 때                      |\n",
    "| 🚫 주의점             | 중복된 내용이 나올 수 있음                  | 다양성 높이려다 **정확도 저하** 가능                  | `score_threshold` 너무 높으면 결과 없을 수도 있음      |\n",
    "\n",
    "\n",
    "예를 들어, 위의 예제를 다음과 같이 재현할 수 있습니다:  "
   ]
  },
  {
   "cell_type": "code",
   "execution_count": 36,
   "id": "1eaaa836",
   "metadata": {},
   "outputs": [
    {
     "data": {
      "text/plain": [
       "[[Document(id='b1896093-2fd2-47e2-97fe-dfb44947a0d4', metadata={'start_index': 0, 'title': '0000320187-23-000039', 'creationdate': '2024-12-26T10:17:40+09:00', 'author': 'EDGAR Online, a division of Donnelley Financial Solutions', 'moddate': '2024-12-26T10:17:40+09:00', 'subject': 'Form 10-K filed on 2023-07-20 for the period ending 2023-05-31', 'creator': 'Microsoft® Word Microsoft 365용', 'page_label': '83', 'total_pages': 103, 'page': 82, 'producer': 'Microsoft® Word Microsoft 365용', 'keywords': '0000320187-23-000039; ; 10-K', 'source': './example_data/nke-10k-2023_korean.pdf'}, page_content='목차 \\n연말 5 월 31 일, \\n \\n(백만 달러) 2023 2022 2021 \\n수익      \\n북아메리카 $ 21,608  $ 18,353 $ 17,179  \\n유럽, 중동 및 아프리카  13,418   12,479  11,456  \\n중화권  7,248   7,547  8,290  \\n아시아 태평양 및 라틴 아메리카  6,431   5,955  5,343  \\n글로벌 브랜드 사업부  58   102  25  \\n총 NIKE 브랜드  48,763   44,436  42,293  \\n대화  2,427   2,346  2,205  \\n기업  27   (72) 40  \\nNIKE, INC. 총 매출 $ 51,217  $ 46,710 $ 44,538  \\n이자 및 세금 차감 전 이익      \\n북아메리카 $ 5,454  $ 5,114 $ 5,089  \\n유럽, 중동 및 아프리카  3,531   3,293  2,435  \\n중화권  2,283   2,365  3,243  \\n아시아 태평양 및 라틴 아메리카  1,932   1,896  1,530  \\n글로벌 브랜드 사업부  (4,841)  (4,262) (3,656) \\n대화  676   669  543  \\n기업  (2,840)  (2,219) (2,261) \\n이자비용(수입), 순  (6)  205  262  \\nTOTAL NIKE, INC. 소득세 전 소득 $ 6,201  $ 6,651 $ 6,661  \\n재산, 공장 및 장비에 대한 추가 사항      \\n북아메리카 $ 283  $ 146 $ 98  \\n유럽, 중동 및 아프리카  215   197  153  \\n중화권  56   78  94  \\n아시아 태평양 및 라틴 아메리카  64   56  54  \\n글로벌 브랜드 사업부  271   222  278  \\n총 NIKE 브랜드  889   699  677  \\n대화  7   9  7  \\n기업  140   103  107')],\n",
       " [Document(id='f94d5c55-97c5-42db-98d3-9299a99e269d', metadata={'producer': 'Microsoft® Word Microsoft 365용', 'moddate': '2024-12-26T10:17:40+09:00', 'keywords': '0000320187-23-000039; ; 10-K', 'title': '0000320187-23-000039', 'subject': 'Form 10-K filed on 2023-07-20 for the period ending 2023-05-31', 'source': './example_data/nke-10k-2023_korean.pdf', 'page': 30, 'start_index': 0, 'creationdate': '2024-12-26T10:17:40+09:00', 'creator': 'Microsoft® Word Microsoft 365용', 'author': 'EDGAR Online, a division of Donnelley Financial Solutions', 'total_pages': 103, 'page_label': '31'}, page_content='목차 \\n \\n*도매로 동등 \\n2023 회계연도 매출 총이익 감소는 주로 다음과 같은 이유 때문이었습니다. \\n• 도매 등가 기준으로 NIKE 브랜드 제품 비용 상승, 주로 투입 비용 증가, 인바운드 화물 및 물류 비용 상승, 제품 믹스 때문; \\n• NIKE Direct 사업의 마진 감소, 가용 재고 공급 감소로 인한 이전 기간의 낮은 판촉 활동과 비교하여 현재 기간 동안 재고를 청산하기 위한 더 높은 판촉 활동으로 인한 것; \\n• 헤지를 포함한 순 외화 환율의 불리한 변화; 그리고 \\n• 도매와 동등한 기준으로 오프 가격 마진을 낮춥니다. \\n이것은 부분적으로 다음과 같이 상쇄되었습니다. \\n• 더 높은 NIKE 브랜드 정가 ASP, 도매 등가 기준으로 할인의 순 가치는 주로 전략적 가격 책정 조치 및 제품 믹스로 인합니다. 그리고 \\n• 주로 2022 회계연도 4 분기에 중화권에서 인식된 더 높은 재고 노후화 준비금으로 인한 기타 비용 감소. \\n총 판매 및 관리 비용 \\n(백만 달러) 2023 회계연도 2022 회계연도 변동률(%) 2021 회계연도 변동률(%) \\n수요 창출 비용(1) $ 4,060  $ 3,850   5 % $ 3,114  24 % \\n영업간접비  12,317   10,954  12 % 9,911  11 % \\n총 판매 및 관리 비용 $ 16,377  $ 14,804   11 % $ 13,025  14 % \\n매출 대비 %  32.0 %  31.7 % 30 의 bps 29.2 % 250 의 bps \\n(1) 수요 창출 비용은 보증 계약 비용, 무료 제품, TV, 디지털 및 인쇄 광고 및 미디어 비용, 브랜드 이벤트 및 소매 브랜드 프레젠테이션 비용을 포함한 광고 및 판촉 비용으로 구성됩니다. \\n2023 회계연도와 2022 회계연도 비교 \\n2023 회계연도에 수요 창출 비용은 5% 증가했는데, 이는 주로 광고 및 마케팅 비용 증가와 스포츠 마케팅 비용 증가에 기인합니다. 외환 환율 변동은 수요 창출 비용을 약 4% \\n포인트 감소시켰습니다.')]]"
      ]
     },
     "execution_count": 36,
     "metadata": {},
     "output_type": "execute_result"
    }
   ],
   "source": [
    "# `as_retriever` 메서드를 사용하여 벡터 스토어를 검색기 객체로 변환합니다.\n",
    "retriever = vector_store.as_retriever(\n",
    "    search_type=\"similarity\",  # 검색 유형을 'similarity'(유사도)로 설정\n",
    "    search_kwargs={\"k\": 1},  # 상위 1개의 유사한 결과만 반환하도록 설정\n",
    ")\n",
    "\n",
    "# MMR 방식 (Maximum Marginal Relevance) - 검색 결과 다양성을 증가\n",
    "retriever_mmr = vector_store.as_retriever(\n",
    "    search_type=\"mmr\",\n",
    "    search_kwargs={\"k\": 1, \"lambda_mult\": 0.5}  # lambda_mult 조절 가능 (0~1 사이 값)\n",
    ")\n",
    "\n",
    "# Similarity Score Threshold 방식 - 일정 유사도 이상인 문서만 반환\n",
    "retriever_threshold = vector_store.as_retriever(\n",
    "    search_type=\"similarity_score_threshold\",\n",
    "    search_kwargs={\"score_threshold\": 0.8, \"k\": 1}  # 0.8 이상의 유사도 점수를 가진 문서만 반환\n",
    ")\n",
    "\n",
    "# 여러 개의 쿼리를 동시에 실행하여 검색 결과를 반환합니다.\n",
    "retriever.batch(\n",
    "    [\n",
    "        \"2023년 Nike의 매출은 얼마였나요?\",  # 첫 번째 쿼리: 2023년 Nike의 매출 정보\n",
    "        \"2023년 Nike의 마진은 어떻게 영향을 받았나요?\",  # 두 번째 쿼리: 2023년 Nike의 마진 영향\n",
    "    ],\n",
    ")"
   ]
  },
  {
   "cell_type": "code",
   "execution_count": null,
   "id": "0218a7d1-44ff-42e2-aa78-fb1335cf5eb6",
   "metadata": {},
   "outputs": [],
   "source": []
  }
 ],
 "metadata": {
  "colab": {
   "provenance": []
  },
  "kernelspec": {
   "display_name": "Python 3 (ipykernel)",
   "language": "python",
   "name": "python3"
  },
  "language_info": {
   "codemirror_mode": {
    "name": "ipython",
    "version": 3
   },
   "file_extension": ".py",
   "mimetype": "text/x-python",
   "name": "python",
   "nbconvert_exporter": "python",
   "pygments_lexer": "ipython3",
   "version": "3.13.7"
  }
 },
 "nbformat": 4,
 "nbformat_minor": 5
}
